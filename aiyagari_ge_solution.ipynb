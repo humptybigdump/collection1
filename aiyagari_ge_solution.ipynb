{
 "cells": [
  {
   "cell_type": "code",
   "execution_count": 1,
   "id": "2ff375d8",
   "metadata": {},
   "outputs": [],
   "source": [
    "import numpy as np\n",
    "import matplotlib.pyplot as plt\n",
    "import scipy\n",
    "import scipy.sparse"
   ]
  },
  {
   "cell_type": "markdown",
   "id": "ac5f222b",
   "metadata": {},
   "source": [
    "### Labor Productivity Process\n",
    "In the Aiyagari (1994) model, household (log-) labor productivity, $\\varepsilon_t$, follows an AR(1) process with persistence parameter $\\rho$. To simplify the model solution, we approximate the AR(1) process using a discrete Markov chain. This approximation is performed using \"Tauchen's method,\" a standard approach for discretizing continuous state spaces. The function `approx_markov` is used to generate the corresponding Markov chain."
   ]
  },
  {
   "cell_type": "code",
   "execution_count": 2,
   "id": "4882b751",
   "metadata": {},
   "outputs": [],
   "source": [
    "def approx_markov(rho, sigma_u, m=3, n=7):\n",
    "    \"\"\"\n",
    "    Computes the Markov matrix associated with a discretized version of\n",
    "    the linear Gaussian AR(1) process\n",
    "\n",
    "        y_{t+1} = rho * y_t + u_{t+1}\n",
    "\n",
    "    according to Tauchen's method.  Here {u_t} is an iid Gaussian\n",
    "    process with zero mean.\n",
    "\n",
    "    Parameters\n",
    "    ----------\n",
    "    rho : scalar(float)\n",
    "        The autocorrelation coefficient\n",
    "    sigma_u : scalar(float)\n",
    "        The standard deviation of the random process\n",
    "    m : scalar(int), optional(default=3)\n",
    "        The number of standard deviations to approximate out to\n",
    "    n : scalar(int), optional(default=7)\n",
    "        The number of states to use in the approximation\n",
    "\n",
    "    Returns\n",
    "    -------\n",
    "\n",
    "    x : array_like(float, ndim=1)\n",
    "        The state space of the discretized process\n",
    "    P : array_like(float, ndim=2)\n",
    "        The Markov transition matrix where P[i, j] is the probability\n",
    "        of transitioning from x[i] to x[j]\n",
    "\n",
    "    \"\"\"\n",
    "    F = scipy.stats.norm(loc=0, scale=sigma_u).cdf\n",
    "\n",
    "    # standard deviation of y_t\n",
    "    std_y = np.sqrt(sigma_u**2 / (1-rho**2))\n",
    "\n",
    "    # top of discrete state space\n",
    "    x_max = m * std_y\n",
    "\n",
    "    # bottom of discrete state space\n",
    "    x_min = - x_max\n",
    "\n",
    "    # discretized state space\n",
    "    x = np.linspace(x_min, x_max, n)\n",
    "\n",
    "    step = (x_max - x_min) / (n - 1)\n",
    "    half_step = 0.5 * step\n",
    "    P = np.empty((n, n))\n",
    "\n",
    "    for i in range(n):\n",
    "        P[i, 0] = F(x[0]-rho * x[i] + half_step)\n",
    "        P[i, n-1] = 1 - F(x[n-1] - rho * x[i] - half_step)\n",
    "        for j in range(1, n-1):\n",
    "            z = x[j] - rho * x[i]\n",
    "            P[i, j] = F(z + half_step) - F(z - half_step)\n",
    "\n",
    "    return x, P"
   ]
  },
  {
   "cell_type": "markdown",
   "id": "a76aab8f",
   "metadata": {},
   "source": [
    "In the next step we generate the markov chain approximation of an AR(1) process with `neta=7` realizations, persistence $\\rho=0.965$, and standard deviation $\\sigma=0.25$. The realizations of the shock are given by `y` and the transition matrix is given by `yprob`."
   ]
  },
  {
   "cell_type": "code",
   "execution_count": 3,
   "id": "70ad521a",
   "metadata": {},
   "outputs": [],
   "source": [
    "neta = 7 # number of realizations\n",
    "rho_e = 0.965 # persistence\n",
    "sig_e = 0.25 # standard deviation\n",
    "\n",
    "# discretize the AR-process into a markov chain\n",
    "y, yprob = approx_markov(rho_e, sig_e, 3, neta)\n",
    "\n",
    "# normalization\n",
    "y = np.exp(y)"
   ]
  },
  {
   "cell_type": "markdown",
   "id": "98b40094",
   "metadata": {},
   "source": [
    "Next we compute the stationary distribution of the process, and the mean labor supply under the AR(1) process."
   ]
  },
  {
   "cell_type": "code",
   "execution_count": 4,
   "id": "9273e561",
   "metadata": {},
   "outputs": [],
   "source": [
    "# find the stationary distribution of the markov chain\n",
    "S, U = scipy.linalg.eig(yprob.T)\n",
    "pistar = np.array(U[:, np.where(np.abs(S - 1.) < 1e-8)[0][0]].flat)\n",
    "pistar = pistar / np.sum(pistar)\n",
    "\n",
    "# aggregate labor supply\n",
    "var_x = sig_e**2.0 / (1.0 - rho_e**2.0)\n",
    "labor = np.exp(var_x / 2.0)"
   ]
  },
  {
   "cell_type": "markdown",
   "id": "14a88e99",
   "metadata": {},
   "source": [
    "### Model Setup\n",
    "In this section we set the model paramteres, and we set up a grid over assets."
   ]
  },
  {
   "cell_type": "code",
   "execution_count": 5,
   "id": "f8ac9cee",
   "metadata": {},
   "outputs": [],
   "source": [
    "# ECONOMIC PARAMETERS\n",
    "\n",
    "# risk aversion\n",
    "gam = 2.0\n",
    "# rate of depreciation\n",
    "delta = 0.08\n",
    "# discount factor\n",
    "betta = 0.92\n",
    "# capital share of income\n",
    "alpha = 0.33\n",
    "\n",
    "# GRID PARAMETERS\n",
    "\n",
    "# number of points\n",
    "na = 101\n",
    "# lower bound\n",
    "amin = 0.0\n",
    "# upper bound\n",
    "amax = 500.0\n",
    "\n",
    "# construct grid for the household problem\n",
    "agrid = np.exp(np.linspace(np.log(1+amin), np.log(1+amax), na))-1.0"
   ]
  },
  {
   "cell_type": "markdown",
   "id": "ede53bfe",
   "metadata": {},
   "source": [
    "### Household Problem\n",
    "The solution of the household problem given an exogenous interest rate was the content of last weeks exercise. Therefore, we treat it as given today. The solution algorithm is wrapped in a Python function ``compute_pe`` that takes an interest rate as given, and return the matrix of endogenous asset states and the consumption policy on the exogenous grid. Below you find an example how to solve the household problem."
   ]
  },
  {
   "cell_type": "code",
   "execution_count": 6,
   "id": "045142c8",
   "metadata": {},
   "outputs": [],
   "source": [
    "def compute_pe(irate):\n",
    "    \n",
    "    # technical parameters\n",
    "    maxiter = 10000\n",
    "    epsilon = 1e-7\n",
    "\n",
    "    # calculate agg. capital and wage rate implied by the interest rate\n",
    "    cap = ((labor ** (alpha - 1.0) * (delta + irate)) / alpha) ** (1.0 / (alpha - 1.0))\n",
    "    wage = (1.0 - alpha) * cap ** alpha * labor ** (-alpha)\n",
    "\n",
    "    # pre-allocation\n",
    "    c_guess = np.zeros((na, neta))\n",
    "    c_new = np.zeros((na, neta))\n",
    "    a_endo = np.zeros((na, neta))\n",
    "    a_star = np.zeros(neta)\n",
    "    con = np.zeros((na, neta))\n",
    "    ap = np.zeros((na, neta))\n",
    "\n",
    "    # set a guess for the consumption policy\n",
    "    for iy in range(neta):\n",
    "        c_guess[:, iy] = irate * agrid + wage * y[iy]\n",
    "\n",
    "    for iter0 in range(maxiter):\n",
    "\n",
    "        # Step 1: Determine the grid points where the borrowing constraint is just binding\n",
    "        for ia in range(na):\n",
    "            for iy in range(neta):\n",
    "                # Calculate the RHS of equation (5)\n",
    "                rhs = betta * (1.0 + irate) * c_guess[ia, :] ** (-gam) @ np.transpose(yprob[iy, :])\n",
    "                # Calculate the implied consumption (as a function of a')\n",
    "                c_new[ia, iy] = rhs ** (-1.0 / gam)\n",
    "                # Use the budget constraint to calculate the implied savings today (as a function of a')\n",
    "                a_endo[ia, iy] = (agrid[ia] + c_new[ia, iy] - wage * y[iy]) / (1.0 + irate)\n",
    "\n",
    "                # Calculate savings today that correspond to a choice of a'=0\n",
    "                if (ia == 0):\n",
    "                    a_star[iy] = a_endo[0, iy]\n",
    "\n",
    "        # Step 2: Retrieve an updated guess for the consumption policy\n",
    "        for ia in range(na):\n",
    "            for iy in range(neta):\n",
    "                # In this case, use the budget constraint to determine consumption\n",
    "                if (agrid[ia] < a_star[iy]):\n",
    "                    con[ia, iy] = (1.0 + irate) * agrid[ia] + wage * y[iy]\n",
    "                    ap[ia, iy] = 0.0\n",
    "                else:\n",
    "                    # In this case, use linear interpolation to determine consumption\n",
    "                    con[ia, iy] = np.interp(agrid[ia], a_endo[:, iy], c_new[:, iy])\n",
    "                    ap[ia, iy] = (1.0 + irate) * agrid[ia] + wage * y[iy] - con[ia, iy]\n",
    "\n",
    "        metricEGM = np.amax(np.abs(con - c_guess))\n",
    "\n",
    "        tolEGM = epsilon * (1.0 + np.amax(np.amax(np.abs(c_guess))))\n",
    "\n",
    "        if (metricEGM < tolEGM):\n",
    "            break\n",
    "\n",
    "        # The new guess for the consumption policy\n",
    "        c_guess = np.copy(con)\n",
    "\n",
    "    return a_endo, con"
   ]
  },
  {
   "cell_type": "code",
   "execution_count": 7,
   "id": "ce9b9901",
   "metadata": {},
   "outputs": [
    {
     "data": {
      "image/png": "[encoded data removed]",
      "text/plain": [
       "<Figure size 432x288 with 1 Axes>"
      ]
     },
     "metadata": {
      "needs_background": "light"
     },
     "output_type": "display_data"
    }
   ],
   "source": [
    "# EXAMPLE\n",
    "irate = 0.04\n",
    "a_endo, con = compute_pe(irate)\n",
    "\n",
    "plt.figure()\n",
    "for i in range(neta):\n",
    "    plt.plot(agrid, con[:, i])\n",
    "plt.show()"
   ]
  },
  {
   "cell_type": "markdown",
   "id": "b0418f62",
   "metadata": {},
   "source": [
    "### Main Algorithm\n",
    "Today's task is to compute the equilibrium interest rate. To do so we need to a) find the stationary distribution implied by households saving behavior given a guessed interest rate, and b) adjust our interest rate guess based on the excess demand of capital."
   ]
  },
  {
   "cell_type": "code",
   "execution_count": 9,
   "id": "9263e8ee",
   "metadata": {},
   "outputs": [
    {
     "name": "stdout",
     "output_type": "stream",
     "text": [
      "interest rate guess:  0.34782608695651945  excess demand for capital:  5.0569213632568975\n",
      "interest rate guess:  4.52173913043478  excess demand for capital:  -9.883999854502875\n",
      "interest rate guess:  2.434782608695649  excess demand for capital:  -1.8470914252480224\n",
      "interest rate guess:  1.3913043478260845  excess demand for capital:  1.5675973601086586\n",
      "interest rate guess:  1.9130434782608667  excess demand for capital:  -0.1293138056310088\n",
      "interest rate guess:  1.6521739130434754  excess demand for capital:  0.7191562830816398\n",
      "interest rate guess:  1.782608695652171  excess demand for capital:  0.2952278948255298\n",
      "interest rate guess:  1.8478260869565186  excess demand for capital:  0.08308279480294978\n",
      "interest rate guess:  1.8804347826086927  excess demand for capital:  -0.023077538910738937\n",
      "interest rate guess:  1.8641304347826058  excess demand for capital:  0.03001288889160847\n",
      "interest rate guess:  1.8722826086956492  excess demand for capital:  0.0034698121036491614\n",
      "interest rate guess:  1.8763586956521707  excess demand for capital:  -0.009803133018580823\n",
      "interest rate guess:  1.8743206521739102  excess demand for capital:  -0.0031665456059144503\n",
      "interest rate guess:  1.8733016304347796  excess demand for capital:  0.00015166143861122805\n"
     ]
    }
   ],
   "source": [
    "# set bounds for bisection algorithm\n",
    "r_bracket = np.array([-delta, (1-betta) / betta])\n",
    "\n",
    "# set an interest rate\n",
    "irate = (r_bracket[0]+r_bracket[1])/2\n",
    "\n",
    "# fine grid parameters\n",
    "naf = 1000\n",
    "afgrid = np.exp(np.linspace(np.log(1+amin), np.log(1+amax), naf))-1.0\n",
    "\n",
    "maxiter = 1000\n",
    "epsilon = 1e-5\n",
    "for iter in range(maxiter):\n",
    "\n",
    "    # solve the household problem\n",
    "    a_endo, con = compute_pe(irate)\n",
    "\n",
    "    # find the stationary distribution\n",
    "    T = scipy.sparse.lil_matrix((naf * neta, naf * neta))\n",
    "    for j in range(neta): # loop through the possible productivity states\n",
    "\n",
    "        T_temp = scipy.sparse.lil_matrix((naf, naf))\n",
    "        for i in range(naf): # loop through all grid points\n",
    "\n",
    "            # this is the case, where the borrowing constraint is binding\n",
    "            if afgrid[i] < a_endo[0, j]:\n",
    "                T_temp[i, 0] = 1.0\n",
    "            # this is the case where households are at the upper bound of the savings grid\n",
    "            elif afgrid[i] > a_endo[na-1, j]:\n",
    "                T_temp[i, naf-1] = 1.0\n",
    "            # here we are somewhere inbetween\n",
    "            else:\n",
    "                # 1) interpolate the a' to find the corresponding choices on the finer grid\n",
    "                a_endo_int = np.interp(afgrid[i], a_endo[:, j], agrid)\n",
    "                # 2) determination of neighboring points and distances\n",
    "                idx = np.searchsorted(afgrid, a_endo_int)-1\n",
    "                weight_left = (afgrid[idx+1] - a_endo_int) / (afgrid[idx+1] - afgrid[idx])\n",
    "                weight_right = 1 - weight_left\n",
    "                # 3) fill up matrix\n",
    "                T_temp[i, idx] = weight_left\n",
    "                T_temp[i, idx+1] = weight_right\n",
    "\n",
    "        # construct the overall transition matrix by including the transition in the exogenous state\n",
    "        for k in range(neta):\n",
    "            T[j*naf:naf*(j+1), k*naf:naf*(k+1)] = T_temp * yprob[j, k]\n",
    "\n",
    "    # determine the stationary distribution by computing the eigenvector associated with the largest eigenvalue\n",
    "    S, U = scipy.sparse.linalg.eigs(T.T)\n",
    "    distt = np.array(U[:, np.where(np.abs(S - 1.) < 1e-8)[0][0]].flat)\n",
    "    distt = distt / np.sum(distt)\n",
    "\n",
    "    # reshape the stationary distribution to get the PDF\n",
    "    pdf = np.reshape(distt, (neta, naf)).real\n",
    "\n",
    "    # capital implied by the interest rate\n",
    "    cap = ((labor ** (alpha - 1.0) * (delta + irate)) / alpha) ** (1.0 / (alpha - 1.0))\n",
    "\n",
    "    # determine the sum of savings held by the household sector\n",
    "    sav = np.sum(afgrid * np.sum(pdf, axis=0))\n",
    "\n",
    "    # update the interest rate guess (Bisection)\n",
    "    if (cap - sav < 0.0):\n",
    "        r_bracket[1] = irate\n",
    "    else:\n",
    "        r_bracket[0] = irate\n",
    "\n",
    "    # Check stopping criterion:\n",
    "    tolOuter = epsilon * (1.0 + np.abs(r_bracket[1]) + np.abs(r_bracket[0]))\n",
    "\n",
    "    print('interest rate guess: ', irate * 100, ' excess demand for capital: ', cap - sav)\n",
    "\n",
    "    if (r_bracket[1] - r_bracket[0] < tolOuter or abs(cap - sav) < epsilon):\n",
    "        break\n",
    "\n",
    "    irate = (r_bracket[0] + r_bracket[1]) / 2"
   ]
  },
  {
   "cell_type": "code",
   "execution_count": null,
   "id": "5976ea2d",
   "metadata": {},
   "outputs": [],
   "source": []
  }
 ],
 "metadata": {
  "kernelspec": {
   "display_name": "Python 3 (ipykernel)",
   "language": "python",
   "name": "python3"
  },
  "language_info": {
   "codemirror_mode": {
    "name": "ipython",
    "version": 3
   },
   "file_extension": ".py",
   "mimetype": "text/x-python",
   "name": "python",
   "nbconvert_exporter": "python",
   "pygments_lexer": "ipython3",
   "version": "3.9.7"
  }
 },
 "nbformat": 4,
 "nbformat_minor": 5
}
