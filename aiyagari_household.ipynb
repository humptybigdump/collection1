{
 "cells": [
  {
   "cell_type": "code",
   "execution_count": 1,
   "id": "340d3cff",
   "metadata": {},
   "outputs": [],
   "source": [
    "import numpy as np\n",
    "import matplotlib.pyplot as plt\n",
    "import scipy"
   ]
  },
  {
   "cell_type": "markdown",
   "id": "07ee01c9",
   "metadata": {},
   "source": [
    "### Labor Productivity Process\n",
    "In the Aiyagari (1994) model, household (log-) labor productivity, $\\varepsilon_t$, follows an AR(1) process with persistence parameter $\\rho$. To simplify the model solution, we approximate the AR(1) process using a discrete Markov chain. This approximation is performed using \"Tauchen's method,\" a standard approach for discretizing continuous state spaces. The function `approx_markov` is used to generate the corresponding Markov chain."
   ]
  },
  {
   "cell_type": "code",
   "execution_count": 2,
   "id": "ab4fdbcb",
   "metadata": {},
   "outputs": [],
   "source": [
    "def approx_markov(rho, sigma_u, m=3, n=7):\n",
    "    \"\"\"\n",
    "    Computes the Markov matrix associated with a discretized version of\n",
    "    the linear Gaussian AR(1) process\n",
    "\n",
    "        y_{t+1} = rho * y_t + u_{t+1}\n",
    "\n",
    "    according to Tauchen's method.  Here {u_t} is an iid Gaussian\n",
    "    process with zero mean.\n",
    "\n",
    "    Parameters\n",
    "    ----------\n",
    "    rho : scalar(float)\n",
    "        The autocorrelation coefficient\n",
    "    sigma_u : scalar(float)\n",
    "        The standard deviation of the random process\n",
    "    m : scalar(int), optional(default=3)\n",
    "        The number of standard deviations to approximate out to\n",
    "    n : scalar(int), optional(default=7)\n",
    "        The number of states to use in the approximation\n",
    "\n",
    "    Returns\n",
    "    -------\n",
    "\n",
    "    x : array_like(float, ndim=1)\n",
    "        The state space of the discretized process\n",
    "    P : array_like(float, ndim=2)\n",
    "        The Markov transition matrix where P[i, j] is the probability\n",
    "        of transitioning from x[i] to x[j]\n",
    "\n",
    "    \"\"\"\n",
    "    F = scipy.stats.norm(loc=0, scale=sigma_u).cdf\n",
    "\n",
    "    # standard deviation of y_t\n",
    "    std_y = np.sqrt(sigma_u**2 / (1-rho**2))\n",
    "\n",
    "    # top of discrete state space\n",
    "    x_max = m * std_y\n",
    "\n",
    "    # bottom of discrete state space\n",
    "    x_min = - x_max\n",
    "\n",
    "    # discretized state space\n",
    "    x = np.linspace(x_min, x_max, n)\n",
    "\n",
    "    step = (x_max - x_min) / (n - 1)\n",
    "    half_step = 0.5 * step\n",
    "    P = np.empty((n, n))\n",
    "\n",
    "    for i in range(n):\n",
    "        P[i, 0] = F(x[0]-rho * x[i] + half_step)\n",
    "        P[i, n-1] = 1 - F(x[n-1] - rho * x[i] - half_step)\n",
    "        for j in range(1, n-1):\n",
    "            z = x[j] - rho * x[i]\n",
    "            P[i, j] = F(z + half_step) - F(z - half_step)\n",
    "\n",
    "    return x, P"
   ]
  },
  {
   "cell_type": "markdown",
   "id": "b86488f0",
   "metadata": {},
   "source": [
    "In the next step we generate the markov chain approximation of an AR(1) process with `neta=7` realizations, persistence $\\rho=0.965$, and standard deviation $\\sigma=0.25$. The realizations of the shock are given by `y` and the transition matrix is given by `yprob`."
   ]
  },
  {
   "cell_type": "code",
   "execution_count": 3,
   "id": "37fc2612",
   "metadata": {},
   "outputs": [],
   "source": [
    "neta = 7 # number of realizations\n",
    "rho_e = 0.965 # persistence\n",
    "sig_e = 0.25 # standard deviation\n",
    "\n",
    "# discretize the AR-process into a markov chain\n",
    "y, yprob = approx_markov(rho_e, sig_e, 3, neta)\n",
    "\n",
    "# normalization\n",
    "y = np.exp(y)"
   ]
  },
  {
   "cell_type": "markdown",
   "id": "b1ca9929",
   "metadata": {},
   "source": [
    "Next we compute the stationary distribution of the process, and the mean labor supply under the AR(1) process."
   ]
  },
  {
   "cell_type": "code",
   "execution_count": 4,
   "id": "34e8cc21",
   "metadata": {},
   "outputs": [],
   "source": [
    "# find the stationary distribution of the markov chain\n",
    "S, U = scipy.linalg.eig(yprob.T)\n",
    "pistar = np.array(U[:, np.where(np.abs(S - 1.) < 1e-8)[0][0]].flat)\n",
    "pistar = pistar / np.sum(pistar)\n",
    "\n",
    "# aggregate labor supply\n",
    "var_x = sig_e**2.0 / (1.0 - rho_e**2.0)\n",
    "labor = np.exp(var_x / 2.0)"
   ]
  },
  {
   "cell_type": "markdown",
   "id": "66c7193f",
   "metadata": {},
   "source": [
    "### Exercise"
   ]
  },
  {
   "cell_type": "code",
   "execution_count": 5,
   "id": "0448fd61",
   "metadata": {},
   "outputs": [],
   "source": [
    "# ECONOMIC PARAMETERS\n",
    "\n",
    "# risk aversion\n",
    "gam = 2.0\n",
    "# rate of depreciation\n",
    "delta = 0.08\n",
    "# discount factor\n",
    "betta = 0.92\n",
    "# capital share of income\n",
    "alpha = 0.33"
   ]
  },
  {
   "cell_type": "code",
   "execution_count": 6,
   "id": "1fd76b9c",
   "metadata": {},
   "outputs": [],
   "source": [
    "# GRID PARAMETERS\n",
    "\n",
    "# number of points\n",
    "na = 101\n",
    "# lower bound\n",
    "amin = 0.0\n",
    "# upper bound\n",
    "amax = 500.0\n",
    "# construct grid for the household problem\n",
    "agrid = np.linspace(amin, amax, na)"
   ]
  },
  {
   "cell_type": "code",
   "execution_count": 7,
   "id": "56c12235",
   "metadata": {},
   "outputs": [],
   "source": [
    "# EXOGENOUS INTEREST RATE\n",
    "\n",
    "# set an interest rate\n",
    "irate = 0.04\n",
    "\n",
    "# calculate agg. capital and wage rate implied by the interest rate\n",
    "cap = ((labor**(alpha-1.0)*(delta + irate))/alpha)**(1.0/(alpha-1.0))\n",
    "wage = (1.0-alpha)*cap**alpha*labor**(-alpha)"
   ]
  },
  {
   "cell_type": "code",
   "execution_count": 8,
   "id": "2b9a7760",
   "metadata": {},
   "outputs": [],
   "source": [
    "# INITIAL GUESS\n",
    "\n",
    "# pre-allocation\n",
    "c_guess = np.zeros((na, neta))\n",
    "c_new = np.zeros((na, neta))\n",
    "a_endo = np.zeros((na, neta))\n",
    "a_star = np.zeros(neta)\n",
    "con = np.zeros((na, neta))\n",
    "ap = np.zeros((na, neta))\n",
    "\n",
    "# set a guess for the consumption policy\n",
    "for iy in range(neta):\n",
    "    c_guess[:, iy] = irate * agrid + wage * y[iy]"
   ]
  },
  {
   "cell_type": "code",
   "execution_count": 9,
   "id": "985e9882",
   "metadata": {},
   "outputs": [],
   "source": [
    "# MAIN LOOP\n",
    "\n",
    "maxiter = 10000\n",
    "epsilon = 1e-7\n",
    "for iter0 in range(maxiter):\n",
    "\n",
    "    # Step 1: Determine the grid points where the borrowing constraint is just binding\n",
    "    for ia in range(na):\n",
    "        for iy in range(neta):\n",
    "            # Calculate the RHS of equation (5)\n",
    "            rhs = betta * (1.0 + irate) * c_guess[ia, :] ** (-gam) @ np.transpose(yprob[iy, :])\n",
    "            # Calculate the implied consumption (as a function of a')\n",
    "            c_new[ia, iy] = rhs ** (-1.0 / gam)\n",
    "            # Use the budget constraint to calculate the implied savings today (as a function of a')\n",
    "            a_endo[ia, iy] = (agrid[ia] + c_new[ia, iy] - wage * y[iy]) / (1.0 + irate)\n",
    "\n",
    "            # Calculate savings today that correspond to a choice of a'=0\n",
    "            if (ia == 0):\n",
    "                a_star[iy] = a_endo[0, iy]\n",
    "\n",
    "    # Step 2: Retrieve an updated guess for the consumption policy\n",
    "    for ia in range(na):\n",
    "        for iy in range(neta):\n",
    "            # In this case, use the budget constraint to determine consumption\n",
    "            if (agrid[ia] < a_star[iy]):\n",
    "                con[ia, iy] = (1.0 + irate) * agrid[ia] + wage * y[iy]\n",
    "                ap[ia, iy] = 0.0\n",
    "            else:\n",
    "                # In this case, use linear interpolation to determine consumption\n",
    "                con[ia, iy] = np.interp(agrid[ia], a_endo[:, iy], c_new[:, iy])\n",
    "                ap[ia, iy] = (1.0 + irate) * agrid[ia] + wage * y[iy] - con[ia, iy]\n",
    "\n",
    "    metricEGM = np.amax(np.abs(con - c_guess))\n",
    "\n",
    "    tolEGM = epsilon * (1.0 + np.amax(np.amax(np.abs(c_guess))))\n",
    "\n",
    "    # print(iter0, metricEGM)\n",
    "\n",
    "    if (metricEGM < tolEGM):\n",
    "        break\n",
    "\n",
    "    # The new guess for the consumption policy\n",
    "    c_guess = np.copy(con)\n"
   ]
  },
  {
   "cell_type": "code",
   "execution_count": 10,
   "id": "818d5b02",
   "metadata": {},
   "outputs": [
    {
     "data": {
      "image/png": "[encoded data removed]",
      "text/plain": [
       "<Figure size 432x288 with 1 Axes>"
      ]
     },
     "metadata": {
      "needs_background": "light"
     },
     "output_type": "display_data"
    }
   ],
   "source": [
    "# PLOT RESULTS\n",
    "\n",
    "plt.figure()\n",
    "for i in range(neta):\n",
    "    plt.plot(agrid, con[:, i])\n",
    "plt.show()"
   ]
  },
  {
   "cell_type": "code",
   "execution_count": null,
   "id": "c66c4d25",
   "metadata": {},
   "outputs": [],
   "source": []
  }
 ],
 "metadata": {
  "kernelspec": {
   "display_name": "Python 3 (ipykernel)",
   "language": "python",
   "name": "python3"
  },
  "language_info": {
   "codemirror_mode": {
    "name": "ipython",
    "version": 3
   },
   "file_extension": ".py",
   "mimetype": "text/x-python",
   "name": "python",
   "nbconvert_exporter": "python",
   "pygments_lexer": "ipython3",
   "version": "3.9.7"
  }
 },
 "nbformat": 4,
 "nbformat_minor": 5
}
