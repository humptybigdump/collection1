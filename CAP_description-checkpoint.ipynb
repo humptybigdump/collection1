{
 "cells": [
  {
   "cell_type": "markdown",
   "metadata": {},
   "source": [
    "![](figures/Header.png)\n",
    "\n",
    "\n",
    "\n",
    "\n",
    "## Cut and Past algorithm\n",
    "\n",
    "The cut and past (CAP) algorithm is one of two supported moment tensor combination methods for regional applications.\n",
    "\n",
    "\n",
    "$\\textbf{Source estimation from broadband regional seismograms}$                                      \n",
    "Lian-She Zhao and Donald V. Helmberger                       \n",
    "Bulletin of the Seismological Society of America (1994) 84 (1): 91–104.\n",
    "\n",
    "[Official Release](https://pubs.geoscienceworld.org/ssa/bssa/article-abstract/84/1/91/102552/Source-estimation-from-broadband-regional?redirectedFrom=fulltext)                                     \n",
    "[Open Access](https://authors.library.caltech.edu/48040/1/91.full.pdf)"
   ]
  },
  {
   "cell_type": "markdown",
   "metadata": {},
   "source": [
    "![](figures/CAP.png)"
   ]
  },
  {
   "cell_type": "markdown",
   "metadata": {},
   "source": [
    "CAP takes the radial symetric attricutes of a 1D wavespeed media into consideration. \n",
    "To construct the synthetic waveforminformation at an arbitary receiver location we only need to provided synthetics for the given source-receiver distance with weight functions A_i taking in the station azimuth.   \n",
    "\n",
    "![](figures/CAP_Stations.png)"
   ]
  }
 ],
 "metadata": {
  "kernelspec": {
   "display_name": "Python 3",
   "language": "python",
   "name": "python3"
  },
  "language_info": {
   "codemirror_mode": {
    "name": "ipython",
    "version": 3
   },
   "file_extension": ".py",
   "mimetype": "text/x-python",
   "name": "python",
   "nbconvert_exporter": "python",
   "pygments_lexer": "ipython3",
   "version": "3.7.6"
  }
 },
 "nbformat": 4,
 "nbformat_minor": 4
}
