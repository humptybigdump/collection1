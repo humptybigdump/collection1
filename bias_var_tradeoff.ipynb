{
 "cells": [
  {
   "cell_type": "markdown",
   "metadata": {},
   "source": [
    "# Model Selection - Bias-Variance Decomposition"
   ]
  },
  {
   "cell_type": "markdown",
   "metadata": {},
   "source": [
    "We start by settung up an example regression problem - The ground truth is a polynomial of degree 3, $f(x)$ and we assume data samples $(x, y)$ with $x \\sim \\textrm{Uniform}(-4, 2)$ and $y = f(x) + \\epsilon$ where $\\epsilon \\sim \\mathcal{N}(0, 1)$."
   ]
  },
  {
   "cell_type": "code",
   "execution_count": 1,
   "metadata": {
    "scrolled": true
   },
   "outputs": [
    {
     "data": {
      "text/plain": [
       "<matplotlib.legend.Legend at 0x7f3f22b91630>"
      ]
     },
     "execution_count": 1,
     "metadata": {},
     "output_type": "execute_result"
    },
    {
     "data": {
      "image/png": "[encoded data removed]",
      "text/plain": [
       "<Figure size 432x288 with 1 Axes>"
      ]
     },
     "metadata": {
      "needs_background": "light"
     },
     "output_type": "display_data"
    }
   ],
   "source": [
    "%matplotlib inline\n",
    "\n",
    "import numpy as np\n",
    "import matplotlib.pyplot as plt\n",
    "\n",
    "np.random.seed(42)  # always seed your random numbers for reproducability \n",
    "\n",
    "# pick some coefficientes\n",
    "coefficients = [1, 3, -1, -4]  \n",
    "\n",
    "def evaluate_polynomial(coefficients: np.ndarray, x: np.ndarray) -> np.ndarray:\n",
    "    \"\"\"\n",
    "    evaluates a 1-D polynomial with coefficients \"coefficients\" at points \"x\"\n",
    "    :param coefficients: coefficients of polynomial\n",
    "    :param x: points to evaluate at\n",
    "    \n",
    "    Note: A similar function (np.polyval) is provided by numpy, we only \"reimplemented\" it for clarity\n",
    "    \"\"\"    \n",
    "    poly = 0\n",
    "    degree = len(coefficients) - 1\n",
    "    for i, c in enumerate(coefficients):\n",
    "        poly += c * x**(degree - i)\n",
    "    return poly \n",
    "\n",
    "x_plt = np.linspace(-4, 2, 101) \n",
    "y_plt = evaluate_polynomial(coefficients, x_plt)\n",
    "x_samples = np.random.uniform(-4, 2, size=10)\n",
    "y_samples = evaluate_polynomial(coefficients, x_samples) + np.random.normal(size=10)\n",
    "\n",
    "# plotting\n",
    "plt.plot(x_plt, y_plt, c=\"blue\", label=\"Ground Truth Polynomial\")\n",
    "plt.scatter(x_samples, y_samples, c=\"green\", label=\"Samples\")\n",
    "plt.legend()\n",
    "\n"
   ]
  },
  {
   "cell_type": "markdown",
   "metadata": {},
   "source": [
    "To exactly measure the bias and variance in our estimators we would need to train infinitely many estimatiors on infintly many different datasets and evaluate each on infinitly many test points. Unfortunately, we are a poor university and have to settle for small rather values of infinity. \n",
    "\n",
    "Let us generate inifinitly many datasets $D_n$ and a test set. "
   ]
  },
  {
   "cell_type": "code",
   "execution_count": 2,
   "metadata": {},
   "outputs": [],
   "source": [
    "infinity = 1000\n",
    "\n",
    "x_inf_datasets = np.random.uniform(-3, 2, size=(infinity, 10))\n",
    "y_inf_datasets_gt = evaluate_polynomial(coefficients, x_inf_datasets)\n",
    "y_inf_datasets = y_inf_datasets_gt + np.random.normal(size=(infinity, 10))\n",
    "\n",
    "x_test = np.random.uniform(-3, 2, size=infinity)\n",
    "y_test_gt = evaluate_polynomial(coefficients, x_test)\n",
    "y_test = y_test_gt + np.random.normal(size=infinity)\n"
   ]
  },
  {
   "cell_type": "markdown",
   "metadata": {},
   "source": [
    "In the following we will use the numpy function polyfit to learn polynomial estimators of varying degrees. \n",
    "For each degree, we first going to fit an \"average estimator\" $\\hat{f}_*(x)$ to all datapoints from all datasets to approximate the optimal estimator for the given order of polynomials. \n",
    "Then we fit one estimator for each of the datasets and compute MSE, variance and bias:\n",
    "\n",
    "MSE \n",
    "$$ \\mathbb{E}_{D_n}\\left[\\mathbb{E}_{x,y}\\left[\\left(\\hat{f}_{D_n}(x) -y\\right)^2\\right]\\right] $$\n",
    "\n",
    "Variance:\n",
    "$$ \\mathbb{E}_{D_n}\\left[\\mathbb{E}_{x,y}\\left[\\left(\\hat{f}_{D_n}(x) - \\hat{f}_*(x) \\right)^2\\right]\\right]$$\n",
    "\n",
    "Bias:\n",
    "$$ \\mathbb{E}_{x, y} \\left[ \\left( \\hat{f}_*(x) - f(x) \\right)^2\\right] $$ "
   ]
  },
  {
   "cell_type": "code",
   "execution_count": 6,
   "metadata": {},
   "outputs": [
    {
     "data": {
      "text/plain": [
       "<matplotlib.legend.Legend at 0x7f3f226da128>"
      ]
     },
     "execution_count": 6,
     "metadata": {},
     "output_type": "execute_result"
    },
    {
     "data": {
      "image/png": "[encoded data removed]",
      "text/plain": [
       "<Figure size 432x288 with 1 Axes>"
      ]
     },
     "metadata": {
      "needs_background": "light"
     },
     "output_type": "display_data"
    }
   ],
   "source": [
    "max_order = 4  # train polynomials up to order M\n",
    "poly_orders = range(1, max_order + 1)\n",
    "\n",
    "errors = np.zeros(max_order)\n",
    "variances = np.zeros(max_order)\n",
    "biases = np.zeros(max_order)\n",
    "\n",
    "for m in poly_orders:\n",
    "\n",
    "    # We first need to train the \"average estimate\", i.e., a model on trained infinitly many data points.\n",
    "    # We just reuse the datapoints from all datasets generated before. \n",
    "    x_inf = x_inf_datasets.reshape(-1)\n",
    "    y_inf = y_inf_datasets.reshape(-1)\n",
    "    avg_estimator = np.polyfit(x_inf, y_inf , m)\n",
    "    avg_estimator_predictions = evaluate_polynomial(avg_estimator, x_test)\n",
    "    \n",
    "    # We now need to train one model per dataset and evaluate it on the infinitly large test set    \n",
    "    predictions = np.zeros([infinity, infinity])\n",
    "    for i, (x, y) in enumerate(zip(x_inf_datasets, y_inf_datasets)):\n",
    "        model = np.polyfit(x, y, m)\n",
    "        predictions[i] = evaluate_polynomial(model, x_test)\n",
    "    \n",
    "    all_mse = np.mean((predictions - y_test[None, :])**2, axis=1)\n",
    "    mse = np.mean(all_mse)\n",
    "    \n",
    "    all_vars = np.mean((predictions - avg_estimator_predictions[None, :])**2, axis=1)\n",
    "    var = np.mean(all_vars)\n",
    "    \n",
    "    # Difference of true function and best possible estimator in class (i.e., estimator trained on infinitly\n",
    "    # large dataset)\n",
    "    bias = np.mean((avg_estimator_predictions - y_test_gt)**2)\n",
    "    \n",
    "    # recording\n",
    "    errors[m - 1] = mse\n",
    "    variances[m - 1] = var\n",
    "    biases[m - 1] = bias\n",
    "\n",
    "# plotting    \n",
    "plt.semilogy(poly_orders, errors, label=\"MSE\")\n",
    "plt.semilogy(poly_orders, variances, label=\"Variance\")\n",
    "plt.semilogy(poly_orders, biases, label=\"Bias\")\n",
    "plt.xticks(poly_orders)\n",
    "plt.xlabel(\"model order\")\n",
    "plt.legend()"
   ]
  },
  {
   "cell_type": "code",
   "execution_count": null,
   "metadata": {},
   "outputs": [],
   "source": []
  }
 ],
 "metadata": {
  "kernelspec": {
   "display_name": "Python 3",
   "language": "python",
   "name": "python3"
  },
  "language_info": {
   "codemirror_mode": {
    "name": "ipython",
    "version": 3
   },
   "file_extension": ".py",
   "mimetype": "text/x-python",
   "name": "python",
   "nbconvert_exporter": "python",
   "pygments_lexer": "ipython3",
   "version": "3.6.9"
  }
 },
 "nbformat": 4,
 "nbformat_minor": 2
}
