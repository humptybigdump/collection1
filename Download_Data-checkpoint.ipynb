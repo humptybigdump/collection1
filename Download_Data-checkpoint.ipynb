{
 "cells": [
  {
   "cell_type": "code",
   "execution_count": null,
   "metadata": {},
   "outputs": [],
   "source": [
    "from obspy import UTCDateTime, read_inventory\n",
    "from obspy.clients.fdsn import Client\n",
    "import matplotlib\n",
    "\n",
    "matplotlib.use('module://ipykernel.pylab.backend_inline')"
   ]
  },
  {
   "cell_type": "code",
   "execution_count": 2,
   "metadata": {},
   "outputs": [
    {
     "name": "stdout",
     "output_type": "stream",
     "text": [
      "3 Trace(s) in Stream:\n",
      "CI.ADO..HHE | 2019-07-06T03:14:53.008394Z - 2019-07-06T03:34:52.998394Z | 100.0 Hz, 120000 samples\n",
      "CI.ADO..HHN | 2019-07-06T03:14:53.008393Z - 2019-07-06T03:34:52.998393Z | 100.0 Hz, 120000 samples\n",
      "CI.ADO..HHZ | 2019-07-06T03:14:53.008394Z - 2019-07-06T03:34:52.998394Z | 100.0 Hz, 120000 samples\n",
      "1199.989999\n",
      "trim\n",
      "saved at /home/mlind/Dokumente/Lectures/WS2021/RMT/Data/Ridgecrest/Observations/ev1/CI.ADO..HHE\n",
      "saved at /home/mlind/Dokumente/Lectures/WS2021/RMT/Data/Ridgecrest/Observations/ev1/CI.ADO..HHN\n",
      "saved at /home/mlind/Dokumente/Lectures/WS2021/RMT/Data/Ridgecrest/Observations/ev1/CI.ADO..HHZ\n"
     ]
    },
    {
     "name": "stderr",
     "output_type": "stream",
     "text": [
      "/software/anaconda3/envs/seispy_env/lib/python3.7/site-packages/obspy/io/mseed/core.py:790: UserWarning: The encoding specified in trace.stats.mseed.encoding does not match the dtype of the data.\n",
      "A suitable encoding will be chosen.\n",
      "  warnings.warn(msg, UserWarning)\n"
     ]
    },
    {
     "name": "stdout",
     "output_type": "stream",
     "text": [
      "3 Trace(s) in Stream:\n",
      "CI.ARV..HHE | 2019-07-06T03:14:53.008393Z - 2019-07-06T03:34:52.998393Z | 100.0 Hz, 120000 samples\n",
      "CI.ARV..HHN | 2019-07-06T03:14:53.008393Z - 2019-07-06T03:34:52.998393Z | 100.0 Hz, 120000 samples\n",
      "CI.ARV..HHZ | 2019-07-06T03:14:53.008393Z - 2019-07-06T03:34:52.998393Z | 100.0 Hz, 120000 samples\n",
      "1199.99\n",
      "trim\n",
      "saved at /home/mlind/Dokumente/Lectures/WS2021/RMT/Data/Ridgecrest/Observations/ev1/CI.ARV..HHE\n",
      "saved at /home/mlind/Dokumente/Lectures/WS2021/RMT/Data/Ridgecrest/Observations/ev1/CI.ARV..HHN\n",
      "saved at /home/mlind/Dokumente/Lectures/WS2021/RMT/Data/Ridgecrest/Observations/ev1/CI.ARV..HHZ\n"
     ]
    },
    {
     "name": "stderr",
     "output_type": "stream",
     "text": [
      "/software/anaconda3/envs/seispy_env/lib/python3.7/site-packages/obspy/io/mseed/core.py:790: UserWarning: The encoding specified in trace.stats.mseed.encoding does not match the dtype of the data.\n",
      "A suitable encoding will be chosen.\n",
      "  warnings.warn(msg, UserWarning)\n"
     ]
    },
    {
     "name": "stdout",
     "output_type": "stream",
     "text": [
      "3 Trace(s) in Stream:\n",
      "CI.BAK..HHE | 2019-07-06T03:14:53.008393Z - 2019-07-06T03:34:52.998393Z | 100.0 Hz, 120000 samples\n",
      "CI.BAK..HHN | 2019-07-06T03:14:53.008393Z - 2019-07-06T03:34:52.998393Z | 100.0 Hz, 120000 samples\n",
      "CI.BAK..HHZ | 2019-07-06T03:14:53.008393Z - 2019-07-06T03:34:52.998393Z | 100.0 Hz, 120000 samples\n",
      "1199.99\n",
      "trim\n",
      "saved at /home/mlind/Dokumente/Lectures/WS2021/RMT/Data/Ridgecrest/Observations/ev1/CI.BAK..HHE\n",
      "saved at /home/mlind/Dokumente/Lectures/WS2021/RMT/Data/Ridgecrest/Observations/ev1/CI.BAK..HHN\n",
      "saved at /home/mlind/Dokumente/Lectures/WS2021/RMT/Data/Ridgecrest/Observations/ev1/CI.BAK..HHZ\n"
     ]
    },
    {
     "name": "stderr",
     "output_type": "stream",
     "text": [
      "/software/anaconda3/envs/seispy_env/lib/python3.7/site-packages/obspy/io/mseed/core.py:790: UserWarning: The encoding specified in trace.stats.mseed.encoding does not match the dtype of the data.\n",
      "A suitable encoding will be chosen.\n",
      "  warnings.warn(msg, UserWarning)\n"
     ]
    },
    {
     "name": "stdout",
     "output_type": "stream",
     "text": [
      "3 Trace(s) in Stream:\n",
      "CI.BBR..HHE | 2019-07-06T03:14:53.008393Z - 2019-07-06T03:34:52.998393Z | 100.0 Hz, 120000 samples\n",
      "CI.BBR..HHN | 2019-07-06T03:14:53.008393Z - 2019-07-06T03:34:52.998393Z | 100.0 Hz, 120000 samples\n",
      "CI.BBR..HHZ | 2019-07-06T03:14:53.008393Z - 2019-07-06T03:34:52.998393Z | 100.0 Hz, 120000 samples\n",
      "1199.99\n",
      "trim\n",
      "saved at /home/mlind/Dokumente/Lectures/WS2021/RMT/Data/Ridgecrest/Observations/ev1/CI.BBR..HHE\n",
      "saved at /home/mlind/Dokumente/Lectures/WS2021/RMT/Data/Ridgecrest/Observations/ev1/CI.BBR..HHN\n",
      "saved at /home/mlind/Dokumente/Lectures/WS2021/RMT/Data/Ridgecrest/Observations/ev1/CI.BBR..HHZ\n"
     ]
    },
    {
     "name": "stderr",
     "output_type": "stream",
     "text": [
      "/software/anaconda3/envs/seispy_env/lib/python3.7/site-packages/obspy/io/mseed/core.py:790: UserWarning: The encoding specified in trace.stats.mseed.encoding does not match the dtype of the data.\n",
      "A suitable encoding will be chosen.\n",
      "  warnings.warn(msg, UserWarning)\n"
     ]
    },
    {
     "name": "stdout",
     "output_type": "stream",
     "text": [
      "3 Trace(s) in Stream:\n",
      "CI.BFS..HHE | 2019-07-06T03:14:53.008391Z - 2019-07-06T03:34:52.998391Z | 100.0 Hz, 120000 samples\n",
      "CI.BFS..HHN | 2019-07-06T03:14:53.008391Z - 2019-07-06T03:34:52.998391Z | 100.0 Hz, 120000 samples\n",
      "CI.BFS..HHZ | 2019-07-06T03:14:53.008393Z - 2019-07-06T03:34:52.998393Z | 100.0 Hz, 120000 samples\n",
      "1199.989998\n",
      "trim\n",
      "saved at /home/mlind/Dokumente/Lectures/WS2021/RMT/Data/Ridgecrest/Observations/ev1/CI.BFS..HHE\n",
      "saved at /home/mlind/Dokumente/Lectures/WS2021/RMT/Data/Ridgecrest/Observations/ev1/CI.BFS..HHN\n",
      "saved at /home/mlind/Dokumente/Lectures/WS2021/RMT/Data/Ridgecrest/Observations/ev1/CI.BFS..HHZ\n"
     ]
    },
    {
     "name": "stderr",
     "output_type": "stream",
     "text": [
      "/software/anaconda3/envs/seispy_env/lib/python3.7/site-packages/obspy/io/mseed/core.py:790: UserWarning: The encoding specified in trace.stats.mseed.encoding does not match the dtype of the data.\n",
      "A suitable encoding will be chosen.\n",
      "  warnings.warn(msg, UserWarning)\n"
     ]
    },
    {
     "name": "stdout",
     "output_type": "stream",
     "text": [
      "3 Trace(s) in Stream:\n",
      "CI.CHF..HHE | 2019-07-06T03:14:53.008393Z - 2019-07-06T03:34:52.998393Z | 100.0 Hz, 120000 samples\n",
      "CI.CHF..HHN | 2019-07-06T03:14:53.008393Z - 2019-07-06T03:34:52.998393Z | 100.0 Hz, 120000 samples\n",
      "CI.CHF..HHZ | 2019-07-06T03:14:53.008393Z - 2019-07-06T03:34:52.998393Z | 100.0 Hz, 120000 samples\n",
      "1199.99\n",
      "trim\n",
      "saved at /home/mlind/Dokumente/Lectures/WS2021/RMT/Data/Ridgecrest/Observations/ev1/CI.CHF..HHE\n",
      "saved at /home/mlind/Dokumente/Lectures/WS2021/RMT/Data/Ridgecrest/Observations/ev1/CI.CHF..HHN\n",
      "saved at /home/mlind/Dokumente/Lectures/WS2021/RMT/Data/Ridgecrest/Observations/ev1/CI.CHF..HHZ\n"
     ]
    },
    {
     "name": "stderr",
     "output_type": "stream",
     "text": [
      "/software/anaconda3/envs/seispy_env/lib/python3.7/site-packages/obspy/io/mseed/core.py:790: UserWarning: The encoding specified in trace.stats.mseed.encoding does not match the dtype of the data.\n",
      "A suitable encoding will be chosen.\n",
      "  warnings.warn(msg, UserWarning)\n"
     ]
    },
    {
     "name": "stdout",
     "output_type": "stream",
     "text": [
      "3 Trace(s) in Stream:\n",
      "CI.CIA..HHE | 2019-07-06T03:14:53.008393Z - 2019-07-06T03:34:52.998393Z | 100.0 Hz, 120000 samples\n",
      "CI.CIA..HHN | 2019-07-06T03:14:53.008391Z - 2019-07-06T03:34:52.998391Z | 100.0 Hz, 120000 samples\n",
      "CI.CIA..HHZ | 2019-07-06T03:14:53.008393Z - 2019-07-06T03:34:52.998393Z | 100.0 Hz, 120000 samples\n",
      "1199.989998\n",
      "trim\n",
      "saved at /home/mlind/Dokumente/Lectures/WS2021/RMT/Data/Ridgecrest/Observations/ev1/CI.CIA..HHE\n",
      "saved at /home/mlind/Dokumente/Lectures/WS2021/RMT/Data/Ridgecrest/Observations/ev1/CI.CIA..HHN\n",
      "saved at /home/mlind/Dokumente/Lectures/WS2021/RMT/Data/Ridgecrest/Observations/ev1/CI.CIA..HHZ\n"
     ]
    },
    {
     "name": "stderr",
     "output_type": "stream",
     "text": [
      "/software/anaconda3/envs/seispy_env/lib/python3.7/site-packages/obspy/io/mseed/core.py:790: UserWarning: The encoding specified in trace.stats.mseed.encoding does not match the dtype of the data.\n",
      "A suitable encoding will be chosen.\n",
      "  warnings.warn(msg, UserWarning)\n"
     ]
    },
    {
     "name": "stdout",
     "output_type": "stream",
     "text": [
      "3 Trace(s) in Stream:\n",
      "CI.CWC..HHE | 2019-07-06T03:14:53.008393Z - 2019-07-06T03:34:52.998393Z | 100.0 Hz, 120000 samples\n",
      "CI.CWC..HHN | 2019-07-06T03:14:53.008393Z - 2019-07-06T03:34:52.998393Z | 100.0 Hz, 120000 samples\n",
      "CI.CWC..HHZ | 2019-07-06T03:14:53.008393Z - 2019-07-06T03:34:52.998393Z | 100.0 Hz, 120000 samples\n",
      "1199.99\n",
      "trim\n",
      "saved at /home/mlind/Dokumente/Lectures/WS2021/RMT/Data/Ridgecrest/Observations/ev1/CI.CWC..HHE\n",
      "saved at /home/mlind/Dokumente/Lectures/WS2021/RMT/Data/Ridgecrest/Observations/ev1/CI.CWC..HHN\n",
      "saved at /home/mlind/Dokumente/Lectures/WS2021/RMT/Data/Ridgecrest/Observations/ev1/CI.CWC..HHZ\n"
     ]
    },
    {
     "name": "stderr",
     "output_type": "stream",
     "text": [
      "/software/anaconda3/envs/seispy_env/lib/python3.7/site-packages/obspy/io/mseed/core.py:790: UserWarning: The encoding specified in trace.stats.mseed.encoding does not match the dtype of the data.\n",
      "A suitable encoding will be chosen.\n",
      "  warnings.warn(msg, UserWarning)\n"
     ]
    },
    {
     "name": "stdout",
     "output_type": "stream",
     "text": [
      "3 Trace(s) in Stream:\n",
      "CI.DAN..HHE | 2019-07-06T03:14:53.008393Z - 2019-07-06T03:34:52.998393Z | 100.0 Hz, 120000 samples\n",
      "CI.DAN..HHN | 2019-07-06T03:14:53.008393Z - 2019-07-06T03:34:52.998393Z | 100.0 Hz, 120000 samples\n",
      "CI.DAN..HHZ | 2019-07-06T03:14:53.008393Z - 2019-07-06T03:34:52.998393Z | 100.0 Hz, 120000 samples\n",
      "1199.99\n",
      "trim\n",
      "saved at /home/mlind/Dokumente/Lectures/WS2021/RMT/Data/Ridgecrest/Observations/ev1/CI.DAN..HHE\n",
      "saved at /home/mlind/Dokumente/Lectures/WS2021/RMT/Data/Ridgecrest/Observations/ev1/CI.DAN..HHN\n",
      "saved at /home/mlind/Dokumente/Lectures/WS2021/RMT/Data/Ridgecrest/Observations/ev1/CI.DAN..HHZ\n"
     ]
    },
    {
     "name": "stderr",
     "output_type": "stream",
     "text": [
      "/software/anaconda3/envs/seispy_env/lib/python3.7/site-packages/obspy/io/mseed/core.py:790: UserWarning: The encoding specified in trace.stats.mseed.encoding does not match the dtype of the data.\n",
      "A suitable encoding will be chosen.\n",
      "  warnings.warn(msg, UserWarning)\n"
     ]
    },
    {
     "name": "stdout",
     "output_type": "stream",
     "text": [
      "3 Trace(s) in Stream:\n",
      "CI.DEC..HHE | 2019-07-06T03:14:53.008393Z - 2019-07-06T03:34:52.998393Z | 100.0 Hz, 120000 samples\n",
      "CI.DEC..HHN | 2019-07-06T03:14:53.008394Z - 2019-07-06T03:34:52.998394Z | 100.0 Hz, 120000 samples\n",
      "CI.DEC..HHZ | 2019-07-06T03:14:53.008393Z - 2019-07-06T03:34:52.998393Z | 100.0 Hz, 120000 samples\n",
      "1199.989999\n",
      "trim\n",
      "saved at /home/mlind/Dokumente/Lectures/WS2021/RMT/Data/Ridgecrest/Observations/ev1/CI.DEC..HHE\n",
      "saved at /home/mlind/Dokumente/Lectures/WS2021/RMT/Data/Ridgecrest/Observations/ev1/CI.DEC..HHN\n",
      "saved at /home/mlind/Dokumente/Lectures/WS2021/RMT/Data/Ridgecrest/Observations/ev1/CI.DEC..HHZ\n"
     ]
    },
    {
     "name": "stderr",
     "output_type": "stream",
     "text": [
      "/software/anaconda3/envs/seispy_env/lib/python3.7/site-packages/obspy/io/mseed/core.py:790: UserWarning: The encoding specified in trace.stats.mseed.encoding does not match the dtype of the data.\n",
      "A suitable encoding will be chosen.\n",
      "  warnings.warn(msg, UserWarning)\n"
     ]
    },
    {
     "name": "stdout",
     "output_type": "stream",
     "text": [
      "3 Trace(s) in Stream:\n",
      "CI.DGR..HHE | 2019-07-06T03:14:53.008393Z - 2019-07-06T03:34:52.998393Z | 100.0 Hz, 120000 samples\n",
      "CI.DGR..HHN | 2019-07-06T03:14:53.008393Z - 2019-07-06T03:34:52.998393Z | 100.0 Hz, 120000 samples\n",
      "CI.DGR..HHZ | 2019-07-06T03:14:53.008393Z - 2019-07-06T03:34:52.998393Z | 100.0 Hz, 120000 samples\n",
      "1199.99\n",
      "trim\n",
      "saved at /home/mlind/Dokumente/Lectures/WS2021/RMT/Data/Ridgecrest/Observations/ev1/CI.DGR..HHE\n",
      "saved at /home/mlind/Dokumente/Lectures/WS2021/RMT/Data/Ridgecrest/Observations/ev1/CI.DGR..HHN\n",
      "saved at /home/mlind/Dokumente/Lectures/WS2021/RMT/Data/Ridgecrest/Observations/ev1/CI.DGR..HHZ\n"
     ]
    },
    {
     "name": "stderr",
     "output_type": "stream",
     "text": [
      "/software/anaconda3/envs/seispy_env/lib/python3.7/site-packages/obspy/io/mseed/core.py:790: UserWarning: The encoding specified in trace.stats.mseed.encoding does not match the dtype of the data.\n",
      "A suitable encoding will be chosen.\n",
      "  warnings.warn(msg, UserWarning)\n"
     ]
    },
    {
     "name": "stdout",
     "output_type": "stream",
     "text": [
      "3 Trace(s) in Stream:\n",
      "CI.DJJ..HHE | 2019-07-06T03:14:53.008391Z - 2019-07-06T03:34:52.998391Z | 100.0 Hz, 120000 samples\n",
      "CI.DJJ..HHN | 2019-07-06T03:14:53.008391Z - 2019-07-06T03:34:52.998391Z | 100.0 Hz, 120000 samples\n",
      "CI.DJJ..HHZ | 2019-07-06T03:14:53.008391Z - 2019-07-06T03:34:52.998391Z | 100.0 Hz, 120000 samples\n",
      "1199.99\n",
      "trim\n",
      "saved at /home/mlind/Dokumente/Lectures/WS2021/RMT/Data/Ridgecrest/Observations/ev1/CI.DJJ..HHE\n",
      "saved at /home/mlind/Dokumente/Lectures/WS2021/RMT/Data/Ridgecrest/Observations/ev1/CI.DJJ..HHN\n",
      "saved at /home/mlind/Dokumente/Lectures/WS2021/RMT/Data/Ridgecrest/Observations/ev1/CI.DJJ..HHZ\n"
     ]
    },
    {
     "name": "stderr",
     "output_type": "stream",
     "text": [
      "/software/anaconda3/envs/seispy_env/lib/python3.7/site-packages/obspy/io/mseed/core.py:790: UserWarning: The encoding specified in trace.stats.mseed.encoding does not match the dtype of the data.\n",
      "A suitable encoding will be chosen.\n",
      "  warnings.warn(msg, UserWarning)\n"
     ]
    },
    {
     "name": "stdout",
     "output_type": "stream",
     "text": [
      "3 Trace(s) in Stream:\n",
      "CI.EDW2..HHE | 2019-07-06T03:14:53.008391Z - 2019-07-06T03:34:52.998391Z | 100.0 Hz, 120000 samples\n",
      "CI.EDW2..HHN | 2019-07-06T03:14:53.008393Z - 2019-07-06T03:34:52.998393Z | 100.0 Hz, 120000 samples\n",
      "CI.EDW2..HHZ | 2019-07-06T03:14:53.008391Z - 2019-07-06T03:34:52.998391Z | 100.0 Hz, 120000 samples\n",
      "1199.989998\n",
      "trim\n",
      "saved at /home/mlind/Dokumente/Lectures/WS2021/RMT/Data/Ridgecrest/Observations/ev1/CI.EDW2..HHE\n",
      "saved at /home/mlind/Dokumente/Lectures/WS2021/RMT/Data/Ridgecrest/Observations/ev1/CI.EDW2..HHN\n",
      "saved at /home/mlind/Dokumente/Lectures/WS2021/RMT/Data/Ridgecrest/Observations/ev1/CI.EDW2..HHZ\n"
     ]
    },
    {
     "name": "stderr",
     "output_type": "stream",
     "text": [
      "/software/anaconda3/envs/seispy_env/lib/python3.7/site-packages/obspy/io/mseed/core.py:790: UserWarning: The encoding specified in trace.stats.mseed.encoding does not match the dtype of the data.\n",
      "A suitable encoding will be chosen.\n",
      "  warnings.warn(msg, UserWarning)\n"
     ]
    },
    {
     "name": "stdout",
     "output_type": "stream",
     "text": [
      "3 Trace(s) in Stream:\n",
      "CI.FMP..HHE | 2019-07-06T03:14:53.008393Z - 2019-07-06T03:34:52.998393Z | 100.0 Hz, 120000 samples\n",
      "CI.FMP..HHN | 2019-07-06T03:14:53.008393Z - 2019-07-06T03:34:52.998393Z | 100.0 Hz, 120000 samples\n",
      "CI.FMP..HHZ | 2019-07-06T03:14:53.008393Z - 2019-07-06T03:34:52.998393Z | 100.0 Hz, 120000 samples\n",
      "1199.99\n",
      "trim\n",
      "saved at /home/mlind/Dokumente/Lectures/WS2021/RMT/Data/Ridgecrest/Observations/ev1/CI.FMP..HHE\n",
      "saved at /home/mlind/Dokumente/Lectures/WS2021/RMT/Data/Ridgecrest/Observations/ev1/CI.FMP..HHN\n",
      "saved at /home/mlind/Dokumente/Lectures/WS2021/RMT/Data/Ridgecrest/Observations/ev1/CI.FMP..HHZ\n"
     ]
    },
    {
     "name": "stderr",
     "output_type": "stream",
     "text": [
      "/software/anaconda3/envs/seispy_env/lib/python3.7/site-packages/obspy/io/mseed/core.py:790: UserWarning: The encoding specified in trace.stats.mseed.encoding does not match the dtype of the data.\n",
      "A suitable encoding will be chosen.\n",
      "  warnings.warn(msg, UserWarning)\n"
     ]
    },
    {
     "name": "stdout",
     "output_type": "stream",
     "text": [
      "3 Trace(s) in Stream:\n",
      "CI.FUR..HHE | 2019-07-06T03:14:53.008393Z - 2019-07-06T03:34:52.998393Z | 100.0 Hz, 120000 samples\n",
      "CI.FUR..HHN | 2019-07-06T03:14:53.008393Z - 2019-07-06T03:34:52.998393Z | 100.0 Hz, 120000 samples\n",
      "CI.FUR..HHZ | 2019-07-06T03:14:53.008393Z - 2019-07-06T03:34:52.998393Z | 100.0 Hz, 120000 samples\n",
      "1199.99\n",
      "trim\n",
      "saved at /home/mlind/Dokumente/Lectures/WS2021/RMT/Data/Ridgecrest/Observations/ev1/CI.FUR..HHE\n",
      "saved at /home/mlind/Dokumente/Lectures/WS2021/RMT/Data/Ridgecrest/Observations/ev1/CI.FUR..HHN\n",
      "saved at /home/mlind/Dokumente/Lectures/WS2021/RMT/Data/Ridgecrest/Observations/ev1/CI.FUR..HHZ\n"
     ]
    },
    {
     "name": "stderr",
     "output_type": "stream",
     "text": [
      "/software/anaconda3/envs/seispy_env/lib/python3.7/site-packages/obspy/io/mseed/core.py:790: UserWarning: The encoding specified in trace.stats.mseed.encoding does not match the dtype of the data.\n",
      "A suitable encoding will be chosen.\n",
      "  warnings.warn(msg, UserWarning)\n"
     ]
    },
    {
     "name": "stdout",
     "output_type": "stream",
     "text": [
      "3 Trace(s) in Stream:\n",
      "CI.GMR..HHE | 2019-07-06T03:14:53.008391Z - 2019-07-06T03:34:52.998391Z | 100.0 Hz, 120000 samples\n",
      "CI.GMR..HHN | 2019-07-06T03:14:53.008393Z - 2019-07-06T03:34:52.998393Z | 100.0 Hz, 120000 samples\n",
      "CI.GMR..HHZ | 2019-07-06T03:14:53.008393Z - 2019-07-06T03:34:52.998393Z | 100.0 Hz, 120000 samples\n",
      "1199.989998\n",
      "trim\n",
      "saved at /home/mlind/Dokumente/Lectures/WS2021/RMT/Data/Ridgecrest/Observations/ev1/CI.GMR..HHE\n",
      "saved at /home/mlind/Dokumente/Lectures/WS2021/RMT/Data/Ridgecrest/Observations/ev1/CI.GMR..HHN\n",
      "saved at /home/mlind/Dokumente/Lectures/WS2021/RMT/Data/Ridgecrest/Observations/ev1/CI.GMR..HHZ\n"
     ]
    },
    {
     "name": "stderr",
     "output_type": "stream",
     "text": [
      "/software/anaconda3/envs/seispy_env/lib/python3.7/site-packages/obspy/io/mseed/core.py:790: UserWarning: The encoding specified in trace.stats.mseed.encoding does not match the dtype of the data.\n",
      "A suitable encoding will be chosen.\n",
      "  warnings.warn(msg, UserWarning)\n"
     ]
    },
    {
     "name": "stdout",
     "output_type": "stream",
     "text": [
      "3 Trace(s) in Stream:\n",
      "CI.GRA..HHE | 2019-07-06T03:14:53.008393Z - 2019-07-06T03:34:52.998393Z | 100.0 Hz, 120000 samples\n",
      "CI.GRA..HHN | 2019-07-06T03:14:53.008393Z - 2019-07-06T03:34:52.998393Z | 100.0 Hz, 120000 samples\n",
      "CI.GRA..HHZ | 2019-07-06T03:14:53.008393Z - 2019-07-06T03:34:52.998393Z | 100.0 Hz, 120000 samples\n",
      "1199.99\n",
      "trim\n",
      "saved at /home/mlind/Dokumente/Lectures/WS2021/RMT/Data/Ridgecrest/Observations/ev1/CI.GRA..HHE\n",
      "saved at /home/mlind/Dokumente/Lectures/WS2021/RMT/Data/Ridgecrest/Observations/ev1/CI.GRA..HHN\n",
      "saved at /home/mlind/Dokumente/Lectures/WS2021/RMT/Data/Ridgecrest/Observations/ev1/CI.GRA..HHZ\n"
     ]
    },
    {
     "name": "stderr",
     "output_type": "stream",
     "text": [
      "/software/anaconda3/envs/seispy_env/lib/python3.7/site-packages/obspy/io/mseed/core.py:790: UserWarning: The encoding specified in trace.stats.mseed.encoding does not match the dtype of the data.\n",
      "A suitable encoding will be chosen.\n",
      "  warnings.warn(msg, UserWarning)\n"
     ]
    },
    {
     "name": "stdout",
     "output_type": "stream",
     "text": [
      "3 Trace(s) in Stream:\n",
      "CI.GSC..HHE | 2019-07-06T03:14:53.008391Z - 2019-07-06T03:34:52.998391Z | 100.0 Hz, 120000 samples\n",
      "CI.GSC..HHN | 2019-07-06T03:14:53.008391Z - 2019-07-06T03:34:52.998391Z | 100.0 Hz, 120000 samples\n",
      "CI.GSC..HHZ | 2019-07-06T03:14:53.008391Z - 2019-07-06T03:34:52.998391Z | 100.0 Hz, 120000 samples\n",
      "1199.99\n",
      "trim\n",
      "saved at /home/mlind/Dokumente/Lectures/WS2021/RMT/Data/Ridgecrest/Observations/ev1/CI.GSC..HHE\n",
      "saved at /home/mlind/Dokumente/Lectures/WS2021/RMT/Data/Ridgecrest/Observations/ev1/CI.GSC..HHN\n",
      "saved at /home/mlind/Dokumente/Lectures/WS2021/RMT/Data/Ridgecrest/Observations/ev1/CI.GSC..HHZ\n"
     ]
    },
    {
     "name": "stderr",
     "output_type": "stream",
     "text": [
      "/software/anaconda3/envs/seispy_env/lib/python3.7/site-packages/obspy/io/mseed/core.py:790: UserWarning: The encoding specified in trace.stats.mseed.encoding does not match the dtype of the data.\n",
      "A suitable encoding will be chosen.\n",
      "  warnings.warn(msg, UserWarning)\n"
     ]
    },
    {
     "name": "stdout",
     "output_type": "stream",
     "text": [
      "3 Trace(s) in Stream:\n",
      "CI.HEC..HHE | 2019-07-06T03:14:53.008393Z - 2019-07-06T03:34:52.998393Z | 100.0 Hz, 120000 samples\n",
      "CI.HEC..HHN | 2019-07-06T03:14:53.008393Z - 2019-07-06T03:34:52.998393Z | 100.0 Hz, 120000 samples\n",
      "CI.HEC..HHZ | 2019-07-06T03:14:53.008393Z - 2019-07-06T03:34:52.998393Z | 100.0 Hz, 120000 samples\n",
      "1199.99\n",
      "trim\n",
      "saved at /home/mlind/Dokumente/Lectures/WS2021/RMT/Data/Ridgecrest/Observations/ev1/CI.HEC..HHE\n",
      "saved at /home/mlind/Dokumente/Lectures/WS2021/RMT/Data/Ridgecrest/Observations/ev1/CI.HEC..HHN\n",
      "saved at /home/mlind/Dokumente/Lectures/WS2021/RMT/Data/Ridgecrest/Observations/ev1/CI.HEC..HHZ\n"
     ]
    },
    {
     "name": "stderr",
     "output_type": "stream",
     "text": [
      "/software/anaconda3/envs/seispy_env/lib/python3.7/site-packages/obspy/io/mseed/core.py:790: UserWarning: The encoding specified in trace.stats.mseed.encoding does not match the dtype of the data.\n",
      "A suitable encoding will be chosen.\n",
      "  warnings.warn(msg, UserWarning)\n"
     ]
    },
    {
     "name": "stdout",
     "output_type": "stream",
     "text": [
      "3 Trace(s) in Stream:\n",
      "CI.IRM..HHE | 2019-07-06T03:14:53.008393Z - 2019-07-06T03:34:52.998393Z | 100.0 Hz, 120000 samples\n",
      "CI.IRM..HHN | 2019-07-06T03:14:53.008393Z - 2019-07-06T03:34:52.998393Z | 100.0 Hz, 120000 samples\n",
      "CI.IRM..HHZ | 2019-07-06T03:14:53.008393Z - 2019-07-06T03:34:52.998393Z | 100.0 Hz, 120000 samples\n",
      "1199.99\n",
      "trim\n",
      "saved at /home/mlind/Dokumente/Lectures/WS2021/RMT/Data/Ridgecrest/Observations/ev1/CI.IRM..HHE\n",
      "saved at /home/mlind/Dokumente/Lectures/WS2021/RMT/Data/Ridgecrest/Observations/ev1/CI.IRM..HHN\n",
      "saved at /home/mlind/Dokumente/Lectures/WS2021/RMT/Data/Ridgecrest/Observations/ev1/CI.IRM..HHZ\n"
     ]
    },
    {
     "name": "stderr",
     "output_type": "stream",
     "text": [
      "/software/anaconda3/envs/seispy_env/lib/python3.7/site-packages/obspy/io/mseed/core.py:790: UserWarning: The encoding specified in trace.stats.mseed.encoding does not match the dtype of the data.\n",
      "A suitable encoding will be chosen.\n",
      "  warnings.warn(msg, UserWarning)\n"
     ]
    },
    {
     "name": "stdout",
     "output_type": "stream",
     "text": [
      "3 Trace(s) in Stream:\n",
      "CI.ISA..HHE | 2019-07-06T03:14:53.008393Z - 2019-07-06T03:34:52.998393Z | 100.0 Hz, 120000 samples\n",
      "CI.ISA..HHN | 2019-07-06T03:14:53.008393Z - 2019-07-06T03:34:52.998393Z | 100.0 Hz, 120000 samples\n",
      "CI.ISA..HHZ | 2019-07-06T03:14:53.008393Z - 2019-07-06T03:34:52.998393Z | 100.0 Hz, 120000 samples\n",
      "1199.99\n",
      "trim\n",
      "saved at /home/mlind/Dokumente/Lectures/WS2021/RMT/Data/Ridgecrest/Observations/ev1/CI.ISA..HHE\n",
      "saved at /home/mlind/Dokumente/Lectures/WS2021/RMT/Data/Ridgecrest/Observations/ev1/CI.ISA..HHN\n",
      "saved at /home/mlind/Dokumente/Lectures/WS2021/RMT/Data/Ridgecrest/Observations/ev1/CI.ISA..HHZ\n"
     ]
    },
    {
     "name": "stderr",
     "output_type": "stream",
     "text": [
      "/software/anaconda3/envs/seispy_env/lib/python3.7/site-packages/obspy/io/mseed/core.py:790: UserWarning: The encoding specified in trace.stats.mseed.encoding does not match the dtype of the data.\n",
      "A suitable encoding will be chosen.\n",
      "  warnings.warn(msg, UserWarning)\n"
     ]
    },
    {
     "name": "stdout",
     "output_type": "stream",
     "text": [
      "3 Trace(s) in Stream:\n",
      "CI.MLAC..HHE | 2019-07-06T03:14:53.008391Z - 2019-07-06T03:34:52.998391Z | 100.0 Hz, 120000 samples\n",
      "CI.MLAC..HHN | 2019-07-06T03:14:53.008391Z - 2019-07-06T03:34:52.998391Z | 100.0 Hz, 120000 samples\n",
      "CI.MLAC..HHZ | 2019-07-06T03:14:53.008393Z - 2019-07-06T03:34:52.998393Z | 100.0 Hz, 120000 samples\n",
      "1199.989998\n",
      "trim\n",
      "saved at /home/mlind/Dokumente/Lectures/WS2021/RMT/Data/Ridgecrest/Observations/ev1/CI.MLAC..HHE\n",
      "saved at /home/mlind/Dokumente/Lectures/WS2021/RMT/Data/Ridgecrest/Observations/ev1/CI.MLAC..HHN\n",
      "saved at /home/mlind/Dokumente/Lectures/WS2021/RMT/Data/Ridgecrest/Observations/ev1/CI.MLAC..HHZ\n"
     ]
    },
    {
     "name": "stderr",
     "output_type": "stream",
     "text": [
      "/software/anaconda3/envs/seispy_env/lib/python3.7/site-packages/obspy/io/mseed/core.py:790: UserWarning: The encoding specified in trace.stats.mseed.encoding does not match the dtype of the data.\n",
      "A suitable encoding will be chosen.\n",
      "  warnings.warn(msg, UserWarning)\n"
     ]
    },
    {
     "name": "stdout",
     "output_type": "stream",
     "text": [
      "3 Trace(s) in Stream:\n",
      "CI.MPP..HHE | 2019-07-06T03:14:53.008393Z - 2019-07-06T03:34:52.998393Z | 100.0 Hz, 120000 samples\n",
      "CI.MPP..HHN | 2019-07-06T03:14:53.008393Z - 2019-07-06T03:34:52.998393Z | 100.0 Hz, 120000 samples\n",
      "CI.MPP..HHZ | 2019-07-06T03:14:53.008393Z - 2019-07-06T03:34:52.998393Z | 100.0 Hz, 120000 samples\n",
      "1199.99\n",
      "trim\n",
      "saved at /home/mlind/Dokumente/Lectures/WS2021/RMT/Data/Ridgecrest/Observations/ev1/CI.MPP..HHE\n",
      "saved at /home/mlind/Dokumente/Lectures/WS2021/RMT/Data/Ridgecrest/Observations/ev1/CI.MPP..HHN\n",
      "saved at /home/mlind/Dokumente/Lectures/WS2021/RMT/Data/Ridgecrest/Observations/ev1/CI.MPP..HHZ\n"
     ]
    },
    {
     "name": "stderr",
     "output_type": "stream",
     "text": [
      "/software/anaconda3/envs/seispy_env/lib/python3.7/site-packages/obspy/io/mseed/core.py:790: UserWarning: The encoding specified in trace.stats.mseed.encoding does not match the dtype of the data.\n",
      "A suitable encoding will be chosen.\n",
      "  warnings.warn(msg, UserWarning)\n"
     ]
    },
    {
     "name": "stdout",
     "output_type": "stream",
     "text": [
      "3 Trace(s) in Stream:\n",
      "CI.MUR..HHE | 2019-07-06T03:14:53.008393Z - 2019-07-06T03:34:52.998393Z | 100.0 Hz, 120000 samples\n",
      "CI.MUR..HHN | 2019-07-06T03:14:53.008393Z - 2019-07-06T03:34:52.998393Z | 100.0 Hz, 120000 samples\n",
      "CI.MUR..HHZ | 2019-07-06T03:14:53.008393Z - 2019-07-06T03:34:52.998393Z | 100.0 Hz, 120000 samples\n",
      "1199.99\n",
      "trim\n",
      "saved at /home/mlind/Dokumente/Lectures/WS2021/RMT/Data/Ridgecrest/Observations/ev1/CI.MUR..HHE\n",
      "saved at /home/mlind/Dokumente/Lectures/WS2021/RMT/Data/Ridgecrest/Observations/ev1/CI.MUR..HHN\n",
      "saved at /home/mlind/Dokumente/Lectures/WS2021/RMT/Data/Ridgecrest/Observations/ev1/CI.MUR..HHZ\n"
     ]
    },
    {
     "name": "stderr",
     "output_type": "stream",
     "text": [
      "/software/anaconda3/envs/seispy_env/lib/python3.7/site-packages/obspy/io/mseed/core.py:790: UserWarning: The encoding specified in trace.stats.mseed.encoding does not match the dtype of the data.\n",
      "A suitable encoding will be chosen.\n",
      "  warnings.warn(msg, UserWarning)\n"
     ]
    },
    {
     "name": "stdout",
     "output_type": "stream",
     "text": [
      "3 Trace(s) in Stream:\n",
      "CI.MWC..HHE | 2019-07-06T03:14:53.008393Z - 2019-07-06T03:34:52.998393Z | 100.0 Hz, 120000 samples\n",
      "CI.MWC..HHN | 2019-07-06T03:14:53.008393Z - 2019-07-06T03:34:52.998393Z | 100.0 Hz, 120000 samples\n",
      "CI.MWC..HHZ | 2019-07-06T03:14:53.008393Z - 2019-07-06T03:34:52.998393Z | 100.0 Hz, 120000 samples\n",
      "1199.99\n",
      "trim\n",
      "saved at /home/mlind/Dokumente/Lectures/WS2021/RMT/Data/Ridgecrest/Observations/ev1/CI.MWC..HHE\n",
      "saved at /home/mlind/Dokumente/Lectures/WS2021/RMT/Data/Ridgecrest/Observations/ev1/CI.MWC..HHN\n",
      "saved at /home/mlind/Dokumente/Lectures/WS2021/RMT/Data/Ridgecrest/Observations/ev1/CI.MWC..HHZ\n"
     ]
    },
    {
     "name": "stderr",
     "output_type": "stream",
     "text": [
      "/software/anaconda3/envs/seispy_env/lib/python3.7/site-packages/obspy/io/mseed/core.py:790: UserWarning: The encoding specified in trace.stats.mseed.encoding does not match the dtype of the data.\n",
      "A suitable encoding will be chosen.\n",
      "  warnings.warn(msg, UserWarning)\n"
     ]
    },
    {
     "name": "stdout",
     "output_type": "stream",
     "text": [
      "3 Trace(s) in Stream:\n",
      "CI.NEE2..HHE | 2019-07-06T03:14:53.008393Z - 2019-07-06T03:34:52.998393Z | 100.0 Hz, 120000 samples\n",
      "CI.NEE2..HHN | 2019-07-06T03:14:53.008391Z - 2019-07-06T03:34:52.998391Z | 100.0 Hz, 120000 samples\n",
      "CI.NEE2..HHZ | 2019-07-06T03:14:53.008391Z - 2019-07-06T03:34:52.998391Z | 100.0 Hz, 120000 samples\n",
      "1199.989998\n",
      "trim\n",
      "saved at /home/mlind/Dokumente/Lectures/WS2021/RMT/Data/Ridgecrest/Observations/ev1/CI.NEE2..HHE\n",
      "saved at /home/mlind/Dokumente/Lectures/WS2021/RMT/Data/Ridgecrest/Observations/ev1/CI.NEE2..HHN\n",
      "saved at /home/mlind/Dokumente/Lectures/WS2021/RMT/Data/Ridgecrest/Observations/ev1/CI.NEE2..HHZ\n"
     ]
    },
    {
     "name": "stderr",
     "output_type": "stream",
     "text": [
      "/software/anaconda3/envs/seispy_env/lib/python3.7/site-packages/obspy/io/mseed/core.py:790: UserWarning: The encoding specified in trace.stats.mseed.encoding does not match the dtype of the data.\n",
      "A suitable encoding will be chosen.\n",
      "  warnings.warn(msg, UserWarning)\n"
     ]
    },
    {
     "name": "stdout",
     "output_type": "stream",
     "text": [
      "3 Trace(s) in Stream:\n",
      "CI.OSI..HHE | 2019-07-06T03:14:53.008393Z - 2019-07-06T03:34:52.998393Z | 100.0 Hz, 120000 samples\n",
      "CI.OSI..HHN | 2019-07-06T03:14:53.008393Z - 2019-07-06T03:34:52.998393Z | 100.0 Hz, 120000 samples\n",
      "CI.OSI..HHZ | 2019-07-06T03:14:53.008393Z - 2019-07-06T03:34:52.998393Z | 100.0 Hz, 120000 samples\n",
      "1199.99\n",
      "trim\n",
      "saved at /home/mlind/Dokumente/Lectures/WS2021/RMT/Data/Ridgecrest/Observations/ev1/CI.OSI..HHE\n",
      "saved at /home/mlind/Dokumente/Lectures/WS2021/RMT/Data/Ridgecrest/Observations/ev1/CI.OSI..HHN\n",
      "saved at /home/mlind/Dokumente/Lectures/WS2021/RMT/Data/Ridgecrest/Observations/ev1/CI.OSI..HHZ\n"
     ]
    },
    {
     "name": "stderr",
     "output_type": "stream",
     "text": [
      "/software/anaconda3/envs/seispy_env/lib/python3.7/site-packages/obspy/io/mseed/core.py:790: UserWarning: The encoding specified in trace.stats.mseed.encoding does not match the dtype of the data.\n",
      "A suitable encoding will be chosen.\n",
      "  warnings.warn(msg, UserWarning)\n"
     ]
    },
    {
     "name": "stdout",
     "output_type": "stream",
     "text": [
      "6 Trace(s) in Stream:\n",
      "CI.PASC.00.HHE | 2019-07-06T03:14:53.008393Z - 2019-07-06T03:34:52.998393Z | 100.0 Hz, 120000 samples\n",
      "CI.PASC.00.HHN | 2019-07-06T03:14:53.008391Z - 2019-07-06T03:34:52.998391Z | 100.0 Hz, 120000 samples\n",
      "CI.PASC.00.HHZ | 2019-07-06T03:14:53.008391Z - 2019-07-06T03:34:52.998391Z | 100.0 Hz, 120000 samples\n",
      "CI.PASC.10.HHE | 2019-07-06T03:14:53.008393Z - 2019-07-06T03:34:52.998393Z | 100.0 Hz, 120000 samples\n",
      "CI.PASC.10.HHN | 2019-07-06T03:14:53.008393Z - 2019-07-06T03:34:52.998393Z | 100.0 Hz, 120000 samples\n",
      "CI.PASC.10.HHZ | 2019-07-06T03:14:53.008393Z - 2019-07-06T03:34:52.998393Z | 100.0 Hz, 120000 samples\n",
      "1199.989998\n",
      "trim\n",
      "saved at /home/mlind/Dokumente/Lectures/WS2021/RMT/Data/Ridgecrest/Observations/ev1/CI.PASC.00.HHE\n",
      "saved at /home/mlind/Dokumente/Lectures/WS2021/RMT/Data/Ridgecrest/Observations/ev1/CI.PASC.00.HHN\n",
      "saved at /home/mlind/Dokumente/Lectures/WS2021/RMT/Data/Ridgecrest/Observations/ev1/CI.PASC.00.HHZ\n",
      "saved at /home/mlind/Dokumente/Lectures/WS2021/RMT/Data/Ridgecrest/Observations/ev1/CI.PASC.10.HHE\n",
      "saved at /home/mlind/Dokumente/Lectures/WS2021/RMT/Data/Ridgecrest/Observations/ev1/CI.PASC.10.HHN\n",
      "saved at /home/mlind/Dokumente/Lectures/WS2021/RMT/Data/Ridgecrest/Observations/ev1/CI.PASC.10.HHZ\n"
     ]
    },
    {
     "name": "stderr",
     "output_type": "stream",
     "text": [
      "/software/anaconda3/envs/seispy_env/lib/python3.7/site-packages/obspy/io/mseed/core.py:790: UserWarning: The encoding specified in trace.stats.mseed.encoding does not match the dtype of the data.\n",
      "A suitable encoding will be chosen.\n",
      "  warnings.warn(msg, UserWarning)\n"
     ]
    },
    {
     "name": "stdout",
     "output_type": "stream",
     "text": [
      "3 Trace(s) in Stream:\n",
      "CI.PHL..HHE | 2019-07-06T03:14:53.008393Z - 2019-07-06T03:34:52.998393Z | 100.0 Hz, 120000 samples\n",
      "CI.PHL..HHN | 2019-07-06T03:14:53.008393Z - 2019-07-06T03:34:52.998393Z | 100.0 Hz, 120000 samples\n",
      "CI.PHL..HHZ | 2019-07-06T03:14:53.008393Z - 2019-07-06T03:34:52.998393Z | 100.0 Hz, 120000 samples\n",
      "1199.99\n",
      "trim\n",
      "saved at /home/mlind/Dokumente/Lectures/WS2021/RMT/Data/Ridgecrest/Observations/ev1/CI.PHL..HHE\n",
      "saved at /home/mlind/Dokumente/Lectures/WS2021/RMT/Data/Ridgecrest/Observations/ev1/CI.PHL..HHN\n",
      "saved at /home/mlind/Dokumente/Lectures/WS2021/RMT/Data/Ridgecrest/Observations/ev1/CI.PHL..HHZ\n"
     ]
    },
    {
     "name": "stderr",
     "output_type": "stream",
     "text": [
      "/software/anaconda3/envs/seispy_env/lib/python3.7/site-packages/obspy/io/mseed/core.py:790: UserWarning: The encoding specified in trace.stats.mseed.encoding does not match the dtype of the data.\n",
      "A suitable encoding will be chosen.\n",
      "  warnings.warn(msg, UserWarning)\n"
     ]
    },
    {
     "name": "stdout",
     "output_type": "stream",
     "text": [
      "3 Trace(s) in Stream:\n",
      "CI.PLM..HHE | 2019-07-06T03:14:53.008393Z - 2019-07-06T03:34:52.998393Z | 100.0 Hz, 120000 samples\n",
      "CI.PLM..HHN | 2019-07-06T03:14:53.008393Z - 2019-07-06T03:34:52.998393Z | 100.0 Hz, 120000 samples\n",
      "CI.PLM..HHZ | 2019-07-06T03:14:53.008393Z - 2019-07-06T03:34:52.998393Z | 100.0 Hz, 120000 samples\n",
      "1199.99\n",
      "trim\n",
      "saved at /home/mlind/Dokumente/Lectures/WS2021/RMT/Data/Ridgecrest/Observations/ev1/CI.PLM..HHE\n",
      "saved at /home/mlind/Dokumente/Lectures/WS2021/RMT/Data/Ridgecrest/Observations/ev1/CI.PLM..HHN\n",
      "saved at /home/mlind/Dokumente/Lectures/WS2021/RMT/Data/Ridgecrest/Observations/ev1/CI.PLM..HHZ\n"
     ]
    },
    {
     "name": "stderr",
     "output_type": "stream",
     "text": [
      "/software/anaconda3/envs/seispy_env/lib/python3.7/site-packages/obspy/io/mseed/core.py:790: UserWarning: The encoding specified in trace.stats.mseed.encoding does not match the dtype of the data.\n",
      "A suitable encoding will be chosen.\n",
      "  warnings.warn(msg, UserWarning)\n"
     ]
    },
    {
     "name": "stdout",
     "output_type": "stream",
     "text": [
      "3 Trace(s) in Stream:\n",
      "CI.RPV..HHE | 2019-07-06T03:14:53.008393Z - 2019-07-06T03:34:52.998393Z | 100.0 Hz, 120000 samples\n",
      "CI.RPV..HHN | 2019-07-06T03:14:53.008394Z - 2019-07-06T03:34:52.998394Z | 100.0 Hz, 120000 samples\n",
      "CI.RPV..HHZ | 2019-07-06T03:14:53.008393Z - 2019-07-06T03:34:52.998393Z | 100.0 Hz, 120000 samples\n",
      "1199.989999\n",
      "trim\n",
      "saved at /home/mlind/Dokumente/Lectures/WS2021/RMT/Data/Ridgecrest/Observations/ev1/CI.RPV..HHE\n",
      "saved at /home/mlind/Dokumente/Lectures/WS2021/RMT/Data/Ridgecrest/Observations/ev1/CI.RPV..HHN\n",
      "saved at /home/mlind/Dokumente/Lectures/WS2021/RMT/Data/Ridgecrest/Observations/ev1/CI.RPV..HHZ\n"
     ]
    },
    {
     "name": "stderr",
     "output_type": "stream",
     "text": [
      "/software/anaconda3/envs/seispy_env/lib/python3.7/site-packages/obspy/io/mseed/core.py:790: UserWarning: The encoding specified in trace.stats.mseed.encoding does not match the dtype of the data.\n",
      "A suitable encoding will be chosen.\n",
      "  warnings.warn(msg, UserWarning)\n"
     ]
    },
    {
     "name": "stdout",
     "output_type": "stream",
     "text": [
      "3 Trace(s) in Stream:\n",
      "CI.RRX..HHE | 2019-07-06T03:14:53.008393Z - 2019-07-06T03:34:52.998393Z | 100.0 Hz, 120000 samples\n",
      "CI.RRX..HHN | 2019-07-06T03:14:53.008393Z - 2019-07-06T03:34:52.998393Z | 100.0 Hz, 120000 samples\n",
      "CI.RRX..HHZ | 2019-07-06T03:14:53.008393Z - 2019-07-06T03:34:52.998393Z | 100.0 Hz, 120000 samples\n",
      "1199.99\n",
      "trim\n",
      "saved at /home/mlind/Dokumente/Lectures/WS2021/RMT/Data/Ridgecrest/Observations/ev1/CI.RRX..HHE\n",
      "saved at /home/mlind/Dokumente/Lectures/WS2021/RMT/Data/Ridgecrest/Observations/ev1/CI.RRX..HHN\n",
      "saved at /home/mlind/Dokumente/Lectures/WS2021/RMT/Data/Ridgecrest/Observations/ev1/CI.RRX..HHZ\n"
     ]
    },
    {
     "name": "stderr",
     "output_type": "stream",
     "text": [
      "/software/anaconda3/envs/seispy_env/lib/python3.7/site-packages/obspy/io/mseed/core.py:790: UserWarning: The encoding specified in trace.stats.mseed.encoding does not match the dtype of the data.\n",
      "A suitable encoding will be chosen.\n",
      "  warnings.warn(msg, UserWarning)\n"
     ]
    },
    {
     "name": "stdout",
     "output_type": "stream",
     "text": [
      "3 Trace(s) in Stream:\n",
      "CI.SDD..HHE | 2019-07-06T03:14:53.008393Z - 2019-07-06T03:34:52.998393Z | 100.0 Hz, 120000 samples\n",
      "CI.SDD..HHN | 2019-07-06T03:14:53.008394Z - 2019-07-06T03:34:52.998394Z | 100.0 Hz, 120000 samples\n",
      "CI.SDD..HHZ | 2019-07-06T03:14:53.008393Z - 2019-07-06T03:34:52.998393Z | 100.0 Hz, 120000 samples\n",
      "1199.989999\n",
      "trim\n",
      "saved at /home/mlind/Dokumente/Lectures/WS2021/RMT/Data/Ridgecrest/Observations/ev1/CI.SDD..HHE\n",
      "saved at /home/mlind/Dokumente/Lectures/WS2021/RMT/Data/Ridgecrest/Observations/ev1/CI.SDD..HHN\n",
      "saved at /home/mlind/Dokumente/Lectures/WS2021/RMT/Data/Ridgecrest/Observations/ev1/CI.SDD..HHZ\n"
     ]
    },
    {
     "name": "stderr",
     "output_type": "stream",
     "text": [
      "/software/anaconda3/envs/seispy_env/lib/python3.7/site-packages/obspy/io/mseed/core.py:790: UserWarning: The encoding specified in trace.stats.mseed.encoding does not match the dtype of the data.\n",
      "A suitable encoding will be chosen.\n",
      "  warnings.warn(msg, UserWarning)\n"
     ]
    },
    {
     "name": "stdout",
     "output_type": "stream",
     "text": [
      "3 Trace(s) in Stream:\n",
      "CI.SHO..HHE | 2019-07-06T03:14:53.008394Z - 2019-07-06T03:34:52.998394Z | 100.0 Hz, 120000 samples\n",
      "CI.SHO..HHN | 2019-07-06T03:14:53.008394Z - 2019-07-06T03:34:52.998394Z | 100.0 Hz, 120000 samples\n",
      "CI.SHO..HHZ | 2019-07-06T03:14:53.008394Z - 2019-07-06T03:34:52.998394Z | 100.0 Hz, 120000 samples\n",
      "1199.99\n",
      "trim\n",
      "saved at /home/mlind/Dokumente/Lectures/WS2021/RMT/Data/Ridgecrest/Observations/ev1/CI.SHO..HHE\n",
      "saved at /home/mlind/Dokumente/Lectures/WS2021/RMT/Data/Ridgecrest/Observations/ev1/CI.SHO..HHN\n",
      "saved at /home/mlind/Dokumente/Lectures/WS2021/RMT/Data/Ridgecrest/Observations/ev1/CI.SHO..HHZ\n"
     ]
    },
    {
     "name": "stderr",
     "output_type": "stream",
     "text": [
      "/software/anaconda3/envs/seispy_env/lib/python3.7/site-packages/obspy/io/mseed/core.py:790: UserWarning: The encoding specified in trace.stats.mseed.encoding does not match the dtype of the data.\n",
      "A suitable encoding will be chosen.\n",
      "  warnings.warn(msg, UserWarning)\n"
     ]
    },
    {
     "name": "stdout",
     "output_type": "stream",
     "text": [
      "3 Trace(s) in Stream:\n",
      "CI.SMM..HHE | 2019-07-06T03:14:53.008393Z - 2019-07-06T03:34:52.998393Z | 100.0 Hz, 120000 samples\n",
      "CI.SMM..HHN | 2019-07-06T03:14:53.008393Z - 2019-07-06T03:34:52.998393Z | 100.0 Hz, 120000 samples\n",
      "CI.SMM..HHZ | 2019-07-06T03:14:53.008393Z - 2019-07-06T03:34:52.998393Z | 100.0 Hz, 120000 samples\n",
      "1199.99\n",
      "trim\n",
      "saved at /home/mlind/Dokumente/Lectures/WS2021/RMT/Data/Ridgecrest/Observations/ev1/CI.SMM..HHE\n",
      "saved at /home/mlind/Dokumente/Lectures/WS2021/RMT/Data/Ridgecrest/Observations/ev1/CI.SMM..HHN\n",
      "saved at /home/mlind/Dokumente/Lectures/WS2021/RMT/Data/Ridgecrest/Observations/ev1/CI.SMM..HHZ\n"
     ]
    },
    {
     "name": "stderr",
     "output_type": "stream",
     "text": [
      "/software/anaconda3/envs/seispy_env/lib/python3.7/site-packages/obspy/io/mseed/core.py:790: UserWarning: The encoding specified in trace.stats.mseed.encoding does not match the dtype of the data.\n",
      "A suitable encoding will be chosen.\n",
      "  warnings.warn(msg, UserWarning)\n"
     ]
    },
    {
     "name": "stdout",
     "output_type": "stream",
     "text": [
      "3 Trace(s) in Stream:\n",
      "CI.SVD..HHE | 2019-07-06T03:14:53.008394Z - 2019-07-06T03:34:52.998394Z | 100.0 Hz, 120000 samples\n",
      "CI.SVD..HHN | 2019-07-06T03:14:53.008393Z - 2019-07-06T03:34:52.998393Z | 100.0 Hz, 120000 samples\n",
      "CI.SVD..HHZ | 2019-07-06T03:14:53.008393Z - 2019-07-06T03:34:52.998393Z | 100.0 Hz, 120000 samples\n",
      "1199.989999\n",
      "trim\n",
      "saved at /home/mlind/Dokumente/Lectures/WS2021/RMT/Data/Ridgecrest/Observations/ev1/CI.SVD..HHE\n",
      "saved at /home/mlind/Dokumente/Lectures/WS2021/RMT/Data/Ridgecrest/Observations/ev1/CI.SVD..HHN\n",
      "saved at /home/mlind/Dokumente/Lectures/WS2021/RMT/Data/Ridgecrest/Observations/ev1/CI.SVD..HHZ\n"
     ]
    },
    {
     "name": "stderr",
     "output_type": "stream",
     "text": [
      "/software/anaconda3/envs/seispy_env/lib/python3.7/site-packages/obspy/io/mseed/core.py:790: UserWarning: The encoding specified in trace.stats.mseed.encoding does not match the dtype of the data.\n",
      "A suitable encoding will be chosen.\n",
      "  warnings.warn(msg, UserWarning)\n"
     ]
    },
    {
     "name": "stdout",
     "output_type": "stream",
     "text": [
      "3 Trace(s) in Stream:\n",
      "CI.TIN..HHE | 2019-07-06T03:14:53.008393Z - 2019-07-06T03:34:52.998393Z | 100.0 Hz, 120000 samples\n",
      "CI.TIN..HHN | 2019-07-06T03:14:53.008393Z - 2019-07-06T03:34:52.998393Z | 100.0 Hz, 120000 samples\n",
      "CI.TIN..HHZ | 2019-07-06T03:14:53.008393Z - 2019-07-06T03:34:52.998393Z | 100.0 Hz, 120000 samples\n",
      "1199.99\n",
      "trim\n",
      "saved at /home/mlind/Dokumente/Lectures/WS2021/RMT/Data/Ridgecrest/Observations/ev1/CI.TIN..HHE\n",
      "saved at /home/mlind/Dokumente/Lectures/WS2021/RMT/Data/Ridgecrest/Observations/ev1/CI.TIN..HHN\n",
      "saved at /home/mlind/Dokumente/Lectures/WS2021/RMT/Data/Ridgecrest/Observations/ev1/CI.TIN..HHZ\n"
     ]
    },
    {
     "name": "stderr",
     "output_type": "stream",
     "text": [
      "/software/anaconda3/envs/seispy_env/lib/python3.7/site-packages/obspy/io/mseed/core.py:790: UserWarning: The encoding specified in trace.stats.mseed.encoding does not match the dtype of the data.\n",
      "A suitable encoding will be chosen.\n",
      "  warnings.warn(msg, UserWarning)\n"
     ]
    },
    {
     "name": "stdout",
     "output_type": "stream",
     "text": [
      "3 Trace(s) in Stream:\n",
      "CI.TUQ..HHE | 2019-07-06T03:14:53.008393Z - 2019-07-06T03:34:52.998393Z | 100.0 Hz, 120000 samples\n",
      "CI.TUQ..HHN | 2019-07-06T03:14:53.008393Z - 2019-07-06T03:34:52.998393Z | 100.0 Hz, 120000 samples\n",
      "CI.TUQ..HHZ | 2019-07-06T03:14:53.008393Z - 2019-07-06T03:34:52.998393Z | 100.0 Hz, 120000 samples\n",
      "1199.99\n",
      "trim\n",
      "saved at /home/mlind/Dokumente/Lectures/WS2021/RMT/Data/Ridgecrest/Observations/ev1/CI.TUQ..HHE\n",
      "saved at /home/mlind/Dokumente/Lectures/WS2021/RMT/Data/Ridgecrest/Observations/ev1/CI.TUQ..HHN\n",
      "saved at /home/mlind/Dokumente/Lectures/WS2021/RMT/Data/Ridgecrest/Observations/ev1/CI.TUQ..HHZ\n"
     ]
    },
    {
     "name": "stderr",
     "output_type": "stream",
     "text": [
      "/software/anaconda3/envs/seispy_env/lib/python3.7/site-packages/obspy/io/mseed/core.py:790: UserWarning: The encoding specified in trace.stats.mseed.encoding does not match the dtype of the data.\n",
      "A suitable encoding will be chosen.\n",
      "  warnings.warn(msg, UserWarning)\n"
     ]
    },
    {
     "name": "stdout",
     "output_type": "stream",
     "text": [
      "3 Trace(s) in Stream:\n",
      "CI.USC..HHE | 2019-07-06T03:14:53.008393Z - 2019-07-06T03:34:52.998393Z | 100.0 Hz, 120000 samples\n",
      "CI.USC..HHN | 2019-07-06T03:14:53.008393Z - 2019-07-06T03:34:52.998393Z | 100.0 Hz, 120000 samples\n",
      "CI.USC..HHZ | 2019-07-06T03:14:53.008393Z - 2019-07-06T03:34:52.998393Z | 100.0 Hz, 120000 samples\n",
      "1199.99\n",
      "trim\n",
      "saved at /home/mlind/Dokumente/Lectures/WS2021/RMT/Data/Ridgecrest/Observations/ev1/CI.USC..HHE\n",
      "saved at /home/mlind/Dokumente/Lectures/WS2021/RMT/Data/Ridgecrest/Observations/ev1/CI.USC..HHN\n",
      "saved at /home/mlind/Dokumente/Lectures/WS2021/RMT/Data/Ridgecrest/Observations/ev1/CI.USC..HHZ\n"
     ]
    },
    {
     "name": "stderr",
     "output_type": "stream",
     "text": [
      "/software/anaconda3/envs/seispy_env/lib/python3.7/site-packages/obspy/io/mseed/core.py:790: UserWarning: The encoding specified in trace.stats.mseed.encoding does not match the dtype of the data.\n",
      "A suitable encoding will be chosen.\n",
      "  warnings.warn(msg, UserWarning)\n"
     ]
    },
    {
     "name": "stdout",
     "output_type": "stream",
     "text": [
      "3 Trace(s) in Stream:\n",
      "CI.VES..HHE | 2019-07-06T03:14:53.008391Z - 2019-07-06T03:34:52.998391Z | 100.0 Hz, 120000 samples\n",
      "CI.VES..HHN | 2019-07-06T03:14:53.008391Z - 2019-07-06T03:34:52.998391Z | 100.0 Hz, 120000 samples\n",
      "CI.VES..HHZ | 2019-07-06T03:14:53.008391Z - 2019-07-06T03:34:52.998391Z | 100.0 Hz, 120000 samples\n",
      "1199.99\n",
      "trim\n",
      "saved at /home/mlind/Dokumente/Lectures/WS2021/RMT/Data/Ridgecrest/Observations/ev1/CI.VES..HHE\n",
      "saved at /home/mlind/Dokumente/Lectures/WS2021/RMT/Data/Ridgecrest/Observations/ev1/CI.VES..HHN\n",
      "saved at /home/mlind/Dokumente/Lectures/WS2021/RMT/Data/Ridgecrest/Observations/ev1/CI.VES..HHZ\n"
     ]
    },
    {
     "name": "stderr",
     "output_type": "stream",
     "text": [
      "/software/anaconda3/envs/seispy_env/lib/python3.7/site-packages/obspy/io/mseed/core.py:790: UserWarning: The encoding specified in trace.stats.mseed.encoding does not match the dtype of the data.\n",
      "A suitable encoding will be chosen.\n",
      "  warnings.warn(msg, UserWarning)\n"
     ]
    },
    {
     "name": "stdout",
     "output_type": "stream",
     "text": [
      "3 Trace(s) in Stream:\n",
      "CI.VOG..HHE | 2019-07-06T03:14:53.008393Z - 2019-07-06T03:34:52.998393Z | 100.0 Hz, 120000 samples\n",
      "CI.VOG..HHN | 2019-07-06T03:14:53.008393Z - 2019-07-06T03:34:52.998393Z | 100.0 Hz, 120000 samples\n",
      "CI.VOG..HHZ | 2019-07-06T03:14:53.008393Z - 2019-07-06T03:34:52.998393Z | 100.0 Hz, 120000 samples\n",
      "1199.99\n",
      "trim\n",
      "saved at /home/mlind/Dokumente/Lectures/WS2021/RMT/Data/Ridgecrest/Observations/ev1/CI.VOG..HHE\n",
      "saved at /home/mlind/Dokumente/Lectures/WS2021/RMT/Data/Ridgecrest/Observations/ev1/CI.VOG..HHN\n",
      "saved at /home/mlind/Dokumente/Lectures/WS2021/RMT/Data/Ridgecrest/Observations/ev1/CI.VOG..HHZ\n"
     ]
    },
    {
     "name": "stderr",
     "output_type": "stream",
     "text": [
      "/software/anaconda3/envs/seispy_env/lib/python3.7/site-packages/obspy/io/mseed/core.py:790: UserWarning: The encoding specified in trace.stats.mseed.encoding does not match the dtype of the data.\n",
      "A suitable encoding will be chosen.\n",
      "  warnings.warn(msg, UserWarning)\n"
     ]
    },
    {
     "name": "stdout",
     "output_type": "stream",
     "text": [
      "3 Trace(s) in Stream:\n",
      "CI.VTV..HHE | 2019-07-06T03:14:53.008393Z - 2019-07-06T03:34:52.998393Z | 100.0 Hz, 120000 samples\n",
      "CI.VTV..HHN | 2019-07-06T03:14:53.008393Z - 2019-07-06T03:34:52.998393Z | 100.0 Hz, 120000 samples\n",
      "CI.VTV..HHZ | 2019-07-06T03:14:53.008393Z - 2019-07-06T03:34:52.998393Z | 100.0 Hz, 120000 samples\n",
      "1199.99\n",
      "trim\n",
      "saved at /home/mlind/Dokumente/Lectures/WS2021/RMT/Data/Ridgecrest/Observations/ev1/CI.VTV..HHE\n",
      "saved at /home/mlind/Dokumente/Lectures/WS2021/RMT/Data/Ridgecrest/Observations/ev1/CI.VTV..HHN\n",
      "saved at /home/mlind/Dokumente/Lectures/WS2021/RMT/Data/Ridgecrest/Observations/ev1/CI.VTV..HHZ\n"
     ]
    },
    {
     "name": "stderr",
     "output_type": "stream",
     "text": [
      "/software/anaconda3/envs/seispy_env/lib/python3.7/site-packages/obspy/io/mseed/core.py:790: UserWarning: The encoding specified in trace.stats.mseed.encoding does not match the dtype of the data.\n",
      "A suitable encoding will be chosen.\n",
      "  warnings.warn(msg, UserWarning)\n"
     ]
    }
   ],
   "source": [
    "from obspy.clients.fdsn import Client\n",
    "from obspy.clients.fdsn.header import URL_MAPPINGS\n",
    "from obspy import UTCDateTime\n",
    "import matplotlib.pyplot as plt\n",
    "import numpy as np\n",
    "\n",
    "tstart = UTCDateTime(2019,7,6,3,19,53) - 5.*60.  \n",
    "tend = UTCDateTime(2019,7,6,3,19,53) + 15.*60.\n",
    "lat = 35.770\n",
    "lon = -117.599\n",
    "\n",
    "attach_response=True#False#\n",
    "save_wave = True\n",
    "path2dir = '/home/mlind/Dokumente/Lectures/WS2021/RMT/Data/Ridgecrest/Observations/'\n",
    "event_id = 'ev1'\n",
    "\n",
    "Stations = {}\n",
    "for ckey in ['IRIS']:#sorted(URL_MAPPINGS.keys()):\n",
    "    try:\n",
    "        client = Client(ckey)\n",
    "        inventory = client.get_stations(longitude=lon, latitude=lat,\n",
    "                                        minradius=50./111.,maxradius=300.0/111., level=\"station\")\n",
    "        Stations[ckey] = {}\n",
    "        for netw_i in range(len(inventory.networks)):\n",
    "            netw = inventory.networks[netw_i]\n",
    "            netw_id = netw.code # network code\n",
    "            if netw_id in ['CI']:\n",
    "                for stat_i in range(len(netw.stations)):\n",
    "                    stat = inventory.networks[netw_i].stations[stat_i]\n",
    "                    stat_id = stat.code # station code\n",
    "\n",
    "                    try:\n",
    "                        st = client.get_waveforms(network=netw_id, station=stat_id, \n",
    "                                        starttime=tstart, endtime=tend, \n",
    "                                        location='*', channel='HH*', attach_response=attach_response)\n",
    "                        \n",
    "                        print(st)\n",
    "                        \n",
    "                        if save_wave:\n",
    "                            t0,t1 = [],[]\n",
    "                            for tr in st:\n",
    "                                t0.append(float(tr.stats.starttime))\n",
    "                                t1.append(float(tr.stats.endtime))\n",
    "                            st.remove_response(output='DISP', water_level=60, plot=False)\n",
    "                            print(UTCDateTime(np.min(np.asarray(t1)))-UTCDateTime(np.max(np.asarray(t0))))\n",
    "                            st.trim(UTCDateTime(np.max(np.asarray(t0))),\n",
    "                                    UTCDateTime(np.min(np.asarray(t1))),pad=True)\n",
    "                            print('trim')\n",
    "                            for tr in st:\n",
    "                                tr.write(path2dir+event_id+'/'+tr.id,format='MSEED')\n",
    "                                print('saved at '+path2dir+event_id+'/'+tr.id)\n",
    "                        \n",
    "                        access = True   \n",
    "                    except:\n",
    "                        access = False\n",
    "\n",
    "                    if access:\n",
    "                        key = netw_id+'_'+stat_id\n",
    "                        cCode, tr_info = [], []\n",
    "                        for tr in st:\n",
    "                            cc = tr.stats.channel[:2]\n",
    "                            sr = tr.stats.sampling_rate\n",
    "                            if cc not in cCode:\n",
    "                                cCode.append(cc)\n",
    "                                tr_info.append([cc,sr])\n",
    "\n",
    "                        if 'HH' in cCode:\n",
    "                            Stations[ckey][key] = [netw_id,stat_id,stat.latitude,stat.longitude,\n",
    "                                                   stat.elevation,tr_info]\n",
    "\n",
    "        \n",
    "    except:\n",
    "        print('Issue with Client '+ckey)\n",
    "        continue"
   ]
  },
  {
   "cell_type": "code",
   "execution_count": null,
   "metadata": {
    "scrolled": false
   },
   "outputs": [],
   "source": [
    "print(Stations)\n",
    "\n",
    "fig = plt.figure(figsize=(30, 30), facecolor='w', edgecolor='k')\n",
    "for stat_id in Stations['IRIS']:\n",
    "    stat = Stations['IRIS'][stat_id][1]\n",
    "    lat_s = Stations['IRIS'][stat_id][2]\n",
    "    lon_s = Stations['IRIS'][stat_id][3]\n",
    "    plt.plot(lon_s,lat_s,'gd')\n",
    "    plt.text(lon_s,lat_s,stat,color='g',fontsize=18)\n",
    "plt.plot(lon,lat,'ro')    \n",
    "plt.show()\n",
    "    \n",
    "\n",
    "'''\n",
    "path2file = '/home/mlind/Dokumente/Lectures/WS2021/RMT/TextFiles/Ridgecrest/'\n",
    "\n",
    "with open(path2file+'STATIONS_global', 'w') as f:\n",
    "    for client in Stations:\n",
    "        for stat_id in Stations[client]:\n",
    "            info = Stations[client][stat_id]\n",
    "            netw = info[0]\n",
    "            stat = info[1]\n",
    "            #f.write('%s %s %s %2.4f %2.4f %.1f 0.0\\n' %(\n",
    "            #    client, info[0], info[1],info[2],info[3],info[4]))\n",
    "            f.write('%s %s %2.4f %2.4f %.1f 0.0\\n' %(\n",
    "                info[1], info[0],info[2],info[3],info[4]))\n",
    "f.close()\n",
    "'''"
   ]
  },
  {
   "cell_type": "code",
   "execution_count": null,
   "metadata": {
    "scrolled": true
   },
   "outputs": [],
   "source": [
    "import matplotlib.pyplot as plt\n",
    "import numpy as np\n",
    "from obspy.geodetics.base import gps2dist_azimuth\n",
    "\n",
    "def get_events(path2file):\n",
    "    data = {}\n",
    "    with open(path2file, 'r') as f:\n",
    "        content = f.readlines()\n",
    "        content = [line.rstrip('\\n') for line in content]\n",
    "    f.close()\n",
    "    for li, line in enumerate(content):\n",
    "        info = line.split()\n",
    "        time = UTCDateTime('20'+info[1]+'T'+info[2])\n",
    "        data['ev'+str(li+1)] = [float(info[3]),float(info[4]),float(info[5]),float(info[7]),time]\n",
    "    return data\n",
    "\n",
    "\n",
    "\n",
    "path2file = '/home/mlind/Python_Scripts/Final_Code/TextFiles/Karibik/VOILA_event_list_full'\n",
    "\n",
    "\n",
    "data = get_events(path2file)\n",
    "mmag = [3.,7.]\n",
    "reg = [16.25,-61.25,1850]\n",
    "e_list = plot_events(data,mmag,reg)\n",
    "\n",
    "\n",
    "print(len(e_list))\n",
    "\n",
    "modList = []#['ev143', 'ev123', 'ev152', 'ev106', 'ev155', 'ev144', 'ev120', 'ev150', 'ev151', 'ev50', 'ev153',\n",
    "           #'ev131', 'ev130', 'ev115', 'ev101', 'ev105', 'ev116', 'ev77', 'ev149', 'ev111', 'ev112', 'ev118',\n",
    "           #'ev127', 'ev113', 'ev332', 'ev114', 'ev187', 'ev341', 'ev154', 'ev281', 'ev104', 'ev122', 'ev129',\n",
    "           #'ev146', 'ev126', 'ev110', 'ev331', 'ev171', 'ev345', 'ev102', 'ev340', 'ev48', 'ev49', 'ev54',\n",
    "           #'ev46', 'ev55']\n",
    "rem_List = []#['ev333','ev16', 'ev31', 'ev336']\n",
    "\n",
    "todo = []\n",
    "for ei in e_list:\n",
    "    if ei not in modList+rem_List:\n",
    "        print(ei,e_list[ei])\n",
    "        todo.append(ei)"
   ]
  },
  {
   "cell_type": "code",
   "execution_count": null,
   "metadata": {},
   "outputs": [],
   "source": [
    "\n"
   ]
  },
  {
   "cell_type": "code",
   "execution_count": null,
   "metadata": {
    "scrolled": true
   },
   "outputs": [],
   "source": [
    "import os\n",
    "from libcomcat.search import search\n",
    "from datetime import datetime\n",
    "from obspy.imaging.beachball import beachball, aux_plane, beach\n",
    "from py_src.util import Tape2M, M2Tape\n",
    "\n",
    "def createFolder(directory):\n",
    "    try:\n",
    "        if not os.path.exists(directory):\n",
    "            os.makedirs(directory)\n",
    "    except OSError:\n",
    "        print ('Error: Creating directory. ' +  directory)\n",
    "        \n",
    "\n",
    "def acces_USGS_database(t,lat,lon,ev_id):\n",
    "    tstart = t-60*10\n",
    "    starttime = tstart.datetime\n",
    "    tend = t+60*10\n",
    "    endtime = tend.datetime\n",
    "    MT_events = search(starttime=starttime, endtime=endtime,\n",
    "                   maxradiuskm=150, latitude=lat, longitude=lon,producttype='moment-tensor')\n",
    "    try:\n",
    "        for evi,event in enumerate(MT_events):\n",
    "                detail = event.getDetailEvent()\n",
    "                edict = detail.toDict(get_all_magnitudes=False,\n",
    "                                        get_tensors='preferred',\n",
    "                                        get_moment_supplement=False,\n",
    "                                        get_focals='preferred')\n",
    "                for key_i in edict.keys():\n",
    "                    if key_i.split('_')[-1] == 'mrr':\n",
    "                        MT_id = key_i[:-4]\n",
    "                MT = [edict[MT_id+'_mrr'],edict[MT_id+'_mtt'],edict[MT_id+'_mpp'],\n",
    "                      edict[MT_id+'_mrt'],edict[MT_id+'_mrp'],edict[MT_id+'_mtp']]\n",
    "\n",
    "        print(event)\n",
    "        s1,d1,r1,c1,i1,m0 = M2Tape(np.asarray(MT))\n",
    "        s2,d2,r2 = aux_plane(s1,d1,r1)\n",
    "        print(str(int(s1))+'/'+str(int(s2)))\n",
    "        print(str(int(d1))+'/'+str(int(d2)))\n",
    "        print(str(int(r1))+'/'+str(int(r2)))\n",
    "        print(int(100*c1/30.))\n",
    "        beachball(MT, size=200, linewidth=2, facecolor='b',outfile=ev_id+'.png')\n",
    "        \n",
    "    except:\n",
    "        pass\n",
    "    \n",
    "    \n",
    "        \n",
    "\n",
    "from functools import partial\n",
    "import tkinter as tk\n",
    "from obspy import UTCDateTime\n",
    "from obspy.clients.filesystem.sds import Client\n",
    "client = Client(\"/data_scc/AlgGeo/VOILA\")\n",
    "\n",
    "\n",
    "\n",
    "paht2dir = '/home/mlind/Python_Scripts/Final_Code/Data/Karibik/Observations_full_LA/'\n",
    "sel_List = ['ev281']#,'ev122','ev155']#'ev106','ev122','ev123','ev143','ev152','ev155']\n",
    "t_bef = 15*60\n",
    "tlen = 30*60\n",
    "\n",
    "for event_id in todo:#sel_List:#e_list:#\n",
    "    print('Accessing event '+event_id)\n",
    "    t = e_list[event_id][4]\n",
    "    [lat,lon] = e_list[event_id][:2]\n",
    "    \n",
    "    acces_USGS_database(t,lat,lon,event_id)\n",
    "    \n",
    "    '''\n",
    "    \n",
    "\n",
    "    st = client.get_waveforms(\"XX\", \"*\", \"\", \"BHZ\", t-t_bef, t + tlen)\n",
    "    st += client.get_waveforms(\"XX\", \"*\", \"\", \"BH1\", t-t_bef, t + tlen)\n",
    "    st += client.get_waveforms(\"XX\", \"*\", \"\", \"BH2\", t-t_bef, t + tlen)\n",
    "    \n",
    "    st.merge()\n",
    "    \n",
    "    st.detrend(type='demean')\n",
    "    \n",
    "\n",
    "    t0,t1 = [],[]\n",
    "    for tr in st:\n",
    "        t0.append(tr.stats.starttime)\n",
    "        t1.append(tr.stats.endtime)\n",
    "    \n",
    "    \n",
    "    st.remove_response(inventory=inv, pre_filt=False,\n",
    "                       output='DISP', water_level=60, plot=False)\n",
    "\n",
    "    \n",
    "    st.trim(np.max(np.asarray(t0)),np.min(np.asarray(t1)),pad=True)\n",
    "    \n",
    "    st.rotate(method='->ZNE', inventory=inv)\n",
    "    \n",
    "    createFolder(paht2dir+event_id)\n",
    "    \n",
    "    for tr in st:\n",
    "        \n",
    "        if tr.stats.network == 'SI':\n",
    "            if tr.stats.channel[-1] in ['R','T']:\n",
    "                tr.data *= -1\n",
    "        \n",
    "        tr.write(paht2dir+event_id+'/'+tr.id,format='MSEED')\n",
    "    \n",
    "    \n",
    "    '''\n",
    "    \n",
    "    '''\n",
    "    for stat_id in sorted(Stations):\n",
    "        stat = stat_id.split('_')[1]\n",
    "        sts = st.select(station=stat)\n",
    "        sts.rotate(method='NE->RT', back_azimuth=Stations[stat_id][5])\n",
    "        \n",
    "        fig = plt.figure(figsize=(20, 10), facecolor='w', edgecolor='k')\n",
    "        V2H = {}\n",
    "        for ci,comp in enumerate(['Z','R','T']):\n",
    "            stc = sts.select(component=comp)\n",
    "            stf = stc.copy()\n",
    "            \n",
    "            plt.subplot(2,3,ci+1)\n",
    "            #stc.trim(stc[0].stats.starttime+5*60,stc[0].stats.endtime-5*60)\n",
    "            t = np.arange(stc[0].stats.npts)*stc[0].stats.delta\n",
    "            plt.plot(t,stc[0].data)\n",
    "            plt.title(stc[0].id)\n",
    "            \n",
    "            \n",
    "            \n",
    "            plt.subplot(2,3,ci+4)\n",
    "            stf.filter('bandpass',freqmin=0.03,freqmax=0.08,corners=4,zerophase=True)\n",
    "            #stf.trim(stf[0].stats.starttime+5*60,stf[0].stats.endtime-5*60)\n",
    "            plt.plot(t,stf[0].data)\n",
    "            \n",
    "            V2H[comp] = np.max(np.abs(stf[0].data))\n",
    "            \n",
    "            #self.comp_checked = tk.BooleanVar(self.app_win, True)\n",
    "            #self.comp_checked.trace(\"w\", partial(self.series_callback, self.comp_checked,comp))\n",
    "            #tk.Checkbutton(self.app_win, text=comp, variable=self.comp_checked).pack(padx=0,pady=0)\n",
    "            \n",
    "            #plt.xlim((15000,40000))\n",
    "            \n",
    "        print(V2H['Z']/V2H['R'],V2H['Z']/V2H['T'])\n",
    "        plt.show()\n",
    "        \n",
    "        \n",
    "        \n",
    "        print()\n",
    "        print('#'*30)\n",
    "        print()\n",
    "            \n",
    "    '''\n",
    "        \n",
    "        \n",
    "        \n",
    "        \n",
    "    #    for tr in st:\n",
    "    #        tr.write(paht2dir+event_id+'_test'+'/'+tr.id,format='MSEED')\n",
    "    #'''\n",
    "    #st.plot(equal_scale=False)\n",
    "\n",
    "    \n",
    "    \n",
    "    \n",
    "    \n",
    "    #'''\n",
    "print(asdf)"
   ]
  },
  {
   "cell_type": "code",
   "execution_count": null,
   "metadata": {
    "scrolled": true
   },
   "outputs": [],
   "source": []
  },
  {
   "cell_type": "code",
   "execution_count": null,
   "metadata": {},
   "outputs": [],
   "source": [
    "print(len(ML_1),len(ML_2))"
   ]
  },
  {
   "cell_type": "code",
   "execution_count": null,
   "metadata": {},
   "outputs": [],
   "source": [
    "import os\n",
    "from libcomcat.search import search\n",
    "from datetime import datetime\n",
    "from obspy.imaging.beachball import beachball, aux_plane, beach\n",
    "from py_src.util import Tape2M, M2Tape\n",
    "from obspy import UTCDateTime\n",
    "\n",
    "def acces_USGS_database_v2(lat,lon):\n",
    "    tstart = UTCDateTime(1990,1,1)\n",
    "    starttime = tstart.datetime\n",
    "    tend = UTCDateTime(2020,11,1)\n",
    "    endtime = tend.datetime\n",
    "    MT_events = search(starttime=starttime, endtime=endtime,\n",
    "                   maxradiuskm=150, latitude=lat, longitude=lon,producttype='moment-tensor')\n",
    "    try:\n",
    "        for evi,event in enumerate(MT_events):\n",
    "                detail = event.getDetailEvent()\n",
    "                edict = detail.toDict(get_all_magnitudes=False,\n",
    "                                        get_tensors='preferred',\n",
    "                                        get_moment_supplement=False,\n",
    "                                        get_focals='preferred')\n",
    "                for key_i in edict.keys():\n",
    "                    if key_i.split('_')[-1] == 'mrr':\n",
    "                        MT_id = key_i[:-4]\n",
    "                MT = [edict[MT_id+'_mrr'],edict[MT_id+'_mtt'],edict[MT_id+'_mpp'],\n",
    "                      edict[MT_id+'_mrt'],edict[MT_id+'_mrp'],edict[MT_id+'_mtp']]\n",
    "\n",
    "        print(event.magnitude)\n",
    "        s1,d1,r1,c1,i1,m0 = M2Tape(np.asarray(MT))\n",
    "        s2,d2,r2 = aux_plane(s1,d1,r1)\n",
    "        print(str(int(s1))+'/'+str(int(s2)))\n",
    "        print(str(int(d1))+'/'+str(int(d2)))\n",
    "        print(str(int(r1))+'/'+str(int(r2)))\n",
    "        print(int(100*c1/30.))\n",
    "        beachball(MT, size=200, linewidth=2, facecolor='b',outfile=ev_id+'.png')\n",
    "        \n",
    "    except:\n",
    "        pass\n",
    "    \n",
    "    \n",
    "lat, lon = 17.705, -61.584\n",
    "acces_USGS_database_v2(lat,lon)"
   ]
  },
  {
   "cell_type": "code",
   "execution_count": null,
   "metadata": {},
   "outputs": [],
   "source": [
    "minlat, maxlat = 10., 19.\n",
    "minlon, maxlon = -64.,-59.\n",
    "\n",
    "path2TextFiles = '/home/mlind/Python_Scripts/Final_Code/TextFiles/Karibik/'\n",
    "\n",
    "MT_events = search(starttime=datetime(2000, 1, 1, 0, 0), endtime=datetime(2020, 11, 5, 0, 0),\n",
    "                   minlatitude=minlat, maxlatitude=maxlat, \n",
    "                   minlongitude=minlon, maxlongitude=maxlon ,producttype='moment-tensor')\n",
    "print(len(MT_events))\n",
    "for evi,event in enumerate(MT_events):\n",
    "    try:\n",
    "        detail = event.getDetailEvent()\n",
    "        edict = detail.toDict(get_all_magnitudes=False,\n",
    "                                get_tensors='preferred',\n",
    "                                get_moment_supplement=False,\n",
    "                                get_focals='preferred')\n",
    "        key_id = edict.keys()\n",
    "        tev = UTCDateTime(event.time.year,event.time.month,event.time.day,event.time.hour,event.time.second)\n",
    "        for key_i in edict.keys():\n",
    "            if key_i.split('_')[-1] == 'mrr':\n",
    "                MT_id = key_i[:-4]\n",
    "        MT = [edict[MT_id+'_mrr'],edict[MT_id+'_mtt'],edict[MT_id+'_mpp'],edict[MT_id+'_mrt'],edict[MT_id+'_mrp'],edict[MT_id+'_mtp']]\n",
    "        with open(path2TextFiles+'Karibik_Moment_Tensor', 'a') as f:\n",
    "            f.write('ev%i Nevada %3.4f %3.4f %2.2f %1.1f %s %f %f %f %f %f %f\\n' %(evi,float(event.latitude),float(event.longitude),float(event.depth),float(event.magnitude),str(tev),\n",
    "                                                                     MT[0],MT[1],MT[2],MT[3],MT[4],MT[5]))\n",
    "        f.close()\n",
    "    except:\n",
    "        continue\n",
    "    \n",
    "    \n",
    "    "
   ]
  },
  {
   "cell_type": "code",
   "execution_count": null,
   "metadata": {},
   "outputs": [],
   "source": [
    "\n",
    "def MT_reader(filename):\n",
    "    # open txt file\n",
    "    with open(filename, \"r\") as f:\n",
    "        content = f.readlines()\n",
    "    f.close()\n",
    "    # get info\n",
    "    MT_list = {}\n",
    "    for ci, info in enumerate([line.rstrip('\\n') for line in content]):\n",
    "        info = info.split()\n",
    "        key = info[0]\n",
    "        time = UTCDateTime(info[6])\n",
    "        glob_loc = np.array([float(info[2]),float(info[3]),float(info[4])])\n",
    "        mag = float(info[5])\n",
    "        MT = np.array([float(info[7]),float(info[8]),float(info[9]),float(info[10]),float(info[11]),float(info[12])])\n",
    "        MT_list[key] = [time,glob_loc,mag,MT] \n",
    "    return MT_list\n",
    "\n",
    "\n",
    "minlat, maxlat = 10., 19.\n",
    "minlon, maxlon = -64.,-59.\n",
    "path2TextFiles = '/home/mlind/Python_Scripts/Final_Code/TextFiles/Karibik/'\n",
    "\n",
    "filename = path2TextFiles+'Karibik_Moment_Tensor'\n",
    "MT_list = MT_reader(filename)"
   ]
  },
  {
   "cell_type": "code",
   "execution_count": null,
   "metadata": {
    "scrolled": false
   },
   "outputs": [],
   "source": [
    "import matplotlib.pyplot as plt\n",
    "from mpl_toolkits.basemap import Basemap\n",
    "\n",
    "def display_map_from_file(MT_filename,map_dim):\n",
    "    MT_list = MT_reader(MT_filename)\n",
    "    #event_list = event_reader(Event_filename)\n",
    "    \n",
    "    llcrnrlon = map_dim[3] # Longitude lower left corner\n",
    "    llcrnrlat = map_dim[1] # Latitude lower left corner\n",
    "    urcrnrlon = map_dim[2] # Longitude upper right corner\n",
    "    urcrnrlat = map_dim[0] # Latitude upper right corner\n",
    "    fsize = 15\n",
    "    \n",
    "    fig = plt.figure(figsize=(25, 30), facecolor='w', edgecolor='k')\n",
    "    ax = plt.subplot(1,1,1)\n",
    "    #m = Basemap(llcrnrlon=llcrnrlon,\n",
    "    #            llcrnrlat=llcrnrlat,   \n",
    "    #            urcrnrlon=urcrnrlon, \n",
    "    #            urcrnrlat=urcrnrlat, \n",
    "    #            epsg=4269,ax=ax)\n",
    "    \n",
    "    \n",
    "    m = Basemap(projection='cyl', lon_0=-61.0, lat_0=15.0, \n",
    "                llcrnrlon=-64.0, urcrnrlon=-58.0, llcrnrlat=11.0,urcrnrlat=19.0, resolution='i') \n",
    "    \n",
    "    m.drawcoastlines()\n",
    "    m.drawcountries()\n",
    "    m.fillcontinents(color='wheat', lake_color='skyblue')\n",
    "    #m.arcgisimage(service='ESRI_Imagery_World_2D', xpixels = 2000, verbose= False)\n",
    "    # Draw a lon/lat grid (20 lines for an interval of one degree)\n",
    "    #m.drawparallels(np.linspace(llcrnrlat, urcrnrlat, 5), labels=[0, 1, 0, 0], fmt=\"%.2f\",\n",
    "    #                dashes=[2, 2], rotation=0)\n",
    "    #m.drawmeridians(np.linspace(llcrnrlon, urcrnrlon, 5), labels=[0, 0, 0, 1], fmt=\"%.2f\",\n",
    "    #                dashes=[2, 2])\n",
    "    plt.yticks(fontsize=fsize)\n",
    "    plt.xticks(fontsize=fsize)\n",
    "    m.drawmapboundary(fill_color='skyblue')\n",
    "    #ax.set_title(\"Japan Events\",fontsize=fsize)\n",
    "    #ax.set_title(\"2020 - Monte Cristo Range Earthquake (Afterschock Seismicity)\",fontsize=fsize)\n",
    "    ax.set_title(\"Lesser Antilles\",fontsize=fsize)\n",
    "    \n",
    "    for MT_id in MT_list:\n",
    "        [time,loc,mag,MT] = MT_list[MT_id]\n",
    "        #print(time)\n",
    "        #print(loc)\n",
    "        #print(mag)\n",
    "        x, y = m(loc[1], loc[0])\n",
    "        #print(x,y)\n",
    "        z = loc[2]\n",
    "        Mg_fac = 0.1*mag/6.5\n",
    "        if UTCDateTime(2016, 10, 18, 22, 4) <= time <= UTCDateTime(2016, 10, 18, 22, 12):\n",
    "            col = 'r'\n",
    "        elif time < UTCDateTime(2020, 5, 15, 9, 3):\n",
    "            col = 'b'\n",
    "        else:\n",
    "            col = 'b'\n",
    "        b = beach(MT, xy=(x,y), width=Mg_fac*1.1, linewidth=1, facecolor=col, alpha=1.0, nofill=False)\n",
    "        b.set_zorder(10)\n",
    "        ax.add_collection(b)\n",
    "        \n",
    "        \n",
    "        s1,d1,r1,c1,i1,M0 = M2Tape(np.asarray(MT))\n",
    "        s2,d2,r2 = aux_plane(s1,d1,r1)\n",
    "        \n",
    "        b = beach([s1,d1,r1], xy=(x,y), width=Mg_fac*1.1, linewidth=1, facecolor='k', alpha=1.0, nofill=True)\n",
    "        b.set_zorder(10)\n",
    "        ax.add_collection(b)\n",
    "        \n",
    "        #plt.text(x,y,str(int(z)),fontsize=15,zorder=1000,color='r')\n",
    "    \n",
    "    plt.plot(-61.584,17.705, 'r*')\n",
    "    plt.show()\n",
    "    \n",
    "    \n",
    "    \n",
    "    \n",
    "MT_filename = path2TextFiles+'Karibik_Moment_Tensor'\n",
    "map_dim = [minlat, maxlat, minlon, maxlon]\n",
    "display_map_from_file(MT_filename,map_dim)    \n",
    "    \n",
    "    \n",
    "    \n",
    "    \n",
    "    \n",
    "    \n",
    "    \n",
    "    \n",
    "    \n",
    "    \n",
    "    \n",
    "    \n",
    "    \n",
    "    \n",
    "    \n",
    "    "
   ]
  },
  {
   "cell_type": "code",
   "execution_count": 6,
   "metadata": {},
   "outputs": [
    {
     "name": "stdout",
     "output_type": "stream",
     "text": [
      "No data at Client BGR\n",
      "No data at Client EMSC\n",
      "No data at Client ETH\n",
      "No data at Client GEONET\n",
      "No data at Client GFZ\n",
      "No data at Client ICGC\n",
      "No data at Client INGV\n",
      "No data at Client ISC\n",
      "No data at Client KOERI\n",
      "No data at Client LMU\n",
      "No data at Client NCEDC\n",
      "No data at Client NIEP\n",
      "No data at Client NOA\n",
      "No data at Client SCEDC\n",
      "No data at Client TEXNET\n",
      "No data at Client UIB-NORSAR\n",
      "No data at Client USGS\n",
      "No data at Client USP\n"
     ]
    },
    {
     "data": {
      "image/png": "[encoded data removed]",
      "text/plain": [
       "<Figure size 432x288 with 1 Axes>"
      ]
     },
     "metadata": {
      "needs_background": "light"
     },
     "output_type": "display_data"
    },
    {
     "ename": "NameError",
     "evalue": "name 'asdf' is not defined",
     "output_type": "error",
     "traceback": [
      "\u001b[0;31m---------------------------------------------------------------------------\u001b[0m",
      "\u001b[0;31mNameError\u001b[0m                                 Traceback (most recent call last)",
      "\u001b[0;32m<ipython-input-6-931801ba5859>\u001b[0m in \u001b[0;36m<module>\u001b[0;34m\u001b[0m\n\u001b[1;32m     36\u001b[0m \u001b[0mplt\u001b[0m\u001b[0;34m.\u001b[0m\u001b[0mshow\u001b[0m\u001b[0;34m(\u001b[0m\u001b[0;34m)\u001b[0m\u001b[0;34m\u001b[0m\u001b[0;34m\u001b[0m\u001b[0m\n\u001b[1;32m     37\u001b[0m \u001b[0;34m\u001b[0m\u001b[0m\n\u001b[0;32m---> 38\u001b[0;31m \u001b[0mprint\u001b[0m\u001b[0;34m(\u001b[0m\u001b[0masdf\u001b[0m\u001b[0;34m)\u001b[0m\u001b[0;34m\u001b[0m\u001b[0;34m\u001b[0m\u001b[0m\n\u001b[0m\u001b[1;32m     39\u001b[0m \u001b[0;34m\u001b[0m\u001b[0m\n\u001b[1;32m     40\u001b[0m \u001b[0;34m\u001b[0m\u001b[0m\n",
      "\u001b[0;31mNameError\u001b[0m: name 'asdf' is not defined"
     ]
    }
   ],
   "source": [
    "from obspy.clients.fdsn import Client\n",
    "from obspy.clients.fdsn.header import URL_MAPPINGS\n",
    "from obspy import UTCDateTime\n",
    "import matplotlib.pyplot as plt\n",
    "import numpy as np\n",
    "\n",
    "tstart = UTCDateTime('2016-10-18T22:08:13.750000Z') - 5.*60.  \n",
    "tend = UTCDateTime('2016-10-18T22:08:13.750000Z') + 15.*60.\n",
    "lat = 15.298\n",
    "lon = -61.352\n",
    "\n",
    "attach_response=False#True#\n",
    "save_wave = False#True\n",
    "path2dir = '/home/mlind/Dokumente/Lectures/WS2021/RMT/Data/Ridgecrest/Observations/'\n",
    "event_id = 'ev1'\n",
    "\n",
    "\n",
    "for ckey in sorted(URL_MAPPINGS.keys()):\n",
    "    try:\n",
    "        client = Client(ckey)\n",
    "        inventory = client.get_stations(longitude=lon, latitude=lat,\n",
    "                                            minradius=10./111.,maxradius=350.0/111., level=\"station\")\n",
    "        for netw_i in range(len(inventory.networks)):\n",
    "            netw = inventory.networks[netw_i]\n",
    "            netw_id = netw.code # network code\n",
    "            for stat_i in range(len(netw.stations)):\n",
    "                stat = inventory.networks[netw_i].stations[stat_i]\n",
    "                stat_id = stat.code\n",
    "                plt.plot(stat.longitude,stat.latitude,'kd')\n",
    "                plt.text(stat.longitude,stat.latitude,stat_id)\n",
    "                \n",
    "    except:\n",
    "        print('No data at Client '+ckey)\n",
    "        continue\n",
    "        \n",
    "plt.show()\n",
    "        \n",
    "print(asdf)\n",
    "        \n",
    "\n",
    "Stations = {}\n",
    "for ckey in sorted(URL_MAPPINGS.keys()):#['IRIS']:#\n",
    "    try:\n",
    "        client = Client(ckey)\n",
    "        inventory = client.get_stations(longitude=lon, latitude=lat,\n",
    "                                        minradius=50./111.,maxradius=300.0/111., level=\"station\")\n",
    "        Stations[ckey] = {}\n",
    "        for netw_i in range(len(inventory.networks)):\n",
    "            netw = inventory.networks[netw_i]\n",
    "            netw_id = netw.code # network code\n",
    "            if netw_id in ['CI']:\n",
    "                for stat_i in range(len(netw.stations)):\n",
    "                    stat = inventory.networks[netw_i].stations[stat_i]\n",
    "                    stat_id = stat.code # station code\n",
    "\n",
    "                    try:\n",
    "                        st = client.get_waveforms(network=netw_id, station=stat_id, \n",
    "                                        starttime=tstart, endtime=tend, \n",
    "                                        location='*', channel='HH*', attach_response=attach_response)\n",
    "                        \n",
    "                        print(st)\n",
    "                        \n",
    "                        if save_wave:\n",
    "                            t0,t1 = [],[]\n",
    "                            for tr in st:\n",
    "                                t0.append(float(tr.stats.starttime))\n",
    "                                t1.append(float(tr.stats.endtime))\n",
    "                            st.remove_response(output='DISP', water_level=60, plot=False)\n",
    "                            print(UTCDateTime(np.min(np.asarray(t1)))-UTCDateTime(np.max(np.asarray(t0))))\n",
    "                            st.trim(UTCDateTime(np.max(np.asarray(t0))),\n",
    "                                    UTCDateTime(np.min(np.asarray(t1))),pad=True)\n",
    "                            print('trim')\n",
    "                            for tr in st:\n",
    "                                tr.write(path2dir+event_id+'/'+tr.id,format='MSEED')\n",
    "                                print('saved at '+path2dir+event_id+'/'+tr.id)\n",
    "                        \n",
    "                        access = True   \n",
    "                    except:\n",
    "                        access = False\n",
    "\n",
    "                    if access:\n",
    "                        key = netw_id+'_'+stat_id\n",
    "                        cCode, tr_info = [], []\n",
    "                        for tr in st:\n",
    "                            cc = tr.stats.channel[:2]\n",
    "                            sr = tr.stats.sampling_rate\n",
    "                            if cc not in cCode:\n",
    "                                cCode.append(cc)\n",
    "                                tr_info.append([cc,sr])\n",
    "\n",
    "                        if 'HH' in cCode:\n",
    "                            Stations[ckey][key] = [netw_id,stat_id,stat.latitude,stat.longitude,\n",
    "                                                   stat.elevation,tr_info]\n",
    "\n",
    "        \n",
    "    except:\n",
    "        print('No data at Client '+ckey)\n",
    "        continue"
   ]
  },
  {
   "cell_type": "code",
   "execution_count": null,
   "metadata": {},
   "outputs": [],
   "source": []
  }
 ],
 "metadata": {
  "kernelspec": {
   "display_name": "Python 3",
   "language": "python",
   "name": "python3"
  },
  "language_info": {
   "codemirror_mode": {
    "name": "ipython",
    "version": 3
   },
   "file_extension": ".py",
   "mimetype": "text/x-python",
   "name": "python",
   "nbconvert_exporter": "python",
   "pygments_lexer": "ipython3",
   "version": "3.7.6"
  }
 },
 "nbformat": 4,
 "nbformat_minor": 4
}
