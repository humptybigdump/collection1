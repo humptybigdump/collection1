{
 "cells": [
  {
   "cell_type": "markdown",
   "metadata": {},
   "source": [
    "## Vorlage für die 1. Bonusübung"
   ]
  },
  {
   "cell_type": "markdown",
   "metadata": {},
   "source": [
    "### Aufgabe 2"
   ]
  },
  {
   "cell_type": "markdown",
   "metadata": {},
   "source": [
    "#### Hintergrund und Daten:\n",
    "Der in dieser Aufgabe beschriebene statistische Zusammenhang wurde bekannt als \"Lotkas Gesetz\" aus der quantitativen Analyse von wissenschaftlichen Veröffentlichungen und wurde seitdem auch in verschiedenen anderen Bereichen festgestellt. In Lotkas Gesetz ist $x_i$ die Anzahl an Publikationen in einem bestimmten Zeithorizont und $y_i$ die relative Häufigkeit an Autoren mit $x_i$ Publikationen. Der Datensatz für diese Aufgabe ist in der Datei <b>Lotka.csv</b>.\n",
    "\n",
    "### (c) \n",
    "#### (2 Punkte)\n",
    "Laden Sie den Datensatz mit den folgenden Befehlen und berechnen Sie anschließend eine Lösung:"
   ]
  },
  {
   "cell_type": "code",
   "execution_count": null,
   "metadata": {},
   "outputs": [],
   "source": [
    "import pandas as pd\n",
    "import numpy as np\n",
    "\n",
    "df = pd.read_csv('Lotka.csv',sep=\";\")\n",
    "x = df.iloc[:,0].to_numpy() \n",
    "y = df.iloc[:,1].to_numpy()\n",
    "\n",
    "...;"
   ]
  },
  {
   "cell_type": "markdown",
   "metadata": {},
   "source": [
    "### (d) \n",
    "#### (2 Punkte)\n",
    "Plotten Sie die Datenpunkte als Scatter Plot und die exponentielle Kurve, die durch die berechneten Parameter definiert wird in eine Abbildung. Schränken Sie den angezeigten Bereich mit den Befehlen xlim und ylim so ein, dass ein aussagekräftiges Bild entsteht."
   ]
  },
  {
   "cell_type": "code",
   "execution_count": null,
   "metadata": {},
   "outputs": [],
   "source": [
    "from matplotlib import pyplot as plt\n",
    "\n",
    "..."
   ]
  },
  {
   "cell_type": "markdown",
   "metadata": {},
   "source": [
    "### Aufgabe 3\n",
    "### (a)\n",
    "#### Implementierung der Funktionen (1 Punkt)\n",
    "Implementieren Sie Funktionen, die den Zielfunktionswert $r(x)$ und den Gradienten $\\nabla r(x)$ zurückgeben."
   ]
  },
  {
   "cell_type": "code",
   "execution_count": null,
   "metadata": {},
   "outputs": [],
   "source": [
    "def rosen(x):\n",
    "    val = ...\n",
    "    return val\n",
    "\n",
    "def rosen_grad(x):\n",
    "    grad = ...\n",
    "    return grad"
   ]
  },
  {
   "cell_type": "markdown",
   "metadata": {},
   "source": [
    "#### Schrittweitensteuerung (2 Punkte)\n",
    "Implementieren Sie die Armijo-Regel (Algorithmus 2.4 aus dem Lehrbuch) zur Schrittweitensteuerung. Welche Berechnungen können Sie im Vergleich zu Alg. 2.4 aufgrund der Speziellen Wahl von $d^k$ im Gradientenverfahren sparen? Nutzen Sie die angegebenen default-Werte. Die Startschrittweite in Zeile 2 soll mit Gleichheit gewählt werden."
   ]
  },
  {
   "cell_type": "code",
   "execution_count": null,
   "metadata": {},
   "outputs": [],
   "source": [
    "def armijo_regel_fuer_gradientenverfahren(... , sigma=0.2, rho=0.98, gamma=1.):\n",
    "    ...\n",
    "    return t_a"
   ]
  },
  {
   "cell_type": "markdown",
   "metadata": {},
   "source": [
    "#### Gradientenabstieg (3 Punkte)"
   ]
  },
  {
   "cell_type": "markdown",
   "metadata": {},
   "source": [
    "Implementieren Sie das Gradientenverfahren. Wenden Sie das Verfahren vom Startpunkt $x^0 = (0.5,-0.5)$ mit der Abbruchtoleranz $\\varepsilon = 10^{-4}$ auf die Rosenbrockfunktion an, nutzen Sie die oben implementierte Armijo-Regel zur Schrittweitensteuerung. Speichern Sie die ersten $50$ Iterierten $\\{ x^0,x^1,\\ldots , x^{50}\\}$ in einer Liste. Geben Sie den approximierten Punkt und die Iterationszahl aus."
   ]
  },
  {
   "cell_type": "code",
   "execution_count": null,
   "metadata": {},
   "outputs": [],
   "source": [
    "x_0 = np.array([0.5,-0.5])\n",
    "\n",
    "..."
   ]
  },
  {
   "cell_type": "markdown",
   "metadata": {},
   "source": [
    "### (b)\n",
    "#### Höhenlinienplot und Interpretation (4 Punkte)"
   ]
  },
  {
   "cell_type": "markdown",
   "metadata": {},
   "source": [
    "Erstellen Sie mit `plt.contour` einen Höhenlinienplot der Rosenbrock-Funktion auf dem Bereich $[-\\frac{1}{2},\\frac{5}{4}]\\times[-\\tfrac{5}{4},\\frac{7}{4}]$ mit folgenden Höhenlinien "
   ]
  },
  {
   "cell_type": "code",
   "execution_count": null,
   "metadata": {},
   "outputs": [],
   "source": [
    "levels = np.array([0.01,0.05,0.1,0.25,0.6,1,2,6,16,30,60,100,150,200,250,300])"
   ]
  },
  {
   "cell_type": "markdown",
   "metadata": {},
   "source": [
    "Zeichnen Sie die zuvor berechnete Iteriertenfolge ein. Was beobachten Sie bezüglich des Konvergenzverhaltens zum eindeutigen Minimalpunkt $(1,1)^\\intercal$?"
   ]
  },
  {
   "cell_type": "code",
   "execution_count": null,
   "metadata": {},
   "outputs": [],
   "source": [
    "from mpl_toolkits.mplot3d import axes3d\n",
    "%matplotlib notebook\n",
    "\n",
    "..."
   ]
  },
  {
   "cell_type": "markdown",
   "metadata": {},
   "source": [
    "Schreiben Sie hier Ihre Beobachtungen und Interpretationen auf:\n",
    "\n",
    "..."
   ]
  },
  {
   "cell_type": "code",
   "execution_count": null,
   "metadata": {},
   "outputs": [],
   "source": []
  }
 ],
 "metadata": {
  "kernelspec": {
   "display_name": "Python 3",
   "language": "python",
   "name": "python3"
  },
  "language_info": {
   "codemirror_mode": {
    "name": "ipython",
    "version": 3
   },
   "file_extension": ".py",
   "mimetype": "text/x-python",
   "name": "python",
   "nbconvert_exporter": "python",
   "pygments_lexer": "ipython3",
   "version": "3.8.5"
  }
 },
 "nbformat": 4,
 "nbformat_minor": 4
}
