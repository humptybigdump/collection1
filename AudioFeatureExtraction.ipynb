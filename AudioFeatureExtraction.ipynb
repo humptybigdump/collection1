{
 "cells": [
  {
   "cell_type": "code",
   "execution_count": 12,
   "id": "d0b7bbbf-9533-4efe-afbd-75bc671a7dde",
   "metadata": {},
   "outputs": [],
   "source": [
    "import librosa\n",
    "import soundfile\n",
    "import os, glob, subprocess\n",
    "import sys\n",
    "import numpy as np\n",
    "import pandas as pd\n",
    "from tqdm import tqdm\n",
    "from pandas import DataFrame\n",
    "import warnings\n",
    "warnings.filterwarnings('ignore')"
   ]
  },
  {
   "cell_type": "code",
   "execution_count": 5,
   "id": "ecf813a4-46a9-43f1-a40a-46e2dc7e3778",
   "metadata": {},
   "outputs": [],
   "source": [
    "# import sys\n",
    "# !{sys.executable} -m pip install librosa"
   ]
  },
  {
   "cell_type": "code",
   "execution_count": 13,
   "id": "2ef6a646",
   "metadata": {},
   "outputs": [
    {
     "data": {
      "text/plain": [
       "'c:/fomc/fVUGwgLTzbw_000.wav'"
      ]
     },
     "execution_count": 13,
     "metadata": {},
     "output_type": "execute_result"
    }
   ],
   "source": [
    "input_file_path = 'c:/fomc/fVUGwgLTzbw_000.mp4'\n",
    "output_file_path = os.path.join(os.path.splitext(input_file_path)[0] + \".wav\")\n",
    "\n",
    "os.path.join(os.path.splitext(input_file_path)[0] + \".wav\")"
   ]
  },
  {
   "cell_type": "code",
   "execution_count": 5,
   "id": "4b11cac7",
   "metadata": {},
   "outputs": [
    {
     "data": {
      "text/plain": [
       "CompletedProcess(args=['ffmpeg', '-i', 'c:/fomc/fVUGwgLTzbw_000.mp4', '-vn', '-acodec', 'pcm_s16le', '-ar', '44100', '-ac', '1', 'c:/fomc/fVUGwgLTzbw_000.wav'], returncode=0)"
      ]
     },
     "execution_count": 5,
     "metadata": {},
     "output_type": "execute_result"
    }
   ],
   "source": [
    "# Use FFmpeg to extract audio from the MP4 file and save as WAV\n",
    "subprocess.run([\"ffmpeg\", \"-i\", input_file_path, \"-vn\", \"-acodec\", \"pcm_s16le\", \"-ar\", \"44100\",\n",
    "                \"-ac\", \"1\", output_file_path], check=True)"
   ]
  },
  {
   "cell_type": "code",
   "execution_count": 14,
   "id": "6751286c-3ca4-4621-b913-9581882d2a6b",
   "metadata": {},
   "outputs": [],
   "source": [
    "def extract_feature(file_name):\n",
    "    '''\n",
    "        Extract the following features\n",
    "            - MFCC (mfcc)\n",
    "            - Chroma (chroma)\n",
    "            - MEL Spectrogram Frequency (mel)\n",
    "            - Contrast (contrast)\n",
    "            - Tonnetz (tonnetz)\n",
    "        Not sure if others are useful: spectral_centroid, flatness, rolloff, etc.\n",
    "    '''\n",
    "    with soundfile.SoundFile(file_name) as sound_file:\n",
    "        X = sound_file.read(dtype=\"float32\")\n",
    "        sample_rate = sound_file.samplerate\n",
    "        #Short-time Fourier transform\n",
    "        stft = np.abs(librosa.stft(X))\n",
    "        result = np.array([])\n",
    "        #mfcc\n",
    "        mfccs = np.mean(librosa.feature.mfcc(S=stft, sr=sample_rate, n_mfcc=40).T, axis=0)\n",
    "        mfccs_df = DataFrame(mfccs.reshape(-1, len(mfccs)))\n",
    "        mfccs_df.columns=['mfccs'+str(i) for i in range(0,len(mfccs))]\n",
    "        #chroma\n",
    "        chroma = np.mean(librosa.feature.chroma_stft(y=X, sr=sample_rate).T,axis=0)\n",
    "        chroma_df = DataFrame(chroma.reshape(-1, len(chroma)))\n",
    "        chroma_df.columns=['chroma'+str(i) for i in range(0,len(chroma))]\n",
    "        #mel\n",
    "        mel = np.mean(librosa.feature.melspectrogram(y=X, sr=sample_rate).T,axis=0)\n",
    "        mel_df = DataFrame(mel.reshape(-1, len(mel)))\n",
    "        mel_df.columns=['mel'+str(i) for i in range(0,len(mel))]\n",
    "#         #contrast\n",
    "#         contrast = np.mean(librosa.feature.spectral_contrast(S=stft, sr=sample_rate).T,axis=0)\n",
    "#         contrast_df = DataFrame(contrast.reshape(-1, len(contrast)))\n",
    "#         contrast_df.columns=['contrast'+str(i) for i in range(0,len(contrast))]\n",
    "#         #tonnetz\n",
    "#         tonnetz = np.mean(librosa.feature.tonnetz(y=librosa.effects.harmonic(X), sr=sample_rate).T,axis=0)\n",
    "#         tonnetz_df = DataFrame(tonnetz.reshape(-1, len(tonnetz)))\n",
    "#         tonnetz_df.columns=['tonnetz'+str(i) for i in range(0,len(tonnetz))]\n",
    "    return mfccs_df, chroma_df, mel_df #, contrast_df, tonnetz_df"
   ]
  },
  {
   "cell_type": "code",
   "execution_count": 15,
   "id": "60726d00-1bab-4f2a-8249-bd008aa12fa2",
   "metadata": {},
   "outputs": [
    {
     "name": "stdout",
     "output_type": "stream",
     "text": [
      "     mfccs0    mfccs1    mfccs2    mfccs3    mfccs4    mfccs5    mfccs6  \\\n",
      "0  6.792516  8.580993  6.653436  5.246355  4.367994  3.696401  3.208529   \n",
      "\n",
      "     mfccs7    mfccs8    mfccs9  ...        mel118        mel119  \\\n",
      "0  2.880311  2.729712  2.688181  ...  8.201210e-07  1.015757e-08   \n",
      "\n",
      "         mel120        mel121        mel122        mel123        mel124  \\\n",
      "0  2.843604e-09  2.815626e-09  2.800723e-09  2.791057e-09  2.773310e-09   \n",
      "\n",
      "         mel125        mel126        mel127  \n",
      "0  2.765620e-09  2.761521e-09  2.772458e-09  \n",
      "\n",
      "[1 rows x 180 columns]\n"
     ]
    }
   ],
   "source": [
    "mfccs, chroma, mel=extract_feature(output_file_path) #, contrast, tonnetz\n",
    "rows = pd.concat([mfccs, chroma, mel], axis=1)\n",
    "print(rows)"
   ]
  },
  {
   "cell_type": "code",
   "execution_count": null,
   "id": "1d7e9014",
   "metadata": {},
   "outputs": [],
   "source": []
  }
 ],
 "metadata": {
  "environment": {
   "kernel": "python3",
   "name": "tf2-gpu.2-11.m108",
   "type": "gcloud",
   "uri": "gcr.io/deeplearning-platform-release/tf2-gpu.2-11:m108"
  },
  "kernelspec": {
   "display_name": "Python 3 (ipykernel)",
   "language": "python",
   "name": "python3"
  },
  "language_info": {
   "codemirror_mode": {
    "name": "ipython",
    "version": 3
   },
   "file_extension": ".py",
   "mimetype": "text/x-python",
   "name": "python",
   "nbconvert_exporter": "python",
   "pygments_lexer": "ipython3",
   "version": "3.8.13"
  }
 },
 "nbformat": 4,
 "nbformat_minor": 5
}
