{
 "cells": [
  {
   "cell_type": "markdown",
   "id": "2a710701",
   "metadata": {},
   "source": [
    "*Disclaimer*: This notebook borrows from different sources including https://en.wikipedia.org/wiki/Deutsch–Jozsa_algorithm#Deutsch's_algorithm, https://learn.qiskit.org/course/algorithms/phase-kickback, and https://learn.qiskit.org/course/ch-algorithms/deutsch-jozsa-algorithm."
   ]
  },
  {
   "cell_type": "markdown",
   "id": "a2a16b19",
   "metadata": {},
   "source": [
    "# Deutsch's problem\n",
    "\n",
    "<img src=\"images/deutsch-problem.svg\" style=\"float:right\" />\n",
    "\n",
    "Deutsch's problem is a special case of Deutsch-Jozsa algorithm and provides an artificial problem where we are dealing with a black box function $f : \\{0, 1\\} \\rightarrow \\{0, 1\\}$ that acts on two bits, $a, b$. The function will not change bit $a$ but may or may not flip the bit $b$. We are asked to work out whether $f$ behaves differently depending on the value of $a$ (we call this a *balanced* behaviour) or if it ignores $a$ and always does the same thing to $b$ (*constant* behaviour).\n",
    "\n",
    "The challenge is to apply $f$ as few times as possible.\n",
    "\n",
    "The best classical algorithm we can imagine here is to call $f$ twice to check the two different options for $a$ and see how $f$ behaves."
   ]
  },
  {
   "cell_type": "markdown",
   "id": "6bd649af",
   "metadata": {},
   "source": [
    "# Deutsch's algorithm\n",
    "\n",
    "There are four possible functions we need to consider for *constant* ($f_i(0)=f_i(1)$) and *balanced* ($f_i(0) \\neq f_i(1)$) behaviour:\n",
    "\n",
    "| Function $f_i$ | x = 0 | x = 1 | $f_i(0) \\oplus f_i(1)$ | Behaviour |\n",
    "|----------------|-------|-------|------------------------|-----------|\n",
    "| $f_0$          | $0$   | $0$   | $0$                    | constant  |\n",
    "| $f_1$          | $0$   | $1$   | $1$                    | balanced  |\n",
    "| $f_2$          | $1$   | $0$   | $1$                    | balanced  |\n",
    "| $f_3$          | $1$   | $1$   | $0$                    | constant  |\n",
    "\n",
    "We can create a quantum algorithm that does even better than the classical solution by only calling $f$ once.\n",
    "The algorithm one can construct first puts the qubit $a$ into the superposition state $|+\\rangle$ (to check each value for $a$), and qubit $b$ into the $|-\\rangle$ state. Any flip conditioned on $a$ will result in an effect called *phase kickback*, flipping qubit $a$ from $|+\\rangle$ to $|-\\rangle$. To measure this effect in the Z-basis, we then apply a Hadamard gate and make a measurement on qubit $a$ to see whether a phase kickback occured or not.\n",
    "\n",
    "<img src=\"images/deutsch-algorithm.svg\" style=\"float:left\" />"
   ]
  },
  {
   "cell_type": "markdown",
   "id": "a5710c89",
   "metadata": {},
   "source": [
    "# Running on Qiskit"
   ]
  },
  {
   "cell_type": "code",
   "execution_count": null,
   "id": "62d17c98",
   "metadata": {},
   "outputs": [],
   "source": [
    "import numpy as np\n",
    "from qiskit import QuantumCircuit\n",
    "from qiskit.providers.aer import QasmSimulator\n",
    "from qiskit.visualization import plot_histogram"
   ]
  },
  {
   "cell_type": "code",
   "execution_count": null,
   "id": "17caee27",
   "metadata": {},
   "outputs": [],
   "source": [
    "def deutsch_problem(seed=None) -> QuantumCircuit:\n",
    "    \"\"\"Returns a circuit that can act as a black box for \n",
    "    Deutsch's algorithm.\n",
    "    \n",
    "    returns: QuantumCircuit\n",
    "    \"\"\"\n",
    "    np.random.seed(seed)\n",
    "    problem = QuantumCircuit(2)\n",
    "    if np.random.randint(2):\n",
    "        print(\"Function is balanced\")\n",
    "        problem.cx(0, 1)\n",
    "    else:\n",
    "        print(\"Function is constant\")\n",
    "    if np.random.randint(2):\n",
    "        problem.x(1)\n",
    "    return problem"
   ]
  },
  {
   "cell_type": "code",
   "execution_count": null,
   "id": "28a26f51",
   "metadata": {},
   "outputs": [],
   "source": [
    "def deutsch(problem: QuantumCircuit) -> QuantumCircuit:\n",
    "    # Add code here and return the resulting quantum circuit\n",
    "    return circuit"
   ]
  },
  {
   "cell_type": "code",
   "execution_count": null,
   "id": "9e96e46f",
   "metadata": {},
   "outputs": [],
   "source": [
    "circuit = deutsch(deutsch_problem())\n",
    "circuit.draw(\"mpl\")"
   ]
  },
  {
   "cell_type": "code",
   "execution_count": null,
   "id": "f76e26b8",
   "metadata": {},
   "outputs": [],
   "source": [
    "simulator = QasmSimulator()\n",
    "# Exectue the circuit on qasm simulator\n",
    "job = simulator.run(circuit, shots=1000)\n",
    "result = job.result()\n",
    "counts = result.get_counts(circuit)"
   ]
  },
  {
   "cell_type": "markdown",
   "id": "4704b1d3",
   "metadata": {},
   "source": [
    "The `QasmSimulator` backend is designed to mimic an actual device. It executes a Qiskit QuantumCircuit and returns a dictionary containing the final values of the classical registers in the circuit."
   ]
  },
  {
   "cell_type": "code",
   "execution_count": null,
   "id": "111cb284",
   "metadata": {},
   "outputs": [],
   "source": [
    "print(f\"Measured a {'constant' if '0' in counts else 'balanced'} circuit ({counts})\")\n",
    "plot_histogram(counts)"
   ]
  },
  {
   "cell_type": "markdown",
   "id": "eabd0839",
   "metadata": {},
   "source": [
    "# Doing the math\n",
    "\n",
    "First, our black box – a so-called oracle – can be expressed as a unitary operator $U_f|x\\rangle|y\\rangle = |x\\rangle|y\\otimes f(x)\\rangle$.\n",
    "\n",
    "1. The qubits are initally in state $|00\\rangle$. So we apply an X-gate to get in the $|01\\rangle$ qubit state.\n",
    "\n",
    "$$|\\psi_0\\rangle = |0\\rangle X|0\\rangle = |0\\rangle |1\\rangle = |01\\rangle$$\n",
    "\n",
    "2. We then apply a hadamard gate on both qubits\n",
    "\n",
    "$$\n",
    "\\begin{align*}\n",
    "|\\psi_1\\rangle &= (H \\otimes H)|\\psi_0\\rangle = H^{\\otimes 2}|01\\rangle =\\frac{1}{2}(|0\\rangle + |1\\rangle)(|0\\rangle - |1\\rangle \\\\\n",
    "&= \\frac{1}{2}|0\\rangle(|0\\rangle-|1\\rangle) + \\frac{1}{2}|1\\rangle(|0\\rangle-|1\\rangle)\n",
    "\\end{align*}\n",
    "$$\n",
    "\n",
    "3. Next we apply the oracle gate $U_f$\n",
    "\n",
    "$$\n",
    "\\begin{align*}\n",
    "|\\psi_2\\rangle = U_f|\\psi_1\\rangle = \\frac{1}{2}|0\\rangle(|0 \\oplus f(0)\\rangle - |1 \\oplus f(0)\\rangle) + \\frac{1}{2}|1\\rangle(|0 \\oplus f(1)\\rangle - |1 \\oplus f(1)\\rangle)\n",
    "\\end{align*}\n",
    "$$\n",
    "\n",
    "- When looking closely we see that $|0\\oplus a\\rangle - |1 \\oplus a\\rangle = (-1)^a(|0\\rangle - |1\\rangle)$\n",
    "  \n",
    "$$\n",
    "\\begin{align*}\n",
    "|\\psi_2\\rangle &= \\frac{1}{2}(-1)^{f(0)}|0\\rangle(|0\\rangle - |1\\rangle) + \\frac{1}{2}(-1)^{f(1)}|1\\rangle(|0\\rangle - |1\\rangle) \\\\\n",
    "&= \\left(\\frac{1}{\\sqrt{2}} (-1)^{f(0)}|0\\rangle + (-1)^{f(1)}|1\\rangle\\right)\\left(\\frac{1}{\\sqrt{2}}(|0\\rangle - |1\\rangle)\\right)\\\\\n",
    "&= (-1)^{f(0)} \\left(\\frac{1}{\\sqrt{2}}|0\\rangle + \\frac{1}{\\sqrt{2}}(-1)^{f(0)\\oplus f(1)}|1\\rangle\\right) |-\\rangle\n",
    "\\end{align*}\n",
    "$$\n",
    "\n",
    "Note: As discussed in the last lecture, the global phase might be ignored here."
   ]
  },
  {
   "cell_type": "markdown",
   "id": "2c4f10c2",
   "metadata": {},
   "source": [
    "From now on, one can ignore the second qubit for simplicity. However, we go on with the full state.\n",
    "\n",
    "## So first let's consider the *constant* behaviour.\n",
    "\n",
    "- If $U_f$ is *constant* then $f(0) \\oplus f(1) = 0$\n",
    "\n",
    "$$\n",
    "\\begin{align*}\n",
    "|\\psi_2\\rangle &= (-1)^{f(0)} \\left(\\frac{1}{\\sqrt{2}}|0\\rangle + \\frac{1}{\\sqrt{2}}(-1)^0|1\\rangle\\right) |-\\rangle \\\\\n",
    "&= (-1)^{f(0)} \\frac{1}{\\sqrt{2}}(|0\\rangle + |1\\rangle) |-\\rangle\n",
    "\\end{align*}\n",
    "$$\n",
    "\n",
    "4. Finally we apply the hadamard gate to the first qubit\n",
    "\n",
    "$$\n",
    "\\begin{align*}\n",
    "|\\psi_3\\rangle &= H|\\psi_2\\rangle = (-1)^{f(0)} H\\left(\\frac{1}{\\sqrt{2}}|0\\rangle + \\frac{1}{\\sqrt{2}}|1\\rangle\\right) |-\\rangle \\\\\n",
    "&= (-1)^{f(0)} |0\\rangle|-\\rangle\n",
    "\\end{align*}\n",
    "$$\n",
    "\n",
    "The probability of measuring $|0\\rangle$ in the first qubit is 1. This means that for a *constant* function, a measurement of the first qubit is certain to return $|0\\rangle$."
   ]
  },
  {
   "cell_type": "markdown",
   "id": "dd76398e",
   "metadata": {},
   "source": [
    "## Now let's consider the *balanced* behaviour.\n",
    "\n",
    "- If $U_f$ is *balanced* then $f(0) \\oplus f(1) = 1$\n",
    "\n",
    "$$\n",
    "\\begin{align*}\n",
    "|\\psi_2\\rangle &= (-1)^{f(0)} \\left(\\frac{1}{\\sqrt{2}}|0\\rangle + \\frac{1}{\\sqrt{2}}(-1)^1|1\\rangle\\right) |-\\rangle \\\\\n",
    "&= (-1)^{f(0)} \\frac{1}{\\sqrt{2}}(|0\\rangle - |1\\rangle) |-\\rangle\n",
    "\\end{align*}\n",
    "$$\n",
    "\n",
    "- Finally we apply the hadamard gate to the first qubit\n",
    "\n",
    "$$\n",
    "\\begin{align*}\n",
    "|\\psi_3\\rangle &= H|\\psi_2\\rangle = (-1)^{f(0)} H\\left(\\frac{1}{\\sqrt{2}}|0\\rangle - \\frac{1}{\\sqrt{2}}|1\\rangle\\right) |-\\rangle \\\\\n",
    "&= (-1)^{f(0)} |1\\rangle|-\\rangle\n",
    "\\end{align*}\n",
    "$$\n",
    "\n",
    "The probability of measuring $|1\\rangle$ in the first qubit is 1. This means that for a *balanced* function, a measurement of the first qubit is certain to return $|1\\rangle$."
   ]
  },
  {
   "cell_type": "markdown",
   "id": "1c324cb7",
   "metadata": {},
   "source": [
    "# Generalizing Deutsch's algorithm to Deutsch-Jozsa\n",
    "\n",
    "![](images/deutsch_jozsa-algorithm.png)\n",
    "\n",
    "\n",
    "1. Prepare the first qubits in the zero state and the last in the one state\n",
    "\n",
    "$$ |\\psi_0\\rangle = |0\\rangle^{\\otimes n}|1\\rangle$$\n",
    "\n",
    "2. Apply a hadamard gate to each qubit\n",
    "\n",
    "$$ |\\psi_1\\rangle = H^{\\otimes n}|\\psi_0\\rangle = \\frac{1}{\\sqrt{2^n+1}} \\sum_{x=0}^{2^n-1}|x\\rangle(|0\\rangle - |1\\rangle)$$\n",
    "\n",
    "3. Apply the oracle $U_f$, that maps $|x\\rangle|y\\rangle$ to $|x\\rangle|y \\oplus f(x)\\rangle$\n",
    "\n",
    "$$\n",
    "\\begin{align*}\n",
    "|\\psi_2\\rangle &= U_f|\\psi_1\\rangle \\\\\n",
    "&= \\frac{1}{\\sqrt{2^n+1}} \\sum_{x=0}^{2^n-1}|x\\rangle (|(f(x)\\rangle - |1 \\oplus f(x)\\rangle) \\\\\n",
    "&= \\frac{1}{\\sqrt{2^n+1}} \\sum_{x=0}^{2^n-1} (-1)^{f(x)}|x\\rangle(|0\\rangle - |1\\rangle)\n",
    "\\end{align*}\n",
    "$$\n",
    "\n",
    "4. We now ignore the second qubit\n",
    "\n",
    "$$\n",
    "\\begin{align*}\n",
    "|\\psi_3\\rangle &= \\frac{1}{\\sqrt{2^n}} \\sum_{x=0}^{2^n-1} (-1)^{f(x)}|x\\rangle\n",
    "\\end{align*}\n",
    "$$\n",
    "\n",
    "5. ... and apply hadarmard gates to the first qubit register\n",
    "\n",
    "$$\n",
    "\\begin{align*}\n",
    "|\\psi_4\\rangle &= H^{\\otimes n}|\\psi_3\\rangle \\\\\n",
    "&= \\frac{1}{2^n} \\sum_{x=0}^{2^n-1} (-1)^{f(x)} \\left[ \\sum_{y=0}^{2^n-1} (-1)^{x \\cdot y} |y\\rangle \\right] \\\\\n",
    "&= \\frac{1}{2^n} \\sum_{y=0}^{2^n-1} \\left[ \\sum_{x=0}^{2^n-1} (-1)^{f(x)}(-1)^{x\\cdot y} \\right] |y\\rangle\n",
    "\\end{align*}\n",
    "$$\n",
    "\n",
    "$x\\cdot y$ is the sum of the bitwise product $x_0 y_0 \\oplus x_1 y_1 \\oplus \\dots \\oplus x_{n-1} y_{n-1}$.\n",
    "\n",
    "6. Measure the first register. In case the all-zero state is measured ($|0\\rangle^{\\otimes n} = |\\frac{1}{2^n}\\sum_{x=0}^{2^n-1}(-1)^{f(x)}|^2$) we have a constant function. If the probability for measuring all-zero is 0, we have a balanced function."
   ]
  },
  {
   "cell_type": "markdown",
   "id": "b9295386",
   "metadata": {},
   "source": [
    "# Optional Homework Exercise\n",
    "Create a quantum circuit for the Deutsch-Jozsa algorithm that uses an oracle that takes two qubits as input. Using an ancillary/auxillary qubit (i.e. three qubits in total) your code should do the following\n",
    "\n",
    "- Process the three qubits in a specific manner befrore they reach the oracle $U_f$\n",
    "- Process the qubits after the oracle\n",
    "- Measure the non-ancillary qubits and determine whether the oracle is constant or balanced"
   ]
  },
  {
   "cell_type": "code",
   "execution_count": null,
   "id": "f8d7f704",
   "metadata": {},
   "outputs": [],
   "source": [
    "from typing import List\n",
    "\n",
    "def oracle(numbers: List[int]) -> QuantumCircuit:\n",
    "    \"\"\"Returns a circuit that can act as a oracle for \n",
    "    Deutsch-Jozsa algorithm.\n",
    "    \n",
    "    returns QuantumCircuit\n",
    "    \"\"\"\n",
    "    circuit = QuantumCircuit(3)\n",
    "    assert(all(number <= 1 for number in numbers))\n",
    "    for i in numbers:\n",
    "        circuit.cx(i, 2)\n",
    "    return circuit"
   ]
  },
  {
   "cell_type": "code",
   "execution_count": null,
   "id": "198ea4cb",
   "metadata": {},
   "outputs": [],
   "source": [
    "import qiskit.tools.jupyter\n",
    "print(\"This notebook was created and tested with the following version numbers\")\n",
    "%qiskit_version_table"
   ]
  }
 ],
 "metadata": {
  "kernelspec": {
   "display_name": "Python 3 (ipykernel)",
   "language": "python",
   "name": "python3"
  },
  "language_info": {
   "codemirror_mode": {
    "name": "ipython",
    "version": 3
   },
   "file_extension": ".py",
   "mimetype": "text/x-python",
   "name": "python",
   "nbconvert_exporter": "python",
   "pygments_lexer": "ipython3",
   "version": "3.8.15"
  }
 },
 "nbformat": 4,
 "nbformat_minor": 5
}
