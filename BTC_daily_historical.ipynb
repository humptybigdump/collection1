{
 "cells": [
  {
   "cell_type": "code",
   "execution_count": null,
   "id": "2f09342d-3f2b-4581-8db2-6218d0dd9c99",
   "metadata": {},
   "outputs": [],
   "source": [
    "import numpy as np\n",
    "import pandas as pd\n",
    "import os\n",
    "import glob\n",
    "import re\n",
    "import matplotlib.pyplot as plt\n",
    "import shutil\n",
    "import random\n",
    "import plotly.graph_objs as go\n",
    "import plotly.figure_factory as ff\n",
    "from plotly.offline import init_notebook_mode, iplot\n",
    "from plotly.colors import n_colors\n",
    "from plotly.subplots import make_subplots\n",
    "import plotly\n",
    "import pytz\n",
    "from datetime import datetime, timezone\n",
    "tz = pytz.timezone('Europe/Berlin')\n",
    "mynow = datetime.now(tz).strftime('%H:%M:%S')\n",
    "import yfinance\n",
    "import warnings\n",
    "warnings.filterwarnings('ignore')\n",
    "import os\n"
   ]
  },
  {
   "cell_type": "code",
   "execution_count": null,
   "id": "86da0879-0785-41ea-8376-55452bdaa0e6",
   "metadata": {},
   "outputs": [],
   "source": [
    "btc_historical = pd.read_csv('./BTC_daily_historical.csv')\n",
    "btc_historical = btc_historical[btc_historical['volume'] > 0]\n",
    "btc_historical['mav'] = btc_historical['close'].rolling(7).mean().values\n",
    "btc_historical.dropna(inplace=True)\n",
    "btc_historical.reset_index(inplace=True, drop=True)\n",
    "\n",
    "btc_historical.head(5)"
   ]
  },
  {
   "cell_type": "code",
   "execution_count": null,
   "id": "6bdb52cb-f674-48c4-bcf3-11e15f5d6442",
   "metadata": {
    "tags": []
   },
   "outputs": [],
   "source": [
    "date_format = \"%Y-%m-%dT%H:%M:%SZ\"\n",
    "def ohlc_creator(crypto, btch1, ohlclw = 2, lw = 2, ts = 0.5, vlb = 0.4, moving_avg=True, split_ratio=0.8):\n",
    "    days = 7\n",
    "    btch1['date'] = pd.to_datetime(btch1['date']).apply(lambda x: str(x.date()))\n",
    "    btch1.index = btch1['date']\n",
    "    \n",
    "                   \n",
    "    if moving_avg == True:\n",
    "        foldername= '{}{}_rgb_ohlclw{}_ts{}_lw{}_vlb{}'.format(crypto, days, str(ohlclw), str(ts).replace('.', ''), str(lw), str(vlb).replace('.', ''))\n",
    "    else:\n",
    "        foldername= '{}{}_rgb_ohlclw{}_ts{}_lw{}_vlb00'.format(crypto, days, str(ohlclw), str(ts).replace('.', ''), str(lw))\n",
    "\n",
    "        \n",
    "    # display(btch1.head(), foldername, '  ', datetime.now(tz).strftime('%H:%M:%S'))\n",
    "    \n",
    "    # try:\n",
    "    #     os.mkdir('./etfs/etf7/{}'.format(foldername))\n",
    "    # except:\n",
    "    #     pass\n",
    "    \n",
    "    \n",
    "    for j, i in enumerate(range(0, len(btch1)-days, 1)):\n",
    "        if j < 3:\n",
    "            begin = str(btch1.index[i]).split(' ')[0]\n",
    "            end = str(btch1.index[i+days-1]).split(' ')[0]\n",
    "            img_name = './etfs/etf7/{}/{}-{}_{}.jpeg'.format(foldername, crypto, begin, end)       \n",
    "            \n",
    "            fig = make_subplots(rows=2, cols=1, shared_xaxes=True, row_heights=[0.75, 0.25], vertical_spacing = 0)\n",
    "            fig.add_trace(go.Ohlc(x=btch1.iloc[i:i+days].index, open=btch1.iloc[i:i+days].open, high=btch1.iloc[i:i+days].high, low=btch1.iloc[i:i+days].low,\n",
    "                            close=btch1.iloc[i:i+days].close, increasing_line_color= 'red', decreasing_line_color= 'red'), row=1, col=1)\n",
    "            if moving_avg == True:\n",
    "                fig.add_trace(go.Scatter(x=btch1.iloc[i:i+days].index, y=btch1.iloc[i:i+days].mav, opacity=1, line=dict(color='green', width=lw)), row=1, col=1)\n",
    "\n",
    "            fig.add_trace(go.Bar(x=btch1.iloc[i:i+days].index, y=btch1.iloc[i:i+days].volume, marker_color='blue'), row=2, col=1)\n",
    "\n",
    "            fig.update(layout_xaxis_rangeslider_visible=False)\n",
    "            fig.update_layout(paper_bgcolor='black', plot_bgcolor='black', showlegend=False, autosize=False, width=800, height=400, bargap = vlb, margin=dict(l=0, r=0, t=0, b=0))#, xaxis=dict(margin_pad=2)\n",
    "            fig.update_yaxes(showgrid=False, showticklabels=False) #, showticklabels=False\n",
    "            fig.update_xaxes(showgrid=False, ticklen=1, showticklabels=False)\n",
    "            fig.update_traces(line_width=ohlclw, tickwidth=ts, selector=dict(type='ohlc'))\n",
    "            # fig.write_image(\"{}\".format(img_name), engine=\"kaleido\", scale=1)\n",
    "            # print(img_name)\n",
    "            fig.show()\n",
    "\n",
    "for i in [4, 6, 10, 12, 14][3:4]:\n",
    "    for j in [2, 3][:1]:\n",
    "        ohlc_creator('BTC', btc_historical.copy(), ohlclw = i, ts = 0.4, lw = j,  vlb = 0.5, moving_avg=True, split_ratio=0.8)"
   ]
  },
  {
   "cell_type": "code",
   "execution_count": null,
   "id": "58d0425c-e0f4-43e2-bbd9-d9641160fdd1",
   "metadata": {},
   "outputs": [],
   "source": []
  }
 ],
 "metadata": {
  "environment": {
   "kernel": "python3",
   "name": "tf2-gpu.2-11.m108",
   "type": "gcloud",
   "uri": "gcr.io/deeplearning-platform-release/tf2-gpu.2-11:m108"
  },
  "kernelspec": {
   "display_name": "Python 3 (ipykernel)",
   "language": "python",
   "name": "python3"
  },
  "language_info": {
   "codemirror_mode": {
    "name": "ipython",
    "version": 3
   },
   "file_extension": ".py",
   "mimetype": "text/x-python",
   "name": "python",
   "nbconvert_exporter": "python",
   "pygments_lexer": "ipython3",
   "version": "3.8.13"
  }
 },
 "nbformat": 4,
 "nbformat_minor": 5
}
