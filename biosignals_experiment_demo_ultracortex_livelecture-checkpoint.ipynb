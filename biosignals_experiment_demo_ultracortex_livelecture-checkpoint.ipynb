{
 "cells": [
  {
   "cell_type": "markdown",
   "metadata": {
    "id": "a1ZoRdEd7tNK"
   },
   "source": [
    "# Biosignals Experiment Demo - Experimental Economics Lecture 05.02.2024\n",
    "**Lecturer:** Michael Knierim (michael.knierim@kit.edu)"
   ]
  },
  {
   "cell_type": "markdown",
   "metadata": {
    "id": "KSGz6RZP_TiP"
   },
   "source": [
    "# Useful Resources\n",
    "\n",
    "## Tutorials for Biosignals Recordings & Analyses\n",
    "- Setting up an OpenBCI recording with EEG & ECG: https://docs.openbci.com/GettingStarted/Biosensing-Setups/ExGSetup/\n",
    "- Conduct and analyze EEG experiments with Jupyter Notebooks: https://github.com/NeuroTechX/eeg-notebooks\n",
    "- Analyzing biosignal data with Jupyter Notebooks: https://github.com/biosignalsplux/biosignalsnotebooks\n",
    "\n",
    "## Major Frameworks for Biosignal Data Analysis with Python\n",
    "- EEG Signal Processing & Analysis: MNE Python: https://mne.tools/stable/index.html\n",
    "- ECG (& more!) Signal Processing & Analysis: Neurokit2: https://neuropsychology.github.io/NeuroKit/introduction.html"
   ]
  },
  {
   "cell_type": "markdown",
   "metadata": {
    "id": "jJh43HVa9ShB"
   },
   "source": [
    "# Notebook Setup"
   ]
  },
  {
   "cell_type": "code",
   "execution_count": null,
   "metadata": {
    "id": "_svgeJUAhT5D",
    "pycharm": {
     "is_executing": true
    }
   },
   "outputs": [],
   "source": [
    "# Load dependencies\n",
    "import pandas as pd\n",
    "import numpy as np\n",
    "from datetime import datetime, timedelta\n",
    "import plotly.express as px\n",
    "from mne.filter import filter_data, notch_filter\n",
    "import neurokit2 as nk\n",
    "import mne\n",
    "from scipy.integrate import simps"
   ]
  },
  {
   "cell_type": "markdown",
   "metadata": {
    "id": "Y0sQWHyj9RvJ"
   },
   "source": [
    "# Load and Prepare the Experiment Log"
   ]
  },
  {
   "cell_type": "code",
   "execution_count": null,
   "metadata": {
    "colab": {
     "base_uri": "https://localhost:8080/",
     "height": 404
    },
    "id": "9PDpmIk385rk",
    "outputId": "729e67ce-c7d3-4f14-add3-62d6356931fe"
   },
   "outputs": [],
   "source": [
    "# Set up the names of your conditions (as they appear in the .csv file)\n",
    "# Careful: This is case-sensitive!\n",
    "name_condition_1 = 'condition1' \n",
    "name_condition_2 = 'condition2' \n",
    "name_condition_3 = 'condition3'\n",
    "name_response = 'slider'\n",
    "\n",
    "# Load the PsychoPy Log\n",
    "exp_data = pd.read_csv('data/Test_demo-psychopy_2024-02-06_14h44.17.399.csv')\n",
    "exp_data.head()"
   ]
  },
  {
   "cell_type": "code",
   "execution_count": null,
   "metadata": {
    "colab": {
     "base_uri": "https://localhost:8080/",
     "height": 272
    },
    "id": "N2Gu9bMc9LPO",
    "outputId": "133ff4c1-57f3-43fa-d29a-3dde9896fd14"
   },
   "outputs": [],
   "source": [
    "# Collect relevant timestamps (for biosignal data synchronization)\n",
    "# Start of the experiment\n",
    "ts_exp_start = exp_data['date'][0] \n",
    "# Convert from string (text) to time object\n",
    "# For explanation see: https://www.geeksforgeeks.org/how-to-use-strptime-with-milliseconds-in-python/\n",
    "ts_exp_start = datetime.strptime(ts_exp_start, '%Y-%m-%d_%Hh%M.%S.%f') \n",
    "print('Experiment started at: ' + str(ts_exp_start))\n",
    "\n",
    "def get_condition_ts(condition_name):\n",
    "    # Extract relative timestamp (seconds since start of the experiment)\n",
    "    relative_ts = exp_data[condition_name].dropna().reset_index(drop=True)[0]\n",
    "    # Return combination of experiment start ts and relative ts = absolute timestamp\n",
    "    return ts_exp_start + timedelta(seconds=relative_ts)\n",
    "\n",
    "# Start of eyes open (EO) condition\n",
    "ts_eo_start = get_condition_ts('eo_stimulus.started')\n",
    "print(type(ts_eo_start))\n",
    "\n",
    "# Start of eyes closed (EC) condition\n",
    "ts_ec_start = get_condition_ts('ec_stimulus.started')\n",
    "\n",
    "# Start of standing (S) condition\n",
    "ts_s_start = get_condition_ts('stand_stimulus.started')\n",
    "\n",
    "# Start of first (here: \"neutral\") condition\n",
    "ts_condition_1_start = get_condition_ts(name_condition_1 + '_images.started')\n",
    "\n",
    "# Start of second (here: \"luxury\") condition\n",
    "ts_condition_2_start = get_condition_ts(name_condition_2 + '_images.started')\n",
    "\n",
    "# Start of third (here: \"novelty\") condition\n",
    "ts_condition_3_start = get_condition_ts(name_condition_3 + '_images.started')\n",
    "\n",
    "# Turn into DataFrame (for iteration later)\n",
    "condition_times = pd.DataFrame({'Condition':['EO', 'EC', 'S', \n",
    "                                             name_condition_1, name_condition_2, name_condition_3],\n",
    "                                'Start':[ts_eo_start, ts_ec_start, ts_s_start,\n",
    "                                         ts_condition_1_start, ts_condition_2_start, ts_condition_3_start]})\n",
    "\n",
    "condition_times['End'] = condition_times['Start'] + timedelta(seconds=60)\n",
    "\n",
    "condition_times"
   ]
  },
  {
   "cell_type": "code",
   "execution_count": null,
   "metadata": {
    "colab": {
     "base_uri": "https://localhost:8080/",
     "height": 542
    },
    "id": "MXE5oq7d9Ny6",
    "outputId": "2adb98ca-441b-4209-c8db-52ccc0051ac9"
   },
   "outputs": [],
   "source": [
    "# Locate and display the responses\n",
    "condition_responses = pd.DataFrame({'Condition':[name_condition_1, name_condition_2, name_condition_3],\n",
    "                                    'Response':exp_data[(name_response + '.response')].dropna().reset_index(drop=True)})\n",
    "\n",
    "# Plot the responses\n",
    "fig = px.bar(condition_responses, \n",
    "             x='Condition', y='Response', \n",
    "             labels={'Response':'Trusting (1=Not at all, 5=Very much)'})\n",
    "fig.show()"
   ]
  },
  {
   "cell_type": "markdown",
   "metadata": {
    "id": "bbyvmJwj9PWi"
   },
   "source": [
    "# Load and Process the Biosignal Data"
   ]
  },
  {
   "cell_type": "code",
   "execution_count": null,
   "metadata": {
    "colab": {
     "base_uri": "https://localhost:8080/",
     "height": 684
    },
    "id": "swwFHRnO-GHz",
    "outputId": "b850d748-c0fa-4af1-f950-bc50996ec368"
   },
   "outputs": [],
   "source": [
    "# Load the recording\n",
    "biosignals = pd.read_csv(\"data/OpenBCI-RAW-2024-02-06_14-44-01.txt\", skiprows=4)\n",
    "\n",
    "# Remove some columns that we are not interested in (e.g. accelerometer data)\n",
    "biosignals = biosignals[biosignals.columns.drop(list(biosignals.filter(regex='Accel|Other|Analog|Sample')))]\n",
    "\n",
    "# Set the correct channel names (chose your setup!)\n",
    "biosignals.columns = ['F7', 'F8', 'F3', 'F4', 'T3', 'T4', 'C3', 'C4',\n",
    "                      'P7', 'P8', 'P3', 'P4', 'M2', 'Oz', 'Fz', 'ECG', 'TS_UNIX', 'TS']\n",
    "\n",
    "# Convert the timestamps (for cutting the data)\n",
    "# See: https://www.eldvyn.com/2020/08/converting-number-from-scientific-e.html\n",
    "biosignals['TS_UNIX'] = biosignals['TS_UNIX']*1000\n",
    "biosignals.drop(['TS'], axis=1, inplace=True)\n",
    "biosignals['TS_UNIX'] = pd.to_datetime(biosignals['TS_UNIX'], unit='ms', utc=True).dt.tz_convert('Europe/Berlin')\n",
    "display(biosignals)"
   ]
  },
  {
   "cell_type": "code",
   "execution_count": null,
   "metadata": {
    "id": "xJsYUZlm-LZt"
   },
   "outputs": [],
   "source": [
    "# Annotate the data (to map experiment log timestamps on EEG data)\n",
    "biosignals_times = biosignals['TS_UNIX'].dt.tz_localize(None)\n",
    "\n",
    "for i in range(0, condition_times.shape[0]):\n",
    "    # Get active condition\n",
    "    condition = condition_times.loc[i, 'Condition']\n",
    "    condition_start = condition_times.loc[i, 'Start']\n",
    "    condition_end = condition_times.loc[i, 'End']\n",
    "    \n",
    "    idx_start = biosignals_times >= condition_start\n",
    "    idx_end = biosignals_times < condition_end\n",
    "    idx = np.logical_and(idx_start, idx_end)\n",
    "    # Now add the annotations\n",
    "    biosignals.loc[idx, 'Condition'] = condition\n",
    "\n",
    "# Check if annotations are correct\n",
    "# display(biosignals['Condition'].value_counts())\n",
    "# display(biosignals.groupby('Condition').head(1))\n",
    "# display(biosignals.groupby('Condition').tail(1))\n",
    "\n",
    "biosignals.dropna(inplace=True) # Remove data between conditions (cutting!)"
   ]
  },
  {
   "cell_type": "markdown",
   "metadata": {
    "id": "p7z0UBdd-woU"
   },
   "source": [
    "## General Preprocessing"
   ]
  },
  {
   "cell_type": "code",
   "execution_count": null,
   "metadata": {
    "id": "KFKM2UJR-vRY"
   },
   "outputs": [],
   "source": [
    "# Mean center each channel\n",
    "biosignals.iloc[:,:-2] = biosignals.iloc[:,:-2].apply(lambda x: x - x.mean())\n",
    "\n",
    "# Notch filter (to remove line noise)\n",
    "biosignals.iloc[:,:-2] = biosignals.iloc[:,:-2].apply(lambda x: notch_filter(np.array(x), Fs=125, freqs=[50], method='fir', copy=True, verbose='WARNING'))"
   ]
  },
  {
   "cell_type": "markdown",
   "metadata": {
    "id": "q6AvDlPq-0lc"
   },
   "source": [
    "## ECG Data Processing"
   ]
  },
  {
   "cell_type": "code",
   "execution_count": null,
   "metadata": {
    "id": "a6PC3IA4-09g"
   },
   "outputs": [],
   "source": [
    "# Subset the data\n",
    "ecg = biosignals[['ECG', 'TS_UNIX', 'Condition']]\n",
    "\n",
    "# Function to extract average heart rate (HR)\n",
    "def extract_avg_hr(df, show=False, fs=125):\n",
    "    # Process the ecg signal\n",
    "    cleaned = nk.ecg_clean(df['ECG'], sampling_rate=fs, method=\"pantompkins1985\")\n",
    "    signals, info = nk.ecg_peaks(cleaned, sampling_rate=fs, method=\"pantompkins1985\", correct_artifacts=True)\n",
    "    \n",
    "    # Plot the data if of interest\n",
    "    if show == True: \n",
    "        nk.events_plot(info[\"ECG_R_Peaks\"], cleaned) \n",
    "\n",
    "    # Extract average HR (by conversion of meanRR)\n",
    "    hrv = nk.hrv_time(signals, sampling_rate=fs)\n",
    "\n",
    "    # HR = 60000 / IBI\n",
    "    avg_hr = 60000 / hrv['HRV_MeanNN']\n",
    "    return pd.DataFrame({'Avg_HR':avg_hr})"
   ]
  },
  {
   "cell_type": "markdown",
   "metadata": {
    "id": "zN5j75J8-4ga"
   },
   "source": [
    "### Plausibility Check"
   ]
  },
  {
   "cell_type": "code",
   "execution_count": null,
   "metadata": {
    "colab": {
     "base_uri": "https://localhost:8080/",
     "height": 513
    },
    "id": "XAHsK_yD-5-V",
    "outputId": "86dd5237-6287-4a81-e142-838d7ff2632a"
   },
   "outputs": [],
   "source": [
    "# Compare HR in eyes open rest (EO) vs. standing rest (S)\n",
    "hr_eo = extract_avg_hr(ecg[ecg['Condition']==\"EO\"], show=True)\n",
    "hr_s = extract_avg_hr(ecg[ecg['Condition']==\"S\"], show=True)"
   ]
  },
  {
   "cell_type": "markdown",
   "metadata": {
    "id": "0xPiZ-fk-7y8"
   },
   "source": [
    "### Main Effect (HR Change in Conditions)"
   ]
  },
  {
   "cell_type": "code",
   "execution_count": null,
   "metadata": {
    "colab": {
     "base_uri": "https://localhost:8080/",
     "height": 542
    },
    "id": "0OjYI5_b-8NY",
    "outputId": "3f612a4e-4515-4121-a6f2-a1deef8ad409"
   },
   "outputs": [],
   "source": [
    "# Extract avg. HR for each condition\n",
    "avg_hrs = ecg.drop('TS_UNIX', axis=1).groupby(['Condition']).apply(extract_avg_hr).reset_index().drop('level_1', axis=1)\n",
    "\n",
    "# Plot distribution as bar plots\n",
    "fig = px.bar(avg_hrs, \n",
    "             x='Condition', y='Avg_HR', \n",
    "             labels={'Avg_HR':'Avg. Heart Rate (HR)'})\n",
    "fig.show()"
   ]
  },
  {
   "cell_type": "markdown",
   "metadata": {
    "id": "OYzPYHPR-_mT"
   },
   "source": [
    "## Excursus: Effectivity of different signal processing algorithms"
   ]
  },
  {
   "cell_type": "code",
   "execution_count": null,
   "metadata": {
    "colab": {
     "base_uri": "https://localhost:8080/",
     "height": 542
    },
    "id": "GMCdjHdX_BI9",
    "outputId": "6563f0af-9e73-4993-8ec2-a0eb8d391de7"
   },
   "outputs": [],
   "source": [
    "# Select a condition as a data subset\n",
    "test_set = ecg[ecg['Condition']==\"S\"]\n",
    "ecg_signal = test_set['ECG']\n",
    "\n",
    "# Process ECG signal with various algorithms\n",
    "signals = pd.DataFrame({\"ECG_Raw\" : ecg_signal,\n",
    "                        \"ECG_NeuroKit\" : nk.ecg_clean(ecg_signal, sampling_rate=125, method=\"neurokit\"),\n",
    "                        \"ECG_BioSPPy\" : nk.ecg_clean(ecg_signal, sampling_rate=125, method=\"biosppy\"),\n",
    "                        \"ECG_PanTompkins\" : nk.ecg_clean(ecg_signal, sampling_rate=125, method=\"pantompkins1985\"),\n",
    "                        \"ECG_Hamilton\" : nk.ecg_clean(ecg_signal, sampling_rate=125, method=\"hamilton2002\"),\n",
    "                        \"ECG_Elgendi\" : nk.ecg_clean(ecg_signal, sampling_rate=125, method=\"elgendi2010\"),\n",
    "                        \"ECG_EngZeeMod\" : nk.ecg_clean(ecg_signal, sampling_rate=125, method=\"engzeemod2012\")})\n",
    "\n",
    "signals = signals.reset_index(drop=True).reset_index().melt(id_vars='index', var_name='Pipeline', value_name='mV')\n",
    "fig = px.line(signals, x='index', y='mV', facet_row=\"Pipeline\")\n",
    "fig.show()"
   ]
  },
  {
   "cell_type": "markdown",
   "metadata": {
    "id": "CtAihkCU_Cn8"
   },
   "source": [
    "## EEG Data Processing"
   ]
  },
  {
   "cell_type": "code",
   "execution_count": null,
   "metadata": {
    "id": "yDnqYD4r_C-Y"
   },
   "outputs": [],
   "source": [
    "# Subset the data\n",
    "eeg = biosignals.drop('ECG', axis=1)\n",
    "\n",
    "# Pre-process the data further\n",
    "# Bandpass filter the data\n",
    "eeg.iloc[:,:-2] = eeg.iloc[:,:-2].apply(lambda x: filter_data(np.array(x), sfreq=125, l_freq=1, h_freq=24, method='fir', copy=True, verbose='WARNING'))"
   ]
  },
  {
   "cell_type": "markdown",
   "metadata": {
    "id": "HzQZ6bvf_GSF"
   },
   "source": [
    "### Plausibility Check (Berger Effect)"
   ]
  },
  {
   "cell_type": "code",
   "execution_count": null,
   "metadata": {
    "colab": {
     "base_uri": "https://localhost:8080/",
     "height": 542
    },
    "id": "rdXBBnoQ_EYp",
    "outputId": "f660124f-e01c-44a4-c2be-ee0994ff6837"
   },
   "outputs": [],
   "source": [
    "# Compare Alpha power in eyes open rest (EO) vs. eyes closed rest (EC) in occipital electrodes (O1 & O2)\n",
    "def get_psd(eeg_df, condition, elecs):\n",
    "    # Subset the data\n",
    "    subset = eeg_df[eeg_df['Condition']==condition].loc[:,elecs]\n",
    "    # Extract PSD\n",
    "    psds, freqs = mne.time_frequency.psd_array_welch(np.array(subset).transpose(), sfreq=125, n_per_seg=375, n_overlap=250, fmin=1, fmax=24, verbose='WARNING')\n",
    "    # Average over electrodes\n",
    "    psds = psds.mean(0)\n",
    "    # Normalize power spectrum\n",
    "    psds = 10 * np.log10(psds)  # convert to dB\n",
    "    \n",
    "    # Turn into DF & Return\n",
    "    return pd.DataFrame({'Frequency':freqs, 'Power':psds, 'Condition':condition})\n",
    "    \n",
    "psd_eo = get_psd(eeg, 'EO', ['Oz'])\n",
    "psd_ec = get_psd(eeg, 'EC', ['Oz'])\n",
    "\n",
    "fig = px.line(pd.concat([psd_eo, psd_ec]), x='Frequency', y='Power', color='Condition',\n",
    "              labels={'Power':'db Power'})\n",
    "fig.show()"
   ]
  },
  {
   "cell_type": "markdown",
   "metadata": {
    "id": "-zIASAIk_OR8"
   },
   "source": [
    "### Main Effect (FAA Change in Conditions)\n",
    "\n",
    "- FAA = Frontal Alpha Asymmetry\n",
    "- FAA = Right Hemisphere – Left Hemisphere\n",
    "- Higher FAA -> Greater Left Frontal Activity (Higher Approach Motivation)"
   ]
  },
  {
   "cell_type": "code",
   "execution_count": null,
   "metadata": {
    "colab": {
     "base_uri": "https://localhost:8080/"
    },
    "id": "AysvYy3V_OnR",
    "outputId": "efb03911-9a91-4252-c0a3-a3312f419ca1"
   },
   "outputs": [],
   "source": [
    "# First, re-reference the data\n",
    "ch_names = eeg.drop(['TS_UNIX', 'Condition'], axis=1).columns.values.tolist()\n",
    "info = mne.create_info(ch_names, 125, ch_types='eeg')\n",
    "linked_ref_ch = ['Oz'] # We will use a linked O1+O2 solution here...\n",
    "ch_names_after = [ch for ch in ch_names if ch not in linked_ref_ch]\n",
    "\n",
    "# Then create an mne raw EEG data object to set the new reference\n",
    "raw = mne.io.RawArray(np.array(eeg.drop(['TS_UNIX', 'Condition'], axis=1)).transpose(), info, verbose='WARNING')\n",
    "raw.set_eeg_reference(ref_channels=linked_ref_ch)\n",
    "raw = raw.drop_channels(linked_ref_ch) # Drop the reference electrodes\n",
    "\n",
    "# Retrieve data to df\n",
    "reref_eeg = pd.DataFrame(raw.get_data().transpose(), columns=ch_names_after)\n",
    "reref_eeg['TS_UNIX'] = eeg['TS_UNIX'].reset_index(drop=True)\n",
    "reref_eeg['Condition'] = eeg['Condition'].reset_index(drop=True)\n",
    "eeg = reref_eeg"
   ]
  },
  {
   "cell_type": "code",
   "execution_count": null,
   "metadata": {
    "colab": {
     "base_uri": "https://localhost:8080/",
     "height": 542
    },
    "id": "W73skDuW_QFT",
    "outputId": "abe66af0-c083-4144-8019-7e32d3171691"
   },
   "outputs": [],
   "source": [
    "# Compute power spectral distribution (PSD) for each region of interest (ROI) and condition\n",
    "def extract_band_power(eeg_df, elecs, roi_name, freq_band_dict={'alpha':[7,13]}):\n",
    "    freq_edges = list(sorted({ele for val in freq_band_dict.values() for ele in val}))\n",
    "    freq_names = freq_band_dict.keys()\n",
    "    \n",
    "    condition = eeg_df.reset_index(drop=True).loc[0, 'Condition']\n",
    "    psd_df = get_psd(eeg_df, condition, elecs)\n",
    "    \n",
    "    powers = psd_df.groupby(pd.cut(psd_df['Frequency'], bins = freq_edges, labels = freq_names)).Power.apply(lambda x:simps(x))\n",
    "    powers['ROI'] = roi_name\n",
    "    return powers\n",
    "\n",
    "alpha_left = eeg.drop('TS_UNIX', axis=1).groupby(['Condition']).apply(extract_band_power, elecs=['F3', 'F7'], roi_name='Left').reset_index()\n",
    "alpha_right = eeg.drop('TS_UNIX', axis=1).groupby(['Condition']).apply(extract_band_power, elecs=['F4', 'F8'], roi_name='Right').reset_index()\n",
    "\n",
    "# Calculate FAA\n",
    "alpha_frontal = pd.concat([alpha_left, alpha_right]).pivot(index='Condition', columns='ROI', values='alpha')\n",
    "alpha_frontal['FAA'] = alpha_frontal['Right'] - alpha_frontal['Left']\n",
    "alpha_frontal.reset_index(inplace=True)\n",
    "\n",
    "# Plot distribution as bar plots\n",
    "fig = px.bar(alpha_frontal, \n",
    "             x='Condition', y='FAA', \n",
    "             labels={'FAA':'Frontal Alpha Asymmetry (FAA)'})\n",
    "fig.show()"
   ]
  },
  {
   "cell_type": "code",
   "execution_count": null,
   "metadata": {},
   "outputs": [],
   "source": []
  }
 ],
 "metadata": {
  "colab": {
   "provenance": []
  },
  "kernelspec": {
   "display_name": "Python 3 (ipykernel)",
   "language": "python",
   "name": "python3"
  },
  "language_info": {
   "codemirror_mode": {
    "name": "ipython",
    "version": 3
   },
   "file_extension": ".py",
   "mimetype": "text/x-python",
   "name": "python",
   "nbconvert_exporter": "python",
   "pygments_lexer": "ipython3",
   "version": "3.7.8"
  }
 },
 "nbformat": 4,
 "nbformat_minor": 1
}
