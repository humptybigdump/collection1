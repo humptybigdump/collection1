{
 "cells": [
  {
   "cell_type": "markdown",
   "metadata": {},
   "source": [
    "## Aufgabe 3 - Filter implementieren\n",
    "\n",
    "In dieser Aufgabe werden Sie einen Filter auf eine Audiodatei anwenden.\n",
    "\n",
    "Zunächst laden wir die Datei:"
   ]
  },
  {
   "cell_type": "code",
   "execution_count": null,
   "metadata": {},
   "outputs": [],
   "source": [
    "# Verändern Sie diesen Block nicht\n",
    "import numpy as np\n",
    "import matplotlib.pyplot as plt\n",
    "import wave\n",
    "from IPython.display import Audio\n",
    "with wave.open(\"Media1.WAV\") as wav_file:\n",
    "    sample_rate = wav_file.getframerate()\n",
    "    n_samples = wav_file.getnframes()\n",
    "    audio = np.frombuffer(wav_file.readframes(n_samples), dtype=np.int16)\n",
    "audio = audio.reshape(-1, 2)[:, 0]  # Datei ist ursprünglich Stereo, wir brauchen nur einen Kanal\n",
    "audio = audio.astype(np.double) / 32767\n",
    "Audio(audio, rate=sample_rate)"
   ]
  },
  {
   "cell_type": "markdown",
   "metadata": {},
   "source": [
    "Als nächstes Konstruieren wir den Filter. Für dieses Beispiel wollen wir einen naiven Low-Pass Filter mit einer Grenzfrequenz von 1000 Hz anwenden. In der Frequenzdomäne ist dieser leicht darzustellen:"
   ]
  },
  {
   "cell_type": "code",
   "execution_count": null,
   "metadata": {},
   "outputs": [],
   "source": [
    "# Verändern Sie diesen Block nicht\n",
    "freq_filter = np.zeros(1024)\n",
    "x = np.linspace(-sample_rate / 2, sample_rate / 2, 1024)\n",
    "freq_filter[abs(x) <= 1000] = 1\n",
    "plt.plot(x, freq_filter)\n",
    "plt.show()"
   ]
  },
  {
   "cell_type": "markdown",
   "metadata": {},
   "source": [
    "Es ist einfach eine Funktion $F(\\omega) = \\begin{cases} 1 &\\text{falls } |\\omega| \\leq 1000Hz \\\\ 0 &\\text{sonst}\\end{cases}$\n",
    "\n",
    "Für die diskrete Faltung benötigen wir den Filter aber in der Zeitdomäne. Dafür wenden wir die inverse Fouriertransformation an und erhalten:\n",
    "\n",
    "$f(t) = \\frac{1}{\\pi t}\\sin(1000Hz\\cdot t)$\n",
    "\n",
    "Diese Funktion ist die Impulsantwort des Filters. Aber Sie hat ein Problem: Es gibt keinen Wert $t$, ab dem die Funktion immer 0 ist, also $\\not \\exists t: \\forall t' > t: f(t) = 0$. Die Impulsantwort ist undendlich lang in der Zeit, wir sprechen von einem Infinite Impulse Response (IIR) Filter. Folglich wäre auch eine Faltung zwischen dem Filter und einem Signal unendlich lang.\n",
    "\n",
    "In dieser Übung lösen wir das Problem, indem wir den Filter einfach abschneiden. Das verfälscht den Filter in der Frequenzdomäne, aber das nehmen wir hier einfach hin.\n",
    "\n",
    "Wir begrenzen den Filter auf 512 samples in der Zeitdomäne. Die 1000Hz aus der Definition müssen wir in Abhängigkeit der Nyquist-Frequenz, also $\\frac{\\text{samplerate}}{2}$ ausdrücken."
   ]
  },
  {
   "cell_type": "code",
   "execution_count": null,
   "metadata": {},
   "outputs": [],
   "source": [
    "# Verändern Sie diesen Block nicht\n",
    "t = np.arange(1, 513)\n",
    "f = np.sin(t * 1000 / (sample_rate / 2)) / (np.pi * t)"
   ]
  },
  {
   "cell_type": "markdown",
   "metadata": {},
   "source": [
    "Jetzt müssen Sie die Faltung implementieren.\n",
    "\n",
    "a) Wie lang ist die diskrete Faltung zwischen zwei Signalen a und b? Die Länge der Signale erhalten Sie jeweils mit `len(a)` und `len(b)`. (5 Punkte)\n",
    "\n",
    "b) Implementieren Sie die diskrete Faltung entsprechend der Definition:\n",
    "\n",
    "$(a \\ast b)[i] = \\sum_{j=-\\infty}^\\infty a[j]b[i-j]$\n",
    "\n",
    "Verwenden Sie **nicht** `np.convolve`. Sie dürfen andere `numpy` Funktionen, wie z.B. `np.sum` benutzen. (20 Punkte)"
   ]
  },
  {
   "cell_type": "code",
   "execution_count": null,
   "metadata": {},
   "outputs": [],
   "source": [
    "def convolve(a, b):\n",
    "    result = np.zeros(<Ihr Ergebnis aus a)>)\n",
    "    \n",
    "    # Implementieren Sie hier die Faltung\n",
    "    \n",
    "    return result"
   ]
  },
  {
   "cell_type": "markdown",
   "metadata": {},
   "source": [
    "Sie können Ihre Implementierung zunächst an einem Ausschnitt der Daten testen und mit `np.convolve` vergleichen."
   ]
  },
  {
   "cell_type": "code",
   "execution_count": null,
   "metadata": {},
   "outputs": [],
   "source": [
    "# Verändern Sie diesen Block nicht\n",
    "your_result = convolve(audio[:1000], f)"
   ]
  },
  {
   "cell_type": "markdown",
   "metadata": {},
   "source": [
    "Falls der Folgende Block **keine** Ausgabe erzeugt, ist Ihr Ergebnis identisch mit `np.convolve`."
   ]
  },
  {
   "cell_type": "code",
   "execution_count": null,
   "metadata": {},
   "outputs": [],
   "source": [
    "# Verändern Sie diesen Block nicht\n",
    "numpy_result = np.convolve(audio[:1000], f)\n",
    "np.testing.assert_allclose(numpy_result, your_result)"
   ]
  },
  {
   "cell_type": "markdown",
   "metadata": {},
   "source": [
    "Jetzt wollen wir die gesamte Datei filtern. Vergleichen Sie das Ergebnis mit der Originaldatei: Der Klang sollte jetzt dumpf sein, wie durch eine Wand.\n",
    "\n",
    "In dieser Abgabe bewerten wir nur die Korrektheit Ihrer Lösung, nicht die Performance, deswegen bekommen Sie keinen Punktabzug, wenn Ihre Lösung nicht auf die ganze Audiodatei angewendet werden kann."
   ]
  },
  {
   "cell_type": "code",
   "execution_count": null,
   "metadata": {},
   "outputs": [],
   "source": [
    "# Verändern Sie diesen Block nicht\n",
    "your_result = convolve(audio, f)\n",
    "Audio(your_result, rate=sample_rate)"
   ]
  },
  {
   "cell_type": "markdown",
   "metadata": {},
   "source": [
    "Eine Wichtige Erkenntnis ist der Zusammenhang zwischen der Faltung und der Fouriertransformation: Eine Faltung im Zeitbereich ist Äquivalent zu einer Multiplikation im Frequenzbereich. Durch die Verwendung des Fast Fourier Transform (FFT) Algorithmus ist es möglich, die Faltung deutlich zu beschleunigen.\n",
    "\n",
    "Den FFT Algorithmus müssen Sie nicht selbst implementieren. Verwenden Sie `np.fft.fft` für die Fouriertransformation und `np.fft.ifft` für die inverse Fouriertransformation.\n",
    "\n",
    "c) Implementieren Sie die Faltung, indem Sie Signal und Filter in den Frequenzbereich übertragen, multiplizieren und zurück übertragen. (15 Punkte)\n",
    "\n",
    "Hinweis: Für $n$ Eingabepunkte liefert FFT auch wieder $n$ Ausgabepunkte. Sie müssen also ggf. die Arrays mit Nullen auffüllen, um die Längen anzugleichen. Benutzen Sie dazu entweder `np.concatenate` und `np.zeros` oder das Argument `n` von `np.fft.[i]fft`."
   ]
  },
  {
   "cell_type": "code",
   "execution_count": null,
   "metadata": {},
   "outputs": [],
   "source": [
    "def fft_convolve(a, b):\n",
    "    # Implementieren Sie hier die Faltung"
   ]
  },
  {
   "cell_type": "code",
   "execution_count": null,
   "metadata": {},
   "outputs": [],
   "source": [
    "# Verändern Sie diesen Block nicht\n",
    "fft_result = fft_convolve(audio[:1000], f)\n",
    "np.testing.assert_allclose(numpy_result, fft_result)"
   ]
  },
  {
   "cell_type": "code",
   "execution_count": null,
   "metadata": {},
   "outputs": [],
   "source": [
    "# Verändern Sie diesen Block nicht\n",
    "fft_result = fft_convolve(audio, f)\n",
    "Audio(fft_result, rate=sample_rate)"
   ]
  }
 ],
 "metadata": {
  "kernelspec": {
   "display_name": "Python 3",
   "language": "python",
   "name": "python3"
  },
  "language_info": {
   "codemirror_mode": {
    "name": "ipython",
    "version": 3
   },
   "file_extension": ".py",
   "mimetype": "text/x-python",
   "name": "python",
   "nbconvert_exporter": "python",
   "pygments_lexer": "ipython3",
   "version": "3.7.4"
  }
 },
 "nbformat": 4,
 "nbformat_minor": 4
}
