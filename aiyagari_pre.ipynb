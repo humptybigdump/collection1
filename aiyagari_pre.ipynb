{
 "cells": [
  {
   "cell_type": "code",
   "execution_count": 15,
   "id": "416db838",
   "metadata": {},
   "outputs": [],
   "source": [
    "import numpy as np\n",
    "import matplotlib.pyplot as plt\n",
    "import scipy"
   ]
  },
  {
   "cell_type": "markdown",
   "id": "061cc0fc",
   "metadata": {},
   "source": [
    "### Labor Productivity Process\n",
    "In the Aiyagari (1994) model, household (log-) labor productivity, $\\varepsilon_t$, follows an AR(1) process with persistence parameter $\\rho$. To simplify the model solution, we approximate the AR(1) process using a discrete Markov chain. This approximation is performed using \"Tauchen's method,\" a standard approach for discretizing continuous state spaces. The function `approx_markov` is used to generate the corresponding Markov chain."
   ]
  },
  {
   "cell_type": "code",
   "execution_count": 16,
   "id": "c4c87ded",
   "metadata": {},
   "outputs": [],
   "source": [
    "def approx_markov(rho, sigma_u, m=3, n=7):\n",
    "    \"\"\"\n",
    "    Computes the Markov matrix associated with a discretized version of\n",
    "    the linear Gaussian AR(1) process\n",
    "\n",
    "        y_{t+1} = rho * y_t + u_{t+1}\n",
    "\n",
    "    according to Tauchen's method.  Here {u_t} is an iid Gaussian\n",
    "    process with zero mean.\n",
    "\n",
    "    Parameters\n",
    "    ----------\n",
    "    rho : scalar(float)\n",
    "        The autocorrelation coefficient\n",
    "    sigma_u : scalar(float)\n",
    "        The standard deviation of the random process\n",
    "    m : scalar(int), optional(default=3)\n",
    "        The number of standard deviations to approximate out to\n",
    "    n : scalar(int), optional(default=7)\n",
    "        The number of states to use in the approximation\n",
    "\n",
    "    Returns\n",
    "    -------\n",
    "\n",
    "    x : array_like(float, ndim=1)\n",
    "        The state space of the discretized process\n",
    "    P : array_like(float, ndim=2)\n",
    "        The Markov transition matrix where P[i, j] is the probability\n",
    "        of transitioning from x[i] to x[j]\n",
    "\n",
    "    \"\"\"\n",
    "    F = scipy.stats.norm(loc=0, scale=sigma_u).cdf\n",
    "\n",
    "    # standard deviation of y_t\n",
    "    std_y = np.sqrt(sigma_u**2 / (1-rho**2))\n",
    "\n",
    "    # top of discrete state space\n",
    "    x_max = m * std_y\n",
    "\n",
    "    # bottom of discrete state space\n",
    "    x_min = - x_max\n",
    "\n",
    "    # discretized state space\n",
    "    x = np.linspace(x_min, x_max, n)\n",
    "\n",
    "    step = (x_max - x_min) / (n - 1)\n",
    "    half_step = 0.5 * step\n",
    "    P = np.empty((n, n))\n",
    "\n",
    "    for i in range(n):\n",
    "        P[i, 0] = F(x[0]-rho * x[i] + half_step)\n",
    "        P[i, n-1] = 1 - F(x[n-1] - rho * x[i] - half_step)\n",
    "        for j in range(1, n-1):\n",
    "            z = x[j] - rho * x[i]\n",
    "            P[i, j] = F(z + half_step) - F(z - half_step)\n",
    "\n",
    "    return x, P"
   ]
  },
  {
   "cell_type": "markdown",
   "id": "538d36c5",
   "metadata": {},
   "source": [
    "In the next step we generate the markov chain approximation of an AR(1) process with `neta=7` realizations, persistence $\\rho=0.965$, and standard deviation $\\sigma=0.25$. The realizations of the shock are given by `y` and the transition matrix is given by `yprob`."
   ]
  },
  {
   "cell_type": "code",
   "execution_count": 17,
   "id": "0d42684b",
   "metadata": {},
   "outputs": [],
   "source": [
    "neta = 7 # number of realizations\n",
    "rho_e = 0.965 # persistence\n",
    "sig_e = 0.25 # standard deviation\n",
    "\n",
    "# discretize the AR-process into a markov chain\n",
    "y, yprob = approx_markov(rho_e, sig_e, 3, neta)\n",
    "\n",
    "# normalization\n",
    "y = np.exp(y)"
   ]
  },
  {
   "cell_type": "markdown",
   "id": "736c3b8f",
   "metadata": {},
   "source": [
    "Next we compute the stationary distribution of the process, and the mean labor supply under the AR(1) process."
   ]
  },
  {
   "cell_type": "code",
   "execution_count": 18,
   "id": "634e1e47",
   "metadata": {},
   "outputs": [],
   "source": [
    "# find the stationary distribution of the markov chain\n",
    "S, U = scipy.linalg.eig(yprob.T)\n",
    "pistar = np.array(U[:, np.where(np.abs(S - 1.) < 1e-8)[0][0]].flat)\n",
    "pistar = pistar / np.sum(pistar)\n",
    "\n",
    "# aggregate labor supply\n",
    "var_x = sig_e**2.0 / (1.0 - rho_e**2.0)\n",
    "labor = np.exp(var_x / 2.0)"
   ]
  },
  {
   "cell_type": "markdown",
   "id": "e9d582d5",
   "metadata": {},
   "source": [
    "### Exercise"
   ]
  },
  {
   "cell_type": "code",
   "execution_count": null,
   "id": "830d9f4e",
   "metadata": {},
   "outputs": [],
   "source": []
  }
 ],
 "metadata": {
  "kernelspec": {
   "display_name": "Python 3 (ipykernel)",
   "language": "python",
   "name": "python3"
  },
  "language_info": {
   "codemirror_mode": {
    "name": "ipython",
    "version": 3
   },
   "file_extension": ".py",
   "mimetype": "text/x-python",
   "name": "python",
   "nbconvert_exporter": "python",
   "pygments_lexer": "ipython3",
   "version": "3.9.7"
  }
 },
 "nbformat": 4,
 "nbformat_minor": 5
}
