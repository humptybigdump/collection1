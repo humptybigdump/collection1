{
 "cells": [
  {
   "cell_type": "markdown",
   "metadata": {},
   "source": [
    "*Bearbeitet von Anh Thi Pham*\n",
    "\n",
    "Der Python Code, sowie die Dokumentation wurde in *jupyter notebook* geschrieben.Die Ergebnisse zu dieser Übung sind unter [Ausgabe der Ergebnisse](#ausgabe-der-ergebnisse) zu finden.\n",
    "\n",
    "# Theorie\n",
    "## Abschätzung der Stoffmengenströme\n",
    "Um die Stoffmengenströme innerhalb der Kolonne abzuschätzen wird ein äquimolarer Stofftransport angenommen. Aus der Gesamtbilanz lässt sich bei bekannten Feed- und Kopfstrom der Sumpfstrom berechnen.  \n",
    "\n",
    "\\begin{equation}\n",
    "\\dot{S}=\\dot{F}-\\dot{K} \n",
    "\\end{equation}\n",
    "\n",
    "Aus dem Feedstrom und dem Dampfanteil $f$ lässt sich der flüssige und dampfförmige Feedstrom berechnen\n",
    "\n",
    "\\begin{equation}\n",
    "\\dot{F}=(1-f) \\dot{F}^L + f \\dot{F}^G \n",
    "\\end{equation}\n",
    "\n",
    "Zur Bestimmung aller flüssigen und gasförmigen Gesamtstoffströme oberhalb der Feedstufe, also $j < n$ wird eine Gesamtbilanz um den Kopf der Kolonne gebildet.\n",
    "\n",
    "\\begin{equation}\n",
    "\\dot{L}_j = \\nu \\dot{K}\n",
    "\\end{equation}\n",
    "\n",
    "\\begin{equation}\n",
    "\\dot{G}_{j+1}= \\dot{K} + \\dot{L}_j \n",
    "\\end{equation}\n",
    "\n",
    "Darin ist $\\nu$ das Rücklaufverhältnis.  \n",
    "Für alle Gesamtstoffströme unterhalb der Feedstufe, also $j > n$, folgt aus einer Bilanz um die Feedstufe folgende Gleichungen:\n",
    "\n",
    "\\begin{equation}\n",
    "\\dot{L}_{j}= \\dot{L}_{n-1} + \\dot{F}^L \n",
    "\\end{equation}\n",
    "\n",
    "\\begin{equation}\n",
    "\\dot{G}_{j+1}= \\dot{G}_{n} - \\dot{F}^G\n",
    "\\end{equation}\n",
    "\n",
    "Die obigen Gleichungen sind in der Funktion *estimate_flux_cmo* implementiert, die die Arrays $G_j$ und $L_j$ als Spaltenvektoren zurückgibt.\n",
    "\n",
    "| $G_j$   | $L_j$ |\n",
    "|---------|------ |\n",
    "| $K$     | $L_0$ |\n",
    "| $G_1$   | $L_1$ |\n",
    "| $G_2$   | $L_2$ |\n",
    "| $...$   | $...$ |\n",
    "|$G_{n-1}$| $S$   |\n",
    "\n",
    "## Berechnung der Komponentenströme\n",
    "Für die Berechnung der Komponentenströme wird angenommen, dass die austretenden Gas- und Flüssigströme einer Trennstufe im thermodynamischen Gleichgewicht zueinander stehen. Mit dieser Annahme können die flüssigen Komponentenströme aus den gasförmigen Komponentenströmen berechnt werden.\n",
    "\n",
    "\\begin{equation} \\label{l_from_v}\n",
    "l_{ji} = \\dot{L}_i x_{ji}= \\frac{\\dot{L}_i}{\\dot{G}_i K_{ji}} \\dot{G}_j y_{ji} = A_{ji} v_{ji}\n",
    "\\end{equation}\n",
    "\n",
    "Darin ist $A_{ji}$ der **Absorptionskoeffizient**. Für alle Trennstufen ist der Absorptionskoeffizient wie folgt definiert:\n",
    "\n",
    "\\begin{equation}\n",
    "A_{ji} = \\frac{\\dot{L}_i}{\\dot{G}_i K_{ji}}\n",
    "\\end{equation}\n",
    "\n",
    "Wird ein Totalkondensator eingesetzt, entpsricht der Absorptionskoeffizient für $j=0$ dem Rücklaufverhältnis.\n",
    "\n",
    "\\begin{equation}\n",
    "A_{0i} = \\frac{\\dot{L}_0}{\\dot{K}}\n",
    "\\end{equation}\n",
    "\n",
    "Auch bei einem Totalverdampfer liegt keine Trennstufe vor und der Aktivitätskoeffizient für $j=n+1$ wird wie folgt berechnet:\n",
    "\n",
    "\\begin{equation}\n",
    "A_{n+1,i} = \\frac{\\dot{S}}{\\dot{G}_{n+1}}\n",
    "\\end{equation}\n",
    "\n",
    "\n",
    "$K_{ji}$ ist die **thermodynamische Gleichgewichtskonstante** der Komponente i auf der Stufe j. Diese lässt sich aus dem Rault-Dalton Gesetz ermitteln.\n",
    "\n",
    "\\begin{equation}\n",
    "K_{ji}= \\frac{y_{ji}}{x_{ji}} = \\frac{p_{ji}^*}{p}\n",
    "\\end{equation}\n",
    "\n",
    "Hier ist $p_{ji}^*$ Der Dampfdruck der Komponente i auf der Stufe j, welcher sich mit der Wagner-Gleichung in der 2,5-5-Form berechnen lässt. Mit der Funktion *calc_p_vap_trays* wird der Dampfdruck jeder Komponente auf jeder Kolonnenstufe berechnet. Das Ergebnis ist ein zweidimensionales $n \\times m$ Array. \n",
    "\n",
    "Um nun alle **Komponentenströme** zu berechnen wird um jede Kolonnenstufe eine Bilanz erstellt und alle Flüssig-Komponentenströme mit Gleichung $(\\ref{l_from_v})$ durch Gas-Komponentenströme ersetzt. Alle Bilanzen lassen sich für jede Komponente i in einer Matrixschreibweise schreiben.\n",
    "\n",
    "\\begin{equation} \\label{matrix_short}\n",
    "A_i \\cdot v_i = L_i\n",
    "\\end{equation}\n",
    "\n",
    "Ausgeschriebn ist Gleichung $(\\ref{matrix_short})$ \n",
    "\n",
    "\\begin{equation}\n",
    " \\begin{pmatrix}\n",
    "   -(A_{0i}+1) & 1           & 0           & 0           & \\cdots & \\cdots & 0 \\\\\n",
    "   A_{0i}      & -(A_{1i}+1) & 1           & 0           & \\cdots & \\cdots & 0 \\\\\n",
    "   0           & A_{1i}      & -(A_{2i}+1) & 1           & \\cdots & \\cdots & 0 \\\\\n",
    "   0           & 0           & A_{2i}      & -(A_{3i}+1) & 1      & \\cdots & 0 \\\\\n",
    "   \\vdots      & \\vdots      & \\vdots      & \\vdots      & \\ddots      & \\vdots & 0 \\\\\n",
    "   0           & 0           & 0           & 0           & \\cdots      & A_{ni} & -(A_{n+1,i}+1)\n",
    " \\end{pmatrix}\n",
    " \\cdot\n",
    " \\begin{pmatrix}\n",
    "  d_i \\\\\n",
    "  v_{1i}      \\\\\n",
    "  v_{2i}      \\\\\n",
    "  \\vdots      \\\\\n",
    "  \\vdots      \\\\\n",
    "  v_{n+1,i}           \n",
    " \\end{pmatrix} =\n",
    " \\begin{pmatrix}\n",
    "  0 \\\\\n",
    "  \\vdots      \\\\\n",
    "  v_{Fi}      \\\\\n",
    "  l_{Fi}      \\\\\n",
    "  \\vdots      \\\\\n",
    "  0\n",
    " \\end{pmatrix}\n",
    "\\end{equation}\n",
    "\n",
    "Die Gas-Komponentenströme $v_i$ können mit Hilfe der inversen Matrix von $A_i$ ermittelt werden.\n",
    "\n",
    "\\begin{equation}\n",
    "v_i = A_i^{-1} \\cdot L_i \n",
    "\\end{equation}\n",
    "\n",
    "$v_{ji}$ setzt sich als Matrix aus $v_i$ für alle Komponenten zusammen, wobei $v_i$ die einzelnen Spaltenvektoren sind. Mit Gleichung $(\\ref{l_from_v})$ kann nun auch $l_{ji}$ aus $v_{ji}$ berechnet werden.   \n",
    "\n",
    "Nun kann die **Zusammensetzung** der Flüssigphase berechnet werden; die Berechnung der Zusammensetzung der Gasphase erfolgt analog.\n",
    "\n",
    "\\begin{equation}\n",
    "x_{ji} = \\frac{l_{ji}}{\\displaystyle\\sum_{i=1}^{m} l_{ji}}\n",
    "\\end{equation}\n",
    "\n",
    "Die Umsetzung der beschriebenen Berechnungen in Python sind im Abschnitt [Berechnungen](#berechnungen) zu finden."
   ]
  },
  {
   "cell_type": "markdown",
   "metadata": {},
   "source": [
    "Dieser Block wird genutz um Gleichungen automatisch zu nummerieren:"
   ]
  },
  {
   "cell_type": "code",
   "execution_count": 1,
   "metadata": {},
   "outputs": [
    {
     "data": {
      "application/javascript": [
       "MathJax.Hub.Config({\n",
       "    TeX: { equationNumbers: { autoNumber: \"AMS\" } }\n",
       "});\n"
      ],
      "text/plain": [
       "<IPython.core.display.Javascript object>"
      ]
     },
     "metadata": {},
     "output_type": "display_data"
    }
   ],
   "source": [
    "%%javascript\n",
    "MathJax.Hub.Config({\n",
    "    TeX: { equationNumbers: { autoNumber: \"AMS\" } }\n",
    "});"
   ]
  },
  {
   "cell_type": "code",
   "execution_count": 2,
   "metadata": {},
   "outputs": [],
   "source": [
    "%config Completer.use_jedi = False  # to make autocomplete work again"
   ]
  },
  {
   "cell_type": "markdown",
   "metadata": {},
   "source": [
    "# Pyton Code"
   ]
  },
  {
   "cell_type": "code",
   "execution_count": 3,
   "metadata": {},
   "outputs": [],
   "source": [
    "import numpy as np\n",
    "import pandas as pd\n",
    "from IPython.core.display import HTML, Markdown\n",
    "\n",
    "import project_path\n",
    "from tvt_lib.read_chem_properties import get_component_data\n",
    "from tvt_lib.rectification import estimate_flux_cmo, calc_p_vap_trays, calc_L_i, calc_v_ji"
   ]
  },
  {
   "cell_type": "code",
   "execution_count": 4,
   "metadata": {},
   "outputs": [],
   "source": [
    "# setting format options for pandas and numpy\n",
    "pd.set_option('display.notebook_repr_html', True)\n",
    "\n",
    "def _repr_latex_(self):\n",
    "    return self.to_latex()\n",
    "\n",
    "pd.DataFrame._repr_latex_ = _repr_latex_\n",
    "\n",
    "pd.set_option(\"display.float_format\", '{:.3f}'.format)\n",
    "np.set_printoptions(precision=3, suppress=True)"
   ]
  },
  {
   "cell_type": "markdown",
   "metadata": {},
   "source": [
    "## Angabe aller Parameter\n",
    "- Naturkonstanten: universelle Gaskonstante\n",
    "- Komponenten: Namen, Anzahl\n",
    "- Kolonne: Kolonnenstufen, Totalkondensator (ja/nein), Totalverdampfer (ja/nein)\n",
    "- Betriebsbedingungen: Temperatur, Druck\n",
    "- Feed: Feedstrom, Feedzusammensetzung, Feedtempertur, Dampfanteil, Stufe der Feedzugabe\n",
    "- Kopfprodukt: Kopfstrom, Rücklaufverhältnis"
   ]
  },
  {
   "cell_type": "code",
   "execution_count": 5,
   "metadata": {},
   "outputs": [],
   "source": [
    "R = 8.314  # universelle Gaskonstante [J/(mol*K)]\n",
    "\n",
    "comp_name = np.array([\"Methanol\", \"Ethanol\", \"n-Propanol\"])\n",
    "m = comp_name.size  # Anzahl Komponenten\n",
    "\n",
    "n = 5  # Anzahl Kolonnenstufen (Kondensator und Verdampfer werden hinzugezählt; Entspricht Anzahl Böden + 2)\n",
    "total_condenser = True\n",
    "total_reboiler = False\n",
    "\n",
    "T_0 = 310.93  # Anfangstemperatur [K]\n",
    "T = T_0 * np.ones(n)  # Temperaturarray für alle Kolonnenstufen\n",
    "p_ges = 1.013  # Gesamtdruck [bar]\n",
    "\n",
    "F = 100.0  # Feedstrom [mol/h]\n",
    "z_F = np.array([1 / 3, 1 / 3, 1 / 3])  # Feedzusammensetzung\n",
    "T_F = T_0  # Feedtemperatur\n",
    "n_feed = 2  # Stufe der Feedzugabe\n",
    "dampfanteil = 0  # Dampfanteil Feed [0, 1]\n",
    "\n",
    "K = 50  # Kopfstrom [mol/h]\n",
    "nue = 1  # Rücklaufverhältnis"
   ]
  },
  {
   "cell_type": "markdown",
   "metadata": {},
   "source": [
    "## Stoffdaten einlesen\n",
    "Gebraucht werden die allgemeinen Daten, sowie die Daten zur Berechnung des Dampfdrucks."
   ]
  },
  {
   "cell_type": "code",
   "execution_count": 6,
   "metadata": {},
   "outputs": [
    {
     "data": {
      "text/markdown": [
       "**Allgemeine Stoffdaten**"
      ],
      "text/plain": [
       "<IPython.core.display.Markdown object>"
      ]
     },
     "metadata": {},
     "output_type": "display_data"
    },
    {
     "data": {
      "text/html": [
       "<div>\n",
       "<style scoped>\n",
       "    .dataframe tbody tr th:only-of-type {\n",
       "        vertical-align: middle;\n",
       "    }\n",
       "\n",
       "    .dataframe tbody tr th {\n",
       "        vertical-align: top;\n",
       "    }\n",
       "\n",
       "    .dataframe thead th {\n",
       "        text-align: right;\n",
       "    }\n",
       "</style>\n",
       "<table border=\"1\" class=\"dataframe\">\n",
       "  <thead>\n",
       "    <tr style=\"text-align: right;\">\n",
       "      <th></th>\n",
       "      <th>Formula</th>\n",
       "      <th>Tc</th>\n",
       "      <th>Pc</th>\n",
       "      <th>Dh0f</th>\n",
       "    </tr>\n",
       "    <tr>\n",
       "      <th>Substance German</th>\n",
       "      <th></th>\n",
       "      <th></th>\n",
       "      <th></th>\n",
       "      <th></th>\n",
       "    </tr>\n",
       "  </thead>\n",
       "  <tbody>\n",
       "    <tr>\n",
       "      <th>Methanol</th>\n",
       "      <td>CH3OH</td>\n",
       "      <td>513.38</td>\n",
       "      <td>82.159</td>\n",
       "      <td>-201160</td>\n",
       "    </tr>\n",
       "    <tr>\n",
       "      <th>Ethanol</th>\n",
       "      <td>C2H5OH</td>\n",
       "      <td>513.90</td>\n",
       "      <td>61.480</td>\n",
       "      <td>-234800</td>\n",
       "    </tr>\n",
       "    <tr>\n",
       "      <th>n-Propanol</th>\n",
       "      <td>CH3-CH2-CH2-OH</td>\n",
       "      <td>536.75</td>\n",
       "      <td>51.750</td>\n",
       "      <td>-255200</td>\n",
       "    </tr>\n",
       "  </tbody>\n",
       "</table>\n",
       "</div>"
      ],
      "text/latex": [
       "\\begin{tabular}{lllll}\n",
       "\\toprule\n",
       "{} &         Formula &     Tc &     Pc &     Dh0f \\\\\n",
       "Substance German &                 &        &        &          \\\\\n",
       "\\midrule\n",
       "Methanol         &           CH3OH & 513.38 & 82.159 &  -201160 \\\\\n",
       "Ethanol          &          C2H5OH & 513.90 & 61.480 &  -234800 \\\\\n",
       "n-Propanol       &  CH3-CH2-CH2-OH & 536.75 & 51.750 &  -255200 \\\\\n",
       "\\bottomrule\n",
       "\\end{tabular}\n"
      ],
      "text/plain": [
       "                         Formula     Tc     Pc     Dh0f\n",
       "Substance German                                       \n",
       "Methanol                   CH3OH 513.38 82.159  -201160\n",
       "Ethanol                   C2H5OH 513.90 61.480  -234800\n",
       "n-Propanol        CH3-CH2-CH2-OH 536.75 51.750  -255200"
      ]
     },
     "metadata": {},
     "output_type": "display_data"
    },
    {
     "name": "stdout",
     "output_type": "stream",
     "text": [
      "\n"
     ]
    },
    {
     "data": {
      "text/markdown": [
       "**Koeffizienten zur Dampfdruckberechnung (Wagner-Gleichung)**"
      ],
      "text/plain": [
       "<IPython.core.display.Markdown object>"
      ]
     },
     "metadata": {},
     "output_type": "display_data"
    },
    {
     "data": {
      "text/html": [
       "<div>\n",
       "<style scoped>\n",
       "    .dataframe tbody tr th:only-of-type {\n",
       "        vertical-align: middle;\n",
       "    }\n",
       "\n",
       "    .dataframe tbody tr th {\n",
       "        vertical-align: top;\n",
       "    }\n",
       "\n",
       "    .dataframe thead th {\n",
       "        text-align: right;\n",
       "    }\n",
       "</style>\n",
       "<table border=\"1\" class=\"dataframe\">\n",
       "  <thead>\n",
       "    <tr style=\"text-align: right;\">\n",
       "      <th></th>\n",
       "      <th>Formula</th>\n",
       "      <th>A</th>\n",
       "      <th>B</th>\n",
       "      <th>C</th>\n",
       "      <th>D</th>\n",
       "    </tr>\n",
       "    <tr>\n",
       "      <th>Substance German</th>\n",
       "      <th></th>\n",
       "      <th></th>\n",
       "      <th></th>\n",
       "      <th></th>\n",
       "      <th></th>\n",
       "    </tr>\n",
       "  </thead>\n",
       "  <tbody>\n",
       "    <tr>\n",
       "      <th>Methanol</th>\n",
       "      <td>CH3OH</td>\n",
       "      <td>-8.727</td>\n",
       "      <td>1.450</td>\n",
       "      <td>-2.772</td>\n",
       "      <td>-0.724</td>\n",
       "    </tr>\n",
       "    <tr>\n",
       "      <th>Ethanol</th>\n",
       "      <td>C2H5OH</td>\n",
       "      <td>-8.338</td>\n",
       "      <td>0.087</td>\n",
       "      <td>-3.306</td>\n",
       "      <td>-0.260</td>\n",
       "    </tr>\n",
       "    <tr>\n",
       "      <th>n-Propanol</th>\n",
       "      <td>CH3-CH2-CH2-OH</td>\n",
       "      <td>-8.607</td>\n",
       "      <td>2.174</td>\n",
       "      <td>-8.047</td>\n",
       "      <td>3.692</td>\n",
       "    </tr>\n",
       "  </tbody>\n",
       "</table>\n",
       "</div>"
      ],
      "text/latex": [
       "\\begin{tabular}{llrrrr}\n",
       "\\toprule\n",
       "{} &         Formula &      A &     B &      C &      D \\\\\n",
       "Substance German &                 &        &       &        &        \\\\\n",
       "\\midrule\n",
       "Methanol         &           CH3OH & -8.727 & 1.450 & -2.772 & -0.724 \\\\\n",
       "Ethanol          &          C2H5OH & -8.338 & 0.087 & -3.306 & -0.260 \\\\\n",
       "n-Propanol       &  CH3-CH2-CH2-OH & -8.607 & 2.174 & -8.047 &  3.692 \\\\\n",
       "\\bottomrule\n",
       "\\end{tabular}\n"
      ],
      "text/plain": [
       "                         Formula      A     B      C      D\n",
       "Substance German                                           \n",
       "Methanol                   CH3OH -8.727 1.450 -2.772 -0.724\n",
       "Ethanol                   C2H5OH -8.338 0.087 -3.306 -0.260\n",
       "n-Propanol        CH3-CH2-CH2-OH -8.607 2.174 -8.047  3.692"
      ]
     },
     "metadata": {},
     "output_type": "display_data"
    }
   ],
   "source": [
    "# allgemein\n",
    "columns_general = [\"Substance German\", \"Formula\", \"Tc\", \"Pc\", \"Dh0f\"]\n",
    "df_general = get_component_data(comp_name, 'allgemein', columns_general)\n",
    "display(Markdown('**Allgemeine Stoffdaten**'))\n",
    "display(df_general)\n",
    "print()\n",
    "\n",
    "\n",
    "# Dampfdruck\n",
    "columns_p_vap = [\"Substance German\", \"Formula\", \"A\", \"B\", \"C\", \"D\"]\n",
    "df_p_vap = get_component_data(comp_name, 'Dampfdruck', columns_p_vap)\n",
    "display(Markdown('**Koeffizienten zur Dampfdruckberechnung (Wagner-Gleichung)**'))\n",
    "display(df_p_vap)"
   ]
  },
  {
   "cell_type": "markdown",
   "metadata": {},
   "source": [
    "## <a name=\"berechnungen\"></a>Berechnungen"
   ]
  },
  {
   "cell_type": "code",
   "execution_count": 7,
   "metadata": {},
   "outputs": [],
   "source": [
    "# Abschätzung der Molströme mit der Annahme eines äquimolaren Stofftransports\n",
    "G_j, L_j = estimate_flux_cmo(n, F, K, nue, dampfanteil, n_feed)\n",
    "\n",
    "# Berechnung der Dampfdrücke der für jeden Kolonnenboden    \n",
    "df_properties = df_general.merge(df_p_vap, on=['Substance German', 'Formula'])\n",
    "p_vap_trays = calc_p_vap_trays(T, comp_name, df_properties)\n",
    "\n",
    "# Berechnung der Gleichgewichtskoeffizienten\n",
    "K_ji = p_vap_trays / p_ges\n",
    "\n",
    "# Berechnung der Absorptionskoeffizienten\n",
    "A_ji = (L_j / G_j) / K_ji\n",
    "if total_condenser:\n",
    "    A_ji[0, :] = nue\n",
    "if total_reboiler:\n",
    "    A_ji[n - 1, :] = L_j[n - 1] / G_j[n - 1]\n",
    "\n",
    "# Befüllen des Lösungsvektors L_i\n",
    "L_i = calc_L_i(F, z_F, n_feed, dampfanteil, T_F, p_ges, comp_name, df_properties, n, m)\n",
    "\n",
    "# Berechnung Komponentenströme\n",
    "v_ji = calc_v_ji(A_ji, L_i, n, m)\n",
    "V_j_calc = np.sum(v_ji, axis=1)[:, np.newaxis]\n",
    "l_ji = v_ji * A_ji\n",
    "L_j_calc = np.sum(l_ji, axis=1)[:, np.newaxis]\n",
    "\n",
    "# print(l_ji[-1]+v_ji[0]) # Überprüft Komponentenbilanz; muss z_F*F_Feed entsprechen\n",
    "\n",
    "# Berechnung der Zusammensetzung von Gas- und Flüssigphase\n",
    "y_ji = v_ji / V_j_calc\n",
    "x_ji = l_ji / L_j_calc\n"
   ]
  },
  {
   "cell_type": "markdown",
   "metadata": {},
   "source": [
    "## <a name='zusammenfassung-der-ergebnisse'></a> Zusammenfassung der Ergebnisse"
   ]
  },
  {
   "cell_type": "code",
   "execution_count": 8,
   "metadata": {},
   "outputs": [
    {
     "data": {
      "text/markdown": [
       "### <a name=\"ausgabe-der-ergebnisse\"></a> Ausgabe der Ergebnisse"
      ],
      "text/plain": [
       "<IPython.core.display.Markdown object>"
      ]
     },
     "metadata": {},
     "output_type": "display_data"
    },
    {
     "data": {
      "text/markdown": [
       "**Parameter Rektifikation**"
      ],
      "text/plain": [
       "<IPython.core.display.Markdown object>"
      ]
     },
     "metadata": {},
     "output_type": "display_data"
    },
    {
     "name": "stdout",
     "output_type": "stream",
     "text": [
      "Namen der Komponenten:\t ['Methanol' 'Ethanol' 'n-Propanol']\n",
      "Anzahl Komponenten:\t 3\n",
      "\n",
      "Anzahl Kolonnenstufen:\t 5\n",
      "Totalkondensator:\t Ja \n",
      "Totalverdampfer:\t Nein \n",
      "\n",
      "Kolonnentemperatur [K]:\t [310.93 310.93 310.93 310.93 310.93]\n",
      "Gesamtdruck Kolonne [bar]:\t 1.013\n",
      "\n",
      "Feedstrom [mol/h]:\t 100.0\n",
      "Feedzusammensetzung:\t [0.333 0.333 0.333]\n",
      "Feedtemperatur [K]:\t 310.93\n",
      "Stufe der Feedzugabe:\t 2\n",
      "Dampfanteil im Feed:\t 0\n",
      "\n",
      "Kopfstrom [mol/h]:\t 50\n",
      "Rücklaufverhältnis:\t 1\n",
      "\n"
     ]
    },
    {
     "data": {
      "text/markdown": [
       "**Stoffströme - Erste Abschätzung**"
      ],
      "text/plain": [
       "<IPython.core.display.Markdown object>"
      ]
     },
     "metadata": {},
     "output_type": "display_data"
    },
    {
     "data": {
      "text/html": [
       "<div>\n",
       "<style scoped>\n",
       "    .dataframe tbody tr th:only-of-type {\n",
       "        vertical-align: middle;\n",
       "    }\n",
       "\n",
       "    .dataframe tbody tr th {\n",
       "        vertical-align: top;\n",
       "    }\n",
       "\n",
       "    .dataframe thead th {\n",
       "        text-align: right;\n",
       "    }\n",
       "</style>\n",
       "<table border=\"1\" class=\"dataframe\">\n",
       "  <thead>\n",
       "    <tr style=\"text-align: right;\">\n",
       "      <th></th>\n",
       "      <th>G Flux estimate [mol/h]</th>\n",
       "      <th>L Flux estimate[mol/h]</th>\n",
       "    </tr>\n",
       "  </thead>\n",
       "  <tbody>\n",
       "    <tr>\n",
       "      <th>0</th>\n",
       "      <td>50.000</td>\n",
       "      <td>50.000</td>\n",
       "    </tr>\n",
       "    <tr>\n",
       "      <th>1</th>\n",
       "      <td>100.000</td>\n",
       "      <td>50.000</td>\n",
       "    </tr>\n",
       "    <tr>\n",
       "      <th>2</th>\n",
       "      <td>100.000</td>\n",
       "      <td>150.000</td>\n",
       "    </tr>\n",
       "    <tr>\n",
       "      <th>3</th>\n",
       "      <td>100.000</td>\n",
       "      <td>150.000</td>\n",
       "    </tr>\n",
       "    <tr>\n",
       "      <th>4</th>\n",
       "      <td>100.000</td>\n",
       "      <td>50.000</td>\n",
       "    </tr>\n",
       "  </tbody>\n",
       "</table>\n",
       "</div>"
      ],
      "text/latex": [
       "\\begin{tabular}{lrr}\n",
       "\\toprule\n",
       "{} &  G Flux estimate [mol/h] &  L Flux estimate[mol/h] \\\\\n",
       "\\midrule\n",
       "0 &                   50.000 &                  50.000 \\\\\n",
       "1 &                  100.000 &                  50.000 \\\\\n",
       "2 &                  100.000 &                 150.000 \\\\\n",
       "3 &                  100.000 &                 150.000 \\\\\n",
       "4 &                  100.000 &                  50.000 \\\\\n",
       "\\bottomrule\n",
       "\\end{tabular}\n"
      ],
      "text/plain": [
       "   G Flux estimate [mol/h]  L Flux estimate[mol/h]\n",
       "0                   50.000                  50.000\n",
       "1                  100.000                  50.000\n",
       "2                  100.000                 150.000\n",
       "3                  100.000                 150.000\n",
       "4                  100.000                  50.000"
      ]
     },
     "metadata": {},
     "output_type": "display_data"
    },
    {
     "name": "stdout",
     "output_type": "stream",
     "text": [
      "\n"
     ]
    },
    {
     "data": {
      "text/markdown": [
       "**Stoffströme - Berechnet**"
      ],
      "text/plain": [
       "<IPython.core.display.Markdown object>"
      ]
     },
     "metadata": {},
     "output_type": "display_data"
    },
    {
     "data": {
      "text/html": [
       "<div>\n",
       "<style scoped>\n",
       "    .dataframe tbody tr th:only-of-type {\n",
       "        vertical-align: middle;\n",
       "    }\n",
       "\n",
       "    .dataframe tbody tr th {\n",
       "        vertical-align: top;\n",
       "    }\n",
       "\n",
       "    .dataframe thead th {\n",
       "        text-align: right;\n",
       "    }\n",
       "</style>\n",
       "<table border=\"1\" class=\"dataframe\">\n",
       "  <thead>\n",
       "    <tr style=\"text-align: right;\">\n",
       "      <th></th>\n",
       "      <th>G Flux calc[mol/h]</th>\n",
       "      <th>L Flux calc[mol/h]</th>\n",
       "    </tr>\n",
       "  </thead>\n",
       "  <tbody>\n",
       "    <tr>\n",
       "      <th>0</th>\n",
       "      <td>2.743</td>\n",
       "      <td>2.743</td>\n",
       "    </tr>\n",
       "    <tr>\n",
       "      <th>1</th>\n",
       "      <td>5.486</td>\n",
       "      <td>11.448</td>\n",
       "    </tr>\n",
       "    <tr>\n",
       "      <th>2</th>\n",
       "      <td>14.191</td>\n",
       "      <td>114.062</td>\n",
       "    </tr>\n",
       "    <tr>\n",
       "      <th>3</th>\n",
       "      <td>16.806</td>\n",
       "      <td>131.416</td>\n",
       "    </tr>\n",
       "    <tr>\n",
       "      <th>4</th>\n",
       "      <td>34.159</td>\n",
       "      <td>97.257</td>\n",
       "    </tr>\n",
       "  </tbody>\n",
       "</table>\n",
       "</div>"
      ],
      "text/latex": [
       "\\begin{tabular}{lrr}\n",
       "\\toprule\n",
       "{} &  G Flux calc[mol/h] &  L Flux calc[mol/h] \\\\\n",
       "\\midrule\n",
       "0 &               2.743 &               2.743 \\\\\n",
       "1 &               5.486 &              11.448 \\\\\n",
       "2 &              14.191 &             114.062 \\\\\n",
       "3 &              16.806 &             131.416 \\\\\n",
       "4 &              34.159 &              97.257 \\\\\n",
       "\\bottomrule\n",
       "\\end{tabular}\n"
      ],
      "text/plain": [
       "   G Flux calc[mol/h]  L Flux calc[mol/h]\n",
       "0               2.743               2.743\n",
       "1               5.486              11.448\n",
       "2              14.191             114.062\n",
       "3              16.806             131.416\n",
       "4              34.159              97.257"
      ]
     },
     "metadata": {},
     "output_type": "display_data"
    },
    {
     "name": "stdout",
     "output_type": "stream",
     "text": [
      "\n"
     ]
    },
    {
     "data": {
      "text/markdown": [
       "**Komponentenströme**"
      ],
      "text/plain": [
       "<IPython.core.display.Markdown object>"
      ]
     },
     "metadata": {},
     "output_type": "display_data"
    },
    {
     "data": {
      "text/html": [
       "<div>\n",
       "<style scoped>\n",
       "    .dataframe tbody tr th:only-of-type {\n",
       "        vertical-align: middle;\n",
       "    }\n",
       "\n",
       "    .dataframe tbody tr th {\n",
       "        vertical-align: top;\n",
       "    }\n",
       "\n",
       "    .dataframe thead th {\n",
       "        text-align: right;\n",
       "    }\n",
       "</style>\n",
       "<table border=\"1\" class=\"dataframe\">\n",
       "  <thead>\n",
       "    <tr style=\"text-align: right;\">\n",
       "      <th></th>\n",
       "      <th>v_Methanol</th>\n",
       "      <th>v_Ethanol</th>\n",
       "      <th>v_n-Propanol</th>\n",
       "    </tr>\n",
       "  </thead>\n",
       "  <tbody>\n",
       "    <tr>\n",
       "      <th>0</th>\n",
       "      <td>2.122</td>\n",
       "      <td>0.541</td>\n",
       "      <td>0.080</td>\n",
       "    </tr>\n",
       "    <tr>\n",
       "      <th>1</th>\n",
       "      <td>4.244</td>\n",
       "      <td>1.082</td>\n",
       "      <td>0.160</td>\n",
       "    </tr>\n",
       "    <tr>\n",
       "      <th>2</th>\n",
       "      <td>8.837</td>\n",
       "      <td>3.951</td>\n",
       "      <td>1.403</td>\n",
       "    </tr>\n",
       "    <tr>\n",
       "      <th>3</th>\n",
       "      <td>10.732</td>\n",
       "      <td>4.568</td>\n",
       "      <td>1.505</td>\n",
       "    </tr>\n",
       "    <tr>\n",
       "      <th>4</th>\n",
       "      <td>19.728</td>\n",
       "      <td>10.404</td>\n",
       "      <td>4.027</td>\n",
       "    </tr>\n",
       "  </tbody>\n",
       "</table>\n",
       "</div>"
      ],
      "text/latex": [
       "\\begin{tabular}{lrrr}\n",
       "\\toprule\n",
       "{} &  v\\_Methanol &  v\\_Ethanol &  v\\_n-Propanol \\\\\n",
       "\\midrule\n",
       "0 &       2.122 &      0.541 &         0.080 \\\\\n",
       "1 &       4.244 &      1.082 &         0.160 \\\\\n",
       "2 &       8.837 &      3.951 &         1.403 \\\\\n",
       "3 &      10.732 &      4.568 &         1.505 \\\\\n",
       "4 &      19.728 &     10.404 &         4.027 \\\\\n",
       "\\bottomrule\n",
       "\\end{tabular}\n"
      ],
      "text/plain": [
       "   v_Methanol  v_Ethanol  v_n-Propanol\n",
       "0       2.122      0.541         0.080\n",
       "1       4.244      1.082         0.160\n",
       "2       8.837      3.951         1.403\n",
       "3      10.732      4.568         1.505\n",
       "4      19.728     10.404         4.027"
      ]
     },
     "metadata": {},
     "output_type": "display_data"
    },
    {
     "data": {
      "text/html": [
       "<div>\n",
       "<style scoped>\n",
       "    .dataframe tbody tr th:only-of-type {\n",
       "        vertical-align: middle;\n",
       "    }\n",
       "\n",
       "    .dataframe tbody tr th {\n",
       "        vertical-align: top;\n",
       "    }\n",
       "\n",
       "    .dataframe thead th {\n",
       "        text-align: right;\n",
       "    }\n",
       "</style>\n",
       "<table border=\"1\" class=\"dataframe\">\n",
       "  <thead>\n",
       "    <tr style=\"text-align: right;\">\n",
       "      <th></th>\n",
       "      <th>l_Methanol</th>\n",
       "      <th>l_Ethanol</th>\n",
       "      <th>l_n-Propanol</th>\n",
       "    </tr>\n",
       "  </thead>\n",
       "  <tbody>\n",
       "    <tr>\n",
       "      <th>0</th>\n",
       "      <td>2.122</td>\n",
       "      <td>0.541</td>\n",
       "      <td>0.080</td>\n",
       "    </tr>\n",
       "    <tr>\n",
       "      <th>1</th>\n",
       "      <td>6.715</td>\n",
       "      <td>3.410</td>\n",
       "      <td>1.323</td>\n",
       "    </tr>\n",
       "    <tr>\n",
       "      <th>2</th>\n",
       "      <td>41.943</td>\n",
       "      <td>37.361</td>\n",
       "      <td>34.758</td>\n",
       "    </tr>\n",
       "    <tr>\n",
       "      <th>3</th>\n",
       "      <td>50.939</td>\n",
       "      <td>43.197</td>\n",
       "      <td>37.281</td>\n",
       "    </tr>\n",
       "    <tr>\n",
       "      <th>4</th>\n",
       "      <td>31.211</td>\n",
       "      <td>32.792</td>\n",
       "      <td>33.253</td>\n",
       "    </tr>\n",
       "  </tbody>\n",
       "</table>\n",
       "</div>"
      ],
      "text/latex": [
       "\\begin{tabular}{lrrr}\n",
       "\\toprule\n",
       "{} &  l\\_Methanol &  l\\_Ethanol &  l\\_n-Propanol \\\\\n",
       "\\midrule\n",
       "0 &       2.122 &      0.541 &         0.080 \\\\\n",
       "1 &       6.715 &      3.410 &         1.323 \\\\\n",
       "2 &      41.943 &     37.361 &        34.758 \\\\\n",
       "3 &      50.939 &     43.197 &        37.281 \\\\\n",
       "4 &      31.211 &     32.792 &        33.253 \\\\\n",
       "\\bottomrule\n",
       "\\end{tabular}\n"
      ],
      "text/plain": [
       "   l_Methanol  l_Ethanol  l_n-Propanol\n",
       "0       2.122      0.541         0.080\n",
       "1       6.715      3.410         1.323\n",
       "2      41.943     37.361        34.758\n",
       "3      50.939     43.197        37.281\n",
       "4      31.211     32.792        33.253"
      ]
     },
     "metadata": {},
     "output_type": "display_data"
    },
    {
     "name": "stdout",
     "output_type": "stream",
     "text": [
      "\n"
     ]
    },
    {
     "data": {
      "text/markdown": [
       "**Zusammensetzung**"
      ],
      "text/plain": [
       "<IPython.core.display.Markdown object>"
      ]
     },
     "metadata": {},
     "output_type": "display_data"
    },
    {
     "data": {
      "text/html": [
       "<div>\n",
       "<style scoped>\n",
       "    .dataframe tbody tr th:only-of-type {\n",
       "        vertical-align: middle;\n",
       "    }\n",
       "\n",
       "    .dataframe tbody tr th {\n",
       "        vertical-align: top;\n",
       "    }\n",
       "\n",
       "    .dataframe thead th {\n",
       "        text-align: right;\n",
       "    }\n",
       "</style>\n",
       "<table border=\"1\" class=\"dataframe\">\n",
       "  <thead>\n",
       "    <tr style=\"text-align: right;\">\n",
       "      <th></th>\n",
       "      <th>y_Methanol</th>\n",
       "      <th>y_Ethanol</th>\n",
       "      <th>y_n-Propanol</th>\n",
       "    </tr>\n",
       "  </thead>\n",
       "  <tbody>\n",
       "    <tr>\n",
       "      <th>0</th>\n",
       "      <td>0.774</td>\n",
       "      <td>0.197</td>\n",
       "      <td>0.029</td>\n",
       "    </tr>\n",
       "    <tr>\n",
       "      <th>1</th>\n",
       "      <td>0.774</td>\n",
       "      <td>0.197</td>\n",
       "      <td>0.029</td>\n",
       "    </tr>\n",
       "    <tr>\n",
       "      <th>2</th>\n",
       "      <td>0.623</td>\n",
       "      <td>0.278</td>\n",
       "      <td>0.099</td>\n",
       "    </tr>\n",
       "    <tr>\n",
       "      <th>3</th>\n",
       "      <td>0.639</td>\n",
       "      <td>0.272</td>\n",
       "      <td>0.090</td>\n",
       "    </tr>\n",
       "    <tr>\n",
       "      <th>4</th>\n",
       "      <td>0.578</td>\n",
       "      <td>0.305</td>\n",
       "      <td>0.118</td>\n",
       "    </tr>\n",
       "  </tbody>\n",
       "</table>\n",
       "</div>"
      ],
      "text/latex": [
       "\\begin{tabular}{lrrr}\n",
       "\\toprule\n",
       "{} &  y\\_Methanol &  y\\_Ethanol &  y\\_n-Propanol \\\\\n",
       "\\midrule\n",
       "0 &       0.774 &      0.197 &         0.029 \\\\\n",
       "1 &       0.774 &      0.197 &         0.029 \\\\\n",
       "2 &       0.623 &      0.278 &         0.099 \\\\\n",
       "3 &       0.639 &      0.272 &         0.090 \\\\\n",
       "4 &       0.578 &      0.305 &         0.118 \\\\\n",
       "\\bottomrule\n",
       "\\end{tabular}\n"
      ],
      "text/plain": [
       "   y_Methanol  y_Ethanol  y_n-Propanol\n",
       "0       0.774      0.197         0.029\n",
       "1       0.774      0.197         0.029\n",
       "2       0.623      0.278         0.099\n",
       "3       0.639      0.272         0.090\n",
       "4       0.578      0.305         0.118"
      ]
     },
     "metadata": {},
     "output_type": "display_data"
    },
    {
     "data": {
      "text/html": [
       "<div>\n",
       "<style scoped>\n",
       "    .dataframe tbody tr th:only-of-type {\n",
       "        vertical-align: middle;\n",
       "    }\n",
       "\n",
       "    .dataframe tbody tr th {\n",
       "        vertical-align: top;\n",
       "    }\n",
       "\n",
       "    .dataframe thead th {\n",
       "        text-align: right;\n",
       "    }\n",
       "</style>\n",
       "<table border=\"1\" class=\"dataframe\">\n",
       "  <thead>\n",
       "    <tr style=\"text-align: right;\">\n",
       "      <th></th>\n",
       "      <th>x_Methanol</th>\n",
       "      <th>x_Ethanol</th>\n",
       "      <th>x_n-Propanol</th>\n",
       "    </tr>\n",
       "  </thead>\n",
       "  <tbody>\n",
       "    <tr>\n",
       "      <th>0</th>\n",
       "      <td>0.774</td>\n",
       "      <td>0.197</td>\n",
       "      <td>0.029</td>\n",
       "    </tr>\n",
       "    <tr>\n",
       "      <th>1</th>\n",
       "      <td>0.587</td>\n",
       "      <td>0.298</td>\n",
       "      <td>0.116</td>\n",
       "    </tr>\n",
       "    <tr>\n",
       "      <th>2</th>\n",
       "      <td>0.368</td>\n",
       "      <td>0.328</td>\n",
       "      <td>0.305</td>\n",
       "    </tr>\n",
       "    <tr>\n",
       "      <th>3</th>\n",
       "      <td>0.388</td>\n",
       "      <td>0.329</td>\n",
       "      <td>0.284</td>\n",
       "    </tr>\n",
       "    <tr>\n",
       "      <th>4</th>\n",
       "      <td>0.321</td>\n",
       "      <td>0.337</td>\n",
       "      <td>0.342</td>\n",
       "    </tr>\n",
       "  </tbody>\n",
       "</table>\n",
       "</div>"
      ],
      "text/latex": [
       "\\begin{tabular}{lrrr}\n",
       "\\toprule\n",
       "{} &  x\\_Methanol &  x\\_Ethanol &  x\\_n-Propanol \\\\\n",
       "\\midrule\n",
       "0 &       0.774 &      0.197 &         0.029 \\\\\n",
       "1 &       0.587 &      0.298 &         0.116 \\\\\n",
       "2 &       0.368 &      0.328 &         0.305 \\\\\n",
       "3 &       0.388 &      0.329 &         0.284 \\\\\n",
       "4 &       0.321 &      0.337 &         0.342 \\\\\n",
       "\\bottomrule\n",
       "\\end{tabular}\n"
      ],
      "text/plain": [
       "   x_Methanol  x_Ethanol  x_n-Propanol\n",
       "0       0.774      0.197         0.029\n",
       "1       0.587      0.298         0.116\n",
       "2       0.368      0.328         0.305\n",
       "3       0.388      0.329         0.284\n",
       "4       0.321      0.337         0.342"
      ]
     },
     "metadata": {},
     "output_type": "display_data"
    }
   ],
   "source": [
    "def add_prefix_list(prefix, l):\n",
    "    return [prefix + item for item in l]\n",
    "\n",
    "\n",
    "df_G_j = pd.DataFrame(data=G_j, columns=['G Flux estimate [mol/h]'])\n",
    "df_L_j = pd.DataFrame(data=L_j, columns=['L Flux estimate[mol/h]'])\n",
    "df_V_j_calc = pd.DataFrame(data=V_j_calc, columns=['G Flux calc[mol/h]'])\n",
    "df_L_j_calc = pd.DataFrame(data=L_j_calc, columns=['L Flux calc[mol/h]'])\n",
    "df_v_ji = pd.DataFrame(data=v_ji, columns=add_prefix_list('v_', comp_name))\n",
    "df_l_ji = pd.DataFrame(data=l_ji, columns=add_prefix_list('l_', comp_name))\n",
    "df_y_ji = pd.DataFrame(data=y_ji, columns=add_prefix_list('y_', comp_name))\n",
    "df_x_ji = pd.DataFrame(data=x_ji, columns=add_prefix_list('x_', comp_name))\n",
    "\n",
    "\n",
    "# Ausgabe der Anfangsparameter\n",
    "display(Markdown('### <a name=\"ausgabe-der-ergebnisse\"></a> Ausgabe der Ergebnisse'))\n",
    "display(Markdown('**Parameter Rektifikation**'))\n",
    "print(f\"Namen der Komponenten:\\t {comp_name}\")\n",
    "print(\"Anzahl Komponenten:\\t\", m)\n",
    "print()\n",
    "print(\"Anzahl Kolonnenstufen:\\t\", n)\n",
    "print(f\"Totalkondensator:\\t {'Ja' if total_condenser else 'Nein'} \")\n",
    "print(f\"Totalverdampfer:\\t {'Ja' if total_reboiler else 'Nein'} \")\n",
    "print()\n",
    "print(f\"Kolonnentemperatur [K]:\\t {T}\")\n",
    "print(\"Gesamtdruck Kolonne [bar]:\\t\", p_ges)\n",
    "print()\n",
    "print(\"Feedstrom [mol/h]:\\t\", F)\n",
    "print(f\"Feedzusammensetzung:\\t\", z_F)\n",
    "print(\"Feedtemperatur [K]:\\t\", T_F)\n",
    "print(\"Stufe der Feedzugabe:\\t\", n_feed)\n",
    "print(\"Dampfanteil im Feed:\\t\", dampfanteil)\n",
    "print()\n",
    "print(\"Kopfstrom [mol/h]:\\t\", K)\n",
    "print(\"Rücklaufverhältnis:\\t\", nue)\n",
    "print()\n",
    "\n",
    "display(Markdown('**Stoffströme - Erste Abschätzung**'))\n",
    "display(df_G_j.join(df_L_j))\n",
    "print()\n",
    "\n",
    "display(Markdown('**Stoffströme - Berechnet**'))\n",
    "display(df_V_j_calc.join(df_L_j_calc))\n",
    "print()\n",
    "\n",
    "display(Markdown('**Komponentenströme**'))\n",
    "display(df_v_ji)\n",
    "display(df_l_ji)\n",
    "print()\n",
    "\n",
    "display(Markdown('**Zusammensetzung**'))\n",
    "display(df_y_ji)\n",
    "display(df_x_ji)\n"
   ]
  },
  {
   "cell_type": "markdown",
   "metadata": {},
   "source": [
    "Aus diesen Ergebnissen wird ersichtlich, dass mit den angegeben Parametern (vor allem Temperatur und Druck) kein Kopfstom von 50 mol/h erreicht werden kann."
   ]
  },
  {
   "cell_type": "markdown",
   "metadata": {},
   "source": [
    "## Ausgabe als Excel Datei"
   ]
  },
  {
   "cell_type": "code",
   "execution_count": 9,
   "metadata": {},
   "outputs": [],
   "source": [
    "with pd.ExcelWriter('output.xlsx') as writer:\n",
    "    df_G_j.join([df_L_j, df_V_j_calc, df_L_j_calc]).to_excel(writer, sheet_name='total_flux', index=False)\n",
    "    df_v_ji.join(df_l_ji).to_excel(writer, sheet_name='comp_flux', index=False)\n",
    "    df_y_ji.join(df_x_ji).to_excel(writer, sheet_name='composition', index=False)"
   ]
  }
 ],
 "metadata": {
  "kernelspec": {
   "display_name": "Python 3",
   "language": "python",
   "name": "python3"
  },
  "language_info": {
   "codemirror_mode": {
    "name": "ipython",
    "version": 3
   },
   "file_extension": ".py",
   "mimetype": "text/x-python",
   "name": "python",
   "nbconvert_exporter": "python",
   "pygments_lexer": "ipython3",
   "version": "3.7.9"
  }
 },
 "nbformat": 4,
 "nbformat_minor": 4
}
